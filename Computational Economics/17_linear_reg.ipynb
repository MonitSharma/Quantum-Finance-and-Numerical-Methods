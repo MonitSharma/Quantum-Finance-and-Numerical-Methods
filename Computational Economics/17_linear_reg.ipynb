{
 "cells": [
  {
   "cell_type": "markdown",
   "metadata": {
    "slideshow": {
     "slide_type": "slide"
    }
   },
   "source": [
    "# Foundations of Computational Economics #17\n",
    "\n",
    "by Fedor Iskhakov, ANU\n",
    "\n",
    "<img src=\"_static/img/dag3logo.png\" style=\"width:256px;\">"
   ]
  },
  {
   "cell_type": "markdown",
   "metadata": {
    "slideshow": {
     "slide_type": "fragment"
    }
   },
   "source": [
    "## Linear regression using Pandas and Numpy\n",
    "\n",
    "<img src=\"_static/img/lab.png\" style=\"width:64px;\">"
   ]
  },
  {
   "cell_type": "markdown",
   "metadata": {
    "slideshow": {
     "slide_type": "subslide"
    }
   },
   "source": [
    "<img src=\"_static/img/youtube.png\" style=\"width:65px;\">\n",
    "\n",
    "[https://youtu.be/LafDXp28IRE](https://youtu.be/LafDXp28IRE)\n",
    "\n",
    "Description: Using Numpy and Pandas to estimate simple regression."
   ]
  },
  {
   "cell_type": "markdown",
   "metadata": {
    "slideshow": {
     "slide_type": "slide"
    }
   },
   "source": [
    "### Linear regression\n",
    "\n",
    "Recall the classic linear regression model with data in columns of\n",
    "$ (X,y) $, where $ X $ are independent variables and $ y $ is\n",
    "the dependent variable.\n",
    "Parameter vector to be estimated is $ \\beta $, and we assume that\n",
    "errors follow $ \\varepsilon \\sim N(0, \\sigma) $\n",
    "\n",
    "$$\n",
    "y = X \\beta + \\varepsilon \\quad \\quad \\varepsilon \\sim N(0, \\sigma)\n",
    "$$\n",
    "\n",
    "Let $ \\hat{\\beta} $ denote the estimate of the parameters $ \\beta $.\n",
    "To find it, we minimize the sum of squares of the residuals\n",
    "$ e = y - X \\hat{\\beta} $, i.e. $ e'e \\longrightarrow_{\\hat{\\beta}} \\min $,\n",
    "which leads to the well known OLS formula\n",
    "\n",
    "$$\n",
    "\\hat{\\beta} = (X'X)^{-1} X' y\n",
    "$$\n",
    "\n",
    "The mean standard error (MSE) of the regression is calculated as $ s = \\sqrt{\\frac{1}{n-k} e'e} $,\n",
    "where $ n $ is the number of observations and $ k $ is the number of parameters (elements in $ \\beta $).\n",
    "\n",
    "The variance-covariance matrix of the estimates is given by $ \\hat{\\Sigma} = s^2 (X'X)^{-1} $.\n",
    "The square root of the diagonal elements of this matrix are them standard deviations of the estimates, and give us the measure of the accuracy of the estimated parameters.\n",
    "\n",
    "[William Greene “Econometric Analysis”](https://books.google.com.au/books?id=LWQuAAAAQBAJ&dq=greene%20econometric%20analysis)"
   ]
  },
  {
   "cell_type": "code",
   "execution_count": 1,
   "metadata": {
    "hide-output": false,
    "slideshow": {
     "slide_type": "slide"
    }
   },
   "outputs": [],
   "source": [
    "import numpy as np\n",
    "def ols(X,y,addConstant=True,verbose=True):\n",
    "    '''Return the OLS estimates and their variance-covariance matrix for the given data X,y\n",
    "    When addConstant is True, constant is added to X\n",
    "    When verbose is True, a report is printed\n",
    "    '''\n",
    "    pass"
   ]
  },
  {
   "cell_type": "code",
   "execution_count": 2,
   "metadata": {
    "hide-output": false,
    "slideshow": {
     "slide_type": "slide"
    }
   },
   "outputs": [
    {
     "name": "stdout",
     "output_type": "stream",
     "text": [
      "Number of observations: 10\n",
      "Number of parameters: 3\n",
      "Parameter estimates (std in brackets)\n",
      "   2.18817 (   0.18051)\n",
      "   1.28565 (   0.04215)\n",
      "  -0.34394 (   0.02592)\n",
      "MSE = 0.18440\n",
      "\n",
      "Number of observations: 10\n",
      "Number of parameters: 2\n",
      "Parameter estimates (std in brackets)\n",
      "   1.67610 (   0.11924)\n",
      "  -0.12370 (   0.08107)\n",
      "MSE = 0.80889\n",
      "\n"
     ]
    }
   ],
   "source": [
    "# test on small dataset\n",
    "X = np.array([[5, 3],\n",
    "              [2, 3],\n",
    "              [3, 1],\n",
    "              [2, 8],\n",
    "              [4.5, 2.5],\n",
    "              [2.5, 1.5],\n",
    "              [4.3, 4.2],\n",
    "              [0.5, 3.5],\n",
    "              [1, 5],\n",
    "              [3, 8]])\n",
    "truebeta = np.array([1.234,-0.345])[:,np.newaxis]  # column vector\n",
    "y = X @ truebeta + 2.5 + np.random.normal(size=(X.shape[0],1),scale=0.2)\n",
    "\n",
    "beta,S=ols(X,y)\n",
    "beta,S=ols(X,y,addConstant=False)"
   ]
  },
  {
   "cell_type": "code",
   "execution_count": 3,
   "metadata": {
    "hide-output": false,
    "slideshow": {
     "slide_type": "slide"
    }
   },
   "outputs": [
    {
     "name": "stdout",
     "output_type": "stream",
     "text": [
      "Number of observations: 10\n",
      "Number of parameters: 2\n",
      "Parameter estimates (std in brackets)\n",
      "  10.38000 (   0.21096)\n",
      "  -1.00364 (   0.03400)\n",
      "MSE = 0.30881\n",
      "\n",
      "Number of observations: 10\n",
      "Number of parameters: 1\n",
      "Parameter estimates (std in brackets)\n",
      "   0.47922 (   0.25856)\n",
      "MSE = 5.07328\n",
      "\n"
     ]
    }
   ],
   "source": [
    "# test with one dimensional arrays\n",
    "X = np.array([1,2,3,4,5,6,7,8,9,10])\n",
    "y = np.array([9.4,8.1,7.7,6.3,5.7,4.4,3.0,2.1,1.1,0.8])\n",
    "\n",
    "beta,S=ols(X,y)\n",
    "beta,S=ols(X,y,addConstant=False)"
   ]
  },
  {
   "cell_type": "code",
   "execution_count": 1,
   "metadata": {
    "hide-output": false,
    "slideshow": {
     "slide_type": "slide"
    }
   },
   "outputs": [],
   "source": [
    "import numpy as np\n",
    "def ols(X,y,addConstant=True,verbose=True):\n",
    "    '''Return the OLS estimates and their variance-covariance matrix for the given data X,y\n",
    "    When addConstant is True, constant is added to X\n",
    "    When verbose is True, a report is printed\n",
    "    '''\n",
    "    y = y.squeeze()  # we are better off if y is one-dimensional\n",
    "    if addConstant and X.ndim==1:\n",
    "        X = np.hstack((np.ones(X.shape[0])[:,np.newaxis],X[:,np.newaxis]))\n",
    "        k = 2\n",
    "    elif addConstant and X.ndim>1:\n",
    "        X = np.hstack((np.ones(X.shape[0])[:,np.newaxis],X))\n",
    "        k = X.shape[1]+1\n",
    "    elif X.ndim==1:\n",
    "        X = X[:,np.newaxis]\n",
    "    xxinv = np.linalg.inv(X.T@X)  # inv(X'X)\n",
    "    beta = xxinv @ X.T@y  # OLS estimates\n",
    "    e = y - X@beta  # residuals\n",
    "    n,k = X.shape  # number of observations and parameters\n",
    "    s2 = e.T@e / (n-k)\n",
    "    Sigma = s2*xxinv\n",
    "    if verbose:\n",
    "        # report the estimates\n",
    "        print('Number of observations: {:d}\\nNumber of parameters: {:d}'.format(n,k))\n",
    "        print('Parameter estimates (std in brackets)')\n",
    "        for b,s in zip(beta,np.sqrt(np.diag(Sigma))):\n",
    "            print('{:10.5f} ({:10.5f})'.format(b,s))\n",
    "        print('MSE = {:1.5f}\\n'.format(np.sqrt(s2)))\n",
    "    return beta,Sigma"
   ]
  },
  {
   "cell_type": "markdown",
   "metadata": {
    "slideshow": {
     "slide_type": "slide"
    }
   },
   "source": [
    "### Data on median wages\n",
    "\n",
    "**The Economic Guide To Picking A College Major**\n",
    "\n",
    "Data dictionary available at\n",
    "\n",
    "[https://github.com/fivethirtyeight/data/tree/master/college-majors](https://github.com/fivethirtyeight/data/tree/master/college-majors)"
   ]
  },
  {
   "cell_type": "code",
   "execution_count": 5,
   "metadata": {
    "hide-output": false,
    "slideshow": {
     "slide_type": "fragment"
    }
   },
   "outputs": [],
   "source": [
    "import pandas as pd\n",
    "# same data as in video 15\n",
    "data = pd.read_csv('./_static/data/recent-grads.csv')"
   ]
  },
  {
   "cell_type": "code",
   "execution_count": 6,
   "metadata": {
    "hide-output": false,
    "slideshow": {
     "slide_type": "slide"
    }
   },
   "outputs": [
    {
     "name": "stdout",
     "output_type": "stream",
     "text": [
      "<class 'pandas.core.frame.DataFrame'>\n",
      "RangeIndex: 173 entries, 0 to 172\n",
      "Data columns (total 21 columns):\n",
      " #   Column                Non-Null Count  Dtype  \n",
      "---  ------                --------------  -----  \n",
      " 0   Rank                  173 non-null    int64  \n",
      " 1   Major_code            173 non-null    int64  \n",
      " 2   Major                 173 non-null    object \n",
      " 3   Total                 172 non-null    float64\n",
      " 4   Men                   172 non-null    float64\n",
      " 5   Women                 172 non-null    float64\n",
      " 6   Major_category        173 non-null    object \n",
      " 7   ShareWomen            172 non-null    float64\n",
      " 8   Sample_size           173 non-null    int64  \n",
      " 9   Employed              173 non-null    int64  \n",
      " 10  Full_time             173 non-null    int64  \n",
      " 11  Part_time             173 non-null    int64  \n",
      " 12  Full_time_year_round  173 non-null    int64  \n",
      " 13  Unemployed            173 non-null    int64  \n",
      " 14  Unemployment_rate     173 non-null    float64\n",
      " 15  Median                173 non-null    int64  \n",
      " 16  P25th                 173 non-null    int64  \n",
      " 17  P75th                 173 non-null    int64  \n",
      " 18  College_jobs          173 non-null    int64  \n",
      " 19  Non_college_jobs      173 non-null    int64  \n",
      " 20  Low_wage_jobs         173 non-null    int64  \n",
      "dtypes: float64(5), int64(14), object(2)\n",
      "memory usage: 28.5+ KB\n"
     ]
    }
   ],
   "source": [
    "data.info()"
   ]
  },
  {
   "cell_type": "code",
   "execution_count": 7,
   "metadata": {
    "hide-output": false,
    "slideshow": {
     "slide_type": "slide"
    }
   },
   "outputs": [
    {
     "data": {
      "text/html": [
       "<div>\n",
       "<style scoped>\n",
       "    .dataframe tbody tr th:only-of-type {\n",
       "        vertical-align: middle;\n",
       "    }\n",
       "\n",
       "    .dataframe tbody tr th {\n",
       "        vertical-align: top;\n",
       "    }\n",
       "\n",
       "    .dataframe thead th {\n",
       "        text-align: right;\n",
       "    }\n",
       "</style>\n",
       "<table border=\"1\" class=\"dataframe\">\n",
       "  <thead>\n",
       "    <tr style=\"text-align: right;\">\n",
       "      <th></th>\n",
       "      <th>Rank</th>\n",
       "      <th>Major_code</th>\n",
       "      <th>Major</th>\n",
       "      <th>Total</th>\n",
       "      <th>Men</th>\n",
       "      <th>Women</th>\n",
       "      <th>Major_category</th>\n",
       "      <th>ShareWomen</th>\n",
       "      <th>Sample_size</th>\n",
       "      <th>Employed</th>\n",
       "      <th>...</th>\n",
       "      <th>Part_time</th>\n",
       "      <th>Full_time_year_round</th>\n",
       "      <th>Unemployed</th>\n",
       "      <th>Unemployment_rate</th>\n",
       "      <th>Median</th>\n",
       "      <th>P25th</th>\n",
       "      <th>P75th</th>\n",
       "      <th>College_jobs</th>\n",
       "      <th>Non_college_jobs</th>\n",
       "      <th>Low_wage_jobs</th>\n",
       "    </tr>\n",
       "  </thead>\n",
       "  <tbody>\n",
       "    <tr>\n",
       "      <th>0</th>\n",
       "      <td>1</td>\n",
       "      <td>2419</td>\n",
       "      <td>PETROLEUM ENGINEERING</td>\n",
       "      <td>2339.0</td>\n",
       "      <td>2057.0</td>\n",
       "      <td>282.0</td>\n",
       "      <td>Engineering</td>\n",
       "      <td>0.120564</td>\n",
       "      <td>36</td>\n",
       "      <td>1976</td>\n",
       "      <td>...</td>\n",
       "      <td>270</td>\n",
       "      <td>1207</td>\n",
       "      <td>37</td>\n",
       "      <td>0.018381</td>\n",
       "      <td>110000</td>\n",
       "      <td>95000</td>\n",
       "      <td>125000</td>\n",
       "      <td>1534</td>\n",
       "      <td>364</td>\n",
       "      <td>193</td>\n",
       "    </tr>\n",
       "    <tr>\n",
       "      <th>1</th>\n",
       "      <td>2</td>\n",
       "      <td>2416</td>\n",
       "      <td>MINING AND MINERAL ENGINEERING</td>\n",
       "      <td>756.0</td>\n",
       "      <td>679.0</td>\n",
       "      <td>77.0</td>\n",
       "      <td>Engineering</td>\n",
       "      <td>0.101852</td>\n",
       "      <td>7</td>\n",
       "      <td>640</td>\n",
       "      <td>...</td>\n",
       "      <td>170</td>\n",
       "      <td>388</td>\n",
       "      <td>85</td>\n",
       "      <td>0.117241</td>\n",
       "      <td>75000</td>\n",
       "      <td>55000</td>\n",
       "      <td>90000</td>\n",
       "      <td>350</td>\n",
       "      <td>257</td>\n",
       "      <td>50</td>\n",
       "    </tr>\n",
       "    <tr>\n",
       "      <th>2</th>\n",
       "      <td>3</td>\n",
       "      <td>2415</td>\n",
       "      <td>METALLURGICAL ENGINEERING</td>\n",
       "      <td>856.0</td>\n",
       "      <td>725.0</td>\n",
       "      <td>131.0</td>\n",
       "      <td>Engineering</td>\n",
       "      <td>0.153037</td>\n",
       "      <td>3</td>\n",
       "      <td>648</td>\n",
       "      <td>...</td>\n",
       "      <td>133</td>\n",
       "      <td>340</td>\n",
       "      <td>16</td>\n",
       "      <td>0.024096</td>\n",
       "      <td>73000</td>\n",
       "      <td>50000</td>\n",
       "      <td>105000</td>\n",
       "      <td>456</td>\n",
       "      <td>176</td>\n",
       "      <td>0</td>\n",
       "    </tr>\n",
       "    <tr>\n",
       "      <th>3</th>\n",
       "      <td>4</td>\n",
       "      <td>2417</td>\n",
       "      <td>NAVAL ARCHITECTURE AND MARINE ENGINEERING</td>\n",
       "      <td>1258.0</td>\n",
       "      <td>1123.0</td>\n",
       "      <td>135.0</td>\n",
       "      <td>Engineering</td>\n",
       "      <td>0.107313</td>\n",
       "      <td>16</td>\n",
       "      <td>758</td>\n",
       "      <td>...</td>\n",
       "      <td>150</td>\n",
       "      <td>692</td>\n",
       "      <td>40</td>\n",
       "      <td>0.050125</td>\n",
       "      <td>70000</td>\n",
       "      <td>43000</td>\n",
       "      <td>80000</td>\n",
       "      <td>529</td>\n",
       "      <td>102</td>\n",
       "      <td>0</td>\n",
       "    </tr>\n",
       "    <tr>\n",
       "      <th>4</th>\n",
       "      <td>5</td>\n",
       "      <td>2405</td>\n",
       "      <td>CHEMICAL ENGINEERING</td>\n",
       "      <td>32260.0</td>\n",
       "      <td>21239.0</td>\n",
       "      <td>11021.0</td>\n",
       "      <td>Engineering</td>\n",
       "      <td>0.341631</td>\n",
       "      <td>289</td>\n",
       "      <td>25694</td>\n",
       "      <td>...</td>\n",
       "      <td>5180</td>\n",
       "      <td>16697</td>\n",
       "      <td>1672</td>\n",
       "      <td>0.061098</td>\n",
       "      <td>65000</td>\n",
       "      <td>50000</td>\n",
       "      <td>75000</td>\n",
       "      <td>18314</td>\n",
       "      <td>4440</td>\n",
       "      <td>972</td>\n",
       "    </tr>\n",
       "    <tr>\n",
       "      <th>5</th>\n",
       "      <td>6</td>\n",
       "      <td>2418</td>\n",
       "      <td>NUCLEAR ENGINEERING</td>\n",
       "      <td>2573.0</td>\n",
       "      <td>2200.0</td>\n",
       "      <td>373.0</td>\n",
       "      <td>Engineering</td>\n",
       "      <td>0.144967</td>\n",
       "      <td>17</td>\n",
       "      <td>1857</td>\n",
       "      <td>...</td>\n",
       "      <td>264</td>\n",
       "      <td>1449</td>\n",
       "      <td>400</td>\n",
       "      <td>0.177226</td>\n",
       "      <td>65000</td>\n",
       "      <td>50000</td>\n",
       "      <td>102000</td>\n",
       "      <td>1142</td>\n",
       "      <td>657</td>\n",
       "      <td>244</td>\n",
       "    </tr>\n",
       "    <tr>\n",
       "      <th>6</th>\n",
       "      <td>7</td>\n",
       "      <td>6202</td>\n",
       "      <td>ACTUARIAL SCIENCE</td>\n",
       "      <td>3777.0</td>\n",
       "      <td>2110.0</td>\n",
       "      <td>1667.0</td>\n",
       "      <td>Business</td>\n",
       "      <td>0.441356</td>\n",
       "      <td>51</td>\n",
       "      <td>2912</td>\n",
       "      <td>...</td>\n",
       "      <td>296</td>\n",
       "      <td>2482</td>\n",
       "      <td>308</td>\n",
       "      <td>0.095652</td>\n",
       "      <td>62000</td>\n",
       "      <td>53000</td>\n",
       "      <td>72000</td>\n",
       "      <td>1768</td>\n",
       "      <td>314</td>\n",
       "      <td>259</td>\n",
       "    </tr>\n",
       "    <tr>\n",
       "      <th>7</th>\n",
       "      <td>8</td>\n",
       "      <td>5001</td>\n",
       "      <td>ASTRONOMY AND ASTROPHYSICS</td>\n",
       "      <td>1792.0</td>\n",
       "      <td>832.0</td>\n",
       "      <td>960.0</td>\n",
       "      <td>Physical Sciences</td>\n",
       "      <td>0.535714</td>\n",
       "      <td>10</td>\n",
       "      <td>1526</td>\n",
       "      <td>...</td>\n",
       "      <td>553</td>\n",
       "      <td>827</td>\n",
       "      <td>33</td>\n",
       "      <td>0.021167</td>\n",
       "      <td>62000</td>\n",
       "      <td>31500</td>\n",
       "      <td>109000</td>\n",
       "      <td>972</td>\n",
       "      <td>500</td>\n",
       "      <td>220</td>\n",
       "    </tr>\n",
       "    <tr>\n",
       "      <th>8</th>\n",
       "      <td>9</td>\n",
       "      <td>2414</td>\n",
       "      <td>MECHANICAL ENGINEERING</td>\n",
       "      <td>91227.0</td>\n",
       "      <td>80320.0</td>\n",
       "      <td>10907.0</td>\n",
       "      <td>Engineering</td>\n",
       "      <td>0.119559</td>\n",
       "      <td>1029</td>\n",
       "      <td>76442</td>\n",
       "      <td>...</td>\n",
       "      <td>13101</td>\n",
       "      <td>54639</td>\n",
       "      <td>4650</td>\n",
       "      <td>0.057342</td>\n",
       "      <td>60000</td>\n",
       "      <td>48000</td>\n",
       "      <td>70000</td>\n",
       "      <td>52844</td>\n",
       "      <td>16384</td>\n",
       "      <td>3253</td>\n",
       "    </tr>\n",
       "    <tr>\n",
       "      <th>9</th>\n",
       "      <td>10</td>\n",
       "      <td>2408</td>\n",
       "      <td>ELECTRICAL ENGINEERING</td>\n",
       "      <td>81527.0</td>\n",
       "      <td>65511.0</td>\n",
       "      <td>16016.0</td>\n",
       "      <td>Engineering</td>\n",
       "      <td>0.196450</td>\n",
       "      <td>631</td>\n",
       "      <td>61928</td>\n",
       "      <td>...</td>\n",
       "      <td>12695</td>\n",
       "      <td>41413</td>\n",
       "      <td>3895</td>\n",
       "      <td>0.059174</td>\n",
       "      <td>60000</td>\n",
       "      <td>45000</td>\n",
       "      <td>72000</td>\n",
       "      <td>45829</td>\n",
       "      <td>10874</td>\n",
       "      <td>3170</td>\n",
       "    </tr>\n",
       "    <tr>\n",
       "      <th>10</th>\n",
       "      <td>11</td>\n",
       "      <td>2407</td>\n",
       "      <td>COMPUTER ENGINEERING</td>\n",
       "      <td>41542.0</td>\n",
       "      <td>33258.0</td>\n",
       "      <td>8284.0</td>\n",
       "      <td>Engineering</td>\n",
       "      <td>0.199413</td>\n",
       "      <td>399</td>\n",
       "      <td>32506</td>\n",
       "      <td>...</td>\n",
       "      <td>5146</td>\n",
       "      <td>23621</td>\n",
       "      <td>2275</td>\n",
       "      <td>0.065409</td>\n",
       "      <td>60000</td>\n",
       "      <td>45000</td>\n",
       "      <td>75000</td>\n",
       "      <td>23694</td>\n",
       "      <td>5721</td>\n",
       "      <td>980</td>\n",
       "    </tr>\n",
       "    <tr>\n",
       "      <th>11</th>\n",
       "      <td>12</td>\n",
       "      <td>2401</td>\n",
       "      <td>AEROSPACE ENGINEERING</td>\n",
       "      <td>15058.0</td>\n",
       "      <td>12953.0</td>\n",
       "      <td>2105.0</td>\n",
       "      <td>Engineering</td>\n",
       "      <td>0.139793</td>\n",
       "      <td>147</td>\n",
       "      <td>11391</td>\n",
       "      <td>...</td>\n",
       "      <td>2724</td>\n",
       "      <td>8790</td>\n",
       "      <td>794</td>\n",
       "      <td>0.065162</td>\n",
       "      <td>60000</td>\n",
       "      <td>42000</td>\n",
       "      <td>70000</td>\n",
       "      <td>8184</td>\n",
       "      <td>2425</td>\n",
       "      <td>372</td>\n",
       "    </tr>\n",
       "    <tr>\n",
       "      <th>12</th>\n",
       "      <td>13</td>\n",
       "      <td>2404</td>\n",
       "      <td>BIOMEDICAL ENGINEERING</td>\n",
       "      <td>14955.0</td>\n",
       "      <td>8407.0</td>\n",
       "      <td>6548.0</td>\n",
       "      <td>Engineering</td>\n",
       "      <td>0.437847</td>\n",
       "      <td>79</td>\n",
       "      <td>10047</td>\n",
       "      <td>...</td>\n",
       "      <td>2694</td>\n",
       "      <td>5986</td>\n",
       "      <td>1019</td>\n",
       "      <td>0.092084</td>\n",
       "      <td>60000</td>\n",
       "      <td>36000</td>\n",
       "      <td>70000</td>\n",
       "      <td>6439</td>\n",
       "      <td>2471</td>\n",
       "      <td>789</td>\n",
       "    </tr>\n",
       "    <tr>\n",
       "      <th>13</th>\n",
       "      <td>14</td>\n",
       "      <td>5008</td>\n",
       "      <td>MATERIALS SCIENCE</td>\n",
       "      <td>4279.0</td>\n",
       "      <td>2949.0</td>\n",
       "      <td>1330.0</td>\n",
       "      <td>Engineering</td>\n",
       "      <td>0.310820</td>\n",
       "      <td>22</td>\n",
       "      <td>3307</td>\n",
       "      <td>...</td>\n",
       "      <td>878</td>\n",
       "      <td>1967</td>\n",
       "      <td>78</td>\n",
       "      <td>0.023043</td>\n",
       "      <td>60000</td>\n",
       "      <td>39000</td>\n",
       "      <td>65000</td>\n",
       "      <td>2626</td>\n",
       "      <td>391</td>\n",
       "      <td>81</td>\n",
       "    </tr>\n",
       "    <tr>\n",
       "      <th>14</th>\n",
       "      <td>15</td>\n",
       "      <td>2409</td>\n",
       "      <td>ENGINEERING MECHANICS PHYSICS AND SCIENCE</td>\n",
       "      <td>4321.0</td>\n",
       "      <td>3526.0</td>\n",
       "      <td>795.0</td>\n",
       "      <td>Engineering</td>\n",
       "      <td>0.183985</td>\n",
       "      <td>30</td>\n",
       "      <td>3608</td>\n",
       "      <td>...</td>\n",
       "      <td>811</td>\n",
       "      <td>2004</td>\n",
       "      <td>23</td>\n",
       "      <td>0.006334</td>\n",
       "      <td>58000</td>\n",
       "      <td>25000</td>\n",
       "      <td>74000</td>\n",
       "      <td>2439</td>\n",
       "      <td>947</td>\n",
       "      <td>263</td>\n",
       "    </tr>\n",
       "  </tbody>\n",
       "</table>\n",
       "<p>15 rows × 21 columns</p>\n",
       "</div>"
      ],
      "text/plain": [
       "    Rank  Major_code                                      Major    Total  \\\n",
       "0      1        2419                      PETROLEUM ENGINEERING   2339.0   \n",
       "1      2        2416             MINING AND MINERAL ENGINEERING    756.0   \n",
       "2      3        2415                  METALLURGICAL ENGINEERING    856.0   \n",
       "3      4        2417  NAVAL ARCHITECTURE AND MARINE ENGINEERING   1258.0   \n",
       "4      5        2405                       CHEMICAL ENGINEERING  32260.0   \n",
       "5      6        2418                        NUCLEAR ENGINEERING   2573.0   \n",
       "6      7        6202                          ACTUARIAL SCIENCE   3777.0   \n",
       "7      8        5001                 ASTRONOMY AND ASTROPHYSICS   1792.0   \n",
       "8      9        2414                     MECHANICAL ENGINEERING  91227.0   \n",
       "9     10        2408                     ELECTRICAL ENGINEERING  81527.0   \n",
       "10    11        2407                       COMPUTER ENGINEERING  41542.0   \n",
       "11    12        2401                      AEROSPACE ENGINEERING  15058.0   \n",
       "12    13        2404                     BIOMEDICAL ENGINEERING  14955.0   \n",
       "13    14        5008                          MATERIALS SCIENCE   4279.0   \n",
       "14    15        2409  ENGINEERING MECHANICS PHYSICS AND SCIENCE   4321.0   \n",
       "\n",
       "        Men    Women     Major_category  ShareWomen  Sample_size  Employed  \\\n",
       "0    2057.0    282.0        Engineering    0.120564           36      1976   \n",
       "1     679.0     77.0        Engineering    0.101852            7       640   \n",
       "2     725.0    131.0        Engineering    0.153037            3       648   \n",
       "3    1123.0    135.0        Engineering    0.107313           16       758   \n",
       "4   21239.0  11021.0        Engineering    0.341631          289     25694   \n",
       "5    2200.0    373.0        Engineering    0.144967           17      1857   \n",
       "6    2110.0   1667.0           Business    0.441356           51      2912   \n",
       "7     832.0    960.0  Physical Sciences    0.535714           10      1526   \n",
       "8   80320.0  10907.0        Engineering    0.119559         1029     76442   \n",
       "9   65511.0  16016.0        Engineering    0.196450          631     61928   \n",
       "10  33258.0   8284.0        Engineering    0.199413          399     32506   \n",
       "11  12953.0   2105.0        Engineering    0.139793          147     11391   \n",
       "12   8407.0   6548.0        Engineering    0.437847           79     10047   \n",
       "13   2949.0   1330.0        Engineering    0.310820           22      3307   \n",
       "14   3526.0    795.0        Engineering    0.183985           30      3608   \n",
       "\n",
       "    ...  Part_time  Full_time_year_round  Unemployed  Unemployment_rate  \\\n",
       "0   ...        270                  1207          37           0.018381   \n",
       "1   ...        170                   388          85           0.117241   \n",
       "2   ...        133                   340          16           0.024096   \n",
       "3   ...        150                   692          40           0.050125   \n",
       "4   ...       5180                 16697        1672           0.061098   \n",
       "5   ...        264                  1449         400           0.177226   \n",
       "6   ...        296                  2482         308           0.095652   \n",
       "7   ...        553                   827          33           0.021167   \n",
       "8   ...      13101                 54639        4650           0.057342   \n",
       "9   ...      12695                 41413        3895           0.059174   \n",
       "10  ...       5146                 23621        2275           0.065409   \n",
       "11  ...       2724                  8790         794           0.065162   \n",
       "12  ...       2694                  5986        1019           0.092084   \n",
       "13  ...        878                  1967          78           0.023043   \n",
       "14  ...        811                  2004          23           0.006334   \n",
       "\n",
       "    Median  P25th   P75th  College_jobs  Non_college_jobs  Low_wage_jobs  \n",
       "0   110000  95000  125000          1534               364            193  \n",
       "1    75000  55000   90000           350               257             50  \n",
       "2    73000  50000  105000           456               176              0  \n",
       "3    70000  43000   80000           529               102              0  \n",
       "4    65000  50000   75000         18314              4440            972  \n",
       "5    65000  50000  102000          1142               657            244  \n",
       "6    62000  53000   72000          1768               314            259  \n",
       "7    62000  31500  109000           972               500            220  \n",
       "8    60000  48000   70000         52844             16384           3253  \n",
       "9    60000  45000   72000         45829             10874           3170  \n",
       "10   60000  45000   75000         23694              5721            980  \n",
       "11   60000  42000   70000          8184              2425            372  \n",
       "12   60000  36000   70000          6439              2471            789  \n",
       "13   60000  39000   65000          2626               391             81  \n",
       "14   58000  25000   74000          2439               947            263  \n",
       "\n",
       "[15 rows x 21 columns]"
      ]
     },
     "execution_count": 7,
     "metadata": {},
     "output_type": "execute_result"
    }
   ],
   "source": [
    "data.head(n=15)"
   ]
  },
  {
   "cell_type": "code",
   "execution_count": 8,
   "metadata": {
    "hide-output": false,
    "slideshow": {
     "slide_type": "slide"
    }
   },
   "outputs": [
    {
     "data": {
      "text/plain": [
       "Text(0, 0.5, 'Median salary')"
      ]
     },
     "execution_count": 8,
     "metadata": {},
     "output_type": "execute_result"
    },
    {
     "data": {
      "image/png": "[encoded data removed]",
      "text/plain": [
       "<Figure size 720x576 with 1 Axes>"
      ]
     },
     "metadata": {
      "needs_background": "light"
     },
     "output_type": "display_data"
    }
   ],
   "source": [
    "import matplotlib.pyplot as plt\n",
    "%matplotlib inline\n",
    "data.plot(x='ShareWomen', y='Median', kind='scatter', figsize=(10, 8), color='red')\n",
    "plt.xlabel('Share of women')\n",
    "plt.ylabel('Median salary')\n",
    "# add a linear regression line to the plot"
   ]
  },
  {
   "cell_type": "code",
   "execution_count": 9,
   "metadata": {
    "hide-output": false,
    "slideshow": {
     "slide_type": "slide"
    }
   },
   "outputs": [
    {
     "name": "stdout",
     "output_type": "stream",
     "text": [
      "Median        0\n",
      "ShareWomen    1\n",
      "dtype: int64\n"
     ]
    },
    {
     "data": {
      "image/png": "[encoded data removed]",
      "text/plain": [
       "<Figure size 720x576 with 1 Axes>"
      ]
     },
     "metadata": {
      "needs_background": "light"
     },
     "output_type": "display_data"
    }
   ],
   "source": [
    "print(data[['Median','ShareWomen']].isnull().sum()) # check if there are NaNs in the data!\n",
    "data1 = data[['Median','ShareWomen']].dropna()  # drop NaNs\n",
    "data1.plot(x='ShareWomen', y='Median', kind='scatter', figsize=(10, 8), color='red')\n",
    "plt.xlabel('Share of women')\n",
    "plt.ylabel('Median salary')\n",
    "# add a linear regression line to the plot\n",
    "b,_ = ols(X=data['ShareWomen'],y=data['Median'],verbose=False)\n",
    "fn = lambda x: b[0]+b[1]*x\n",
    "xx = np.linspace(0,1,100)\n",
    "plt.plot(xx,fn(xx),color='navy',linewidth=3)\n",
    "plt.show()"
   ]
  },
  {
   "cell_type": "code",
   "execution_count": 10,
   "metadata": {
    "hide-output": false,
    "slideshow": {
     "slide_type": "slide"
    }
   },
   "outputs": [],
   "source": [
    "# create fraction variables\n",
    "data.drop(index=data[data['Total']==0].index,inplace=True)  # drop zero Totals\n",
    "data.drop(index=data[data['Employed']==0].index,inplace=True)  # drop zero Employed\n",
    "data['Employment rate'] = data['Employed'] / data['Total']\n",
    "data['Fulltime rate'] = data['Full_time'] / data['Employed']\n",
    "data2 = data[['Median','ShareWomen','Employment rate','Fulltime rate']].dropna()  # drop NaNs\n",
    "y = data2['Median']/1000  # rescale salary"
   ]
  },
  {
   "cell_type": "code",
   "execution_count": 11,
   "metadata": {
    "hide-output": false,
    "slideshow": {
     "slide_type": "slide"
    }
   },
   "outputs": [
    {
     "name": "stdout",
     "output_type": "stream",
     "text": [
      "Number of observations: 171\n",
      "Number of parameters: 4\n",
      "Parameter estimates (std in brackets)\n",
      "  47.78925 (  10.54264)\n",
      " -27.86576 (   3.38424)\n",
      " -10.81362 (   9.80911)\n",
      "  18.51797 (   7.52103)\n",
      "MSE = 8.83857\n",
      "\n"
     ]
    }
   ],
   "source": [
    "# run the full model\n",
    "ols(data2[['ShareWomen','Employment rate','Fulltime rate']],y);"
   ]
  },
  {
   "cell_type": "markdown",
   "metadata": {
    "slideshow": {
     "slide_type": "slide"
    }
   },
   "source": [
    "#### Further learning resources\n",
    "\n",
    "- Regression analysis using `sklearn` library\n",
    "  [https://datascience.quantecon.org/applications/regression.html](https://datascience.quantecon.org/applications/regression.html)  "
   ]
  }
 ],
 "metadata": {
  "celltoolbar": "Slideshow",
  "date": 1612589584.997209,
  "download_nb": false,
  "filename": "17_linear_reg.rst",
  "filename_with_path": "17_linear_reg",
  "kernelspec": {
   "display_name": "Python 3",
   "language": "python",
   "name": "python3"
  },
  "language_info": {
   "codemirror_mode": {
    "name": "ipython",
    "version": 3
   },
   "file_extension": ".py",
   "mimetype": "text/x-python",
   "name": "python",
   "nbconvert_exporter": "python",
   "pygments_lexer": "ipython3",
   "version": "3.7.6"
  },
  "title": "Foundations of Computational Economics #17"
 },
 "nbformat": 4,
 "nbformat_minor": 4
}
