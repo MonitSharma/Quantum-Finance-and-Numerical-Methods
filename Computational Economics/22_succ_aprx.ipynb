{
 "cells": [
  {
   "cell_type": "markdown",
   "metadata": {
    "slideshow": {
     "slide_type": "slide"
    }
   },
   "source": [
    "# Foundations of Computational Economics #22\n",
    "\n",
    "by Fedor Iskhakov, ANU\n",
    "\n",
    "<img src=\"_static/img/dag3logo.png\" style=\"width:256px;\">"
   ]
  },
  {
   "cell_type": "markdown",
   "metadata": {
    "slideshow": {
     "slide_type": "fragment"
    }
   },
   "source": [
    "## Successive approximations (fixed point iterations)\n",
    "\n",
    "<img src=\"_static/img/lecture.png\" style=\"width:64px;\">"
   ]
  },
  {
   "cell_type": "markdown",
   "metadata": {
    "slideshow": {
     "slide_type": "subslide"
    }
   },
   "source": [
    "<img src=\"_static/img/youtube.png\" style=\"width:65px;\">\n",
    "\n",
    "[https://youtu.be/AQt9Q9qc3io](https://youtu.be/AQt9Q9qc3io)\n",
    "\n",
    "Description: Scalar and multivariate solver. Equilibrium in market of platforms."
   ]
  },
  {
   "cell_type": "markdown",
   "metadata": {
    "slideshow": {
     "slide_type": "slide"
    }
   },
   "source": [
    "### What is successive approximations?\n",
    "\n",
    "- root finding method for the equations of the type  \n",
    "\n",
    "\n",
    "$$\n",
    "x = F(x) \\quad \\Leftrightarrow \\quad F(x) - x = 0\n",
    "$$\n",
    "\n",
    "- **fixed point equation**  \n",
    "- conversion is always possible (although does not guaranteed to work as we’ll see below)  \n",
    "\n",
    "\n",
    "$$\n",
    "g(x) = 0 \\quad \\Leftrightarrow \\quad \\underbrace{g(x) + x}_{F(x)} = x\n",
    "$$"
   ]
  },
  {
   "cell_type": "markdown",
   "metadata": {
    "slideshow": {
     "slide_type": "slide"
    }
   },
   "source": [
    "#### Main algorithm\n",
    "\n",
    "$$\n",
    "x = F(x) \\rightarrow x_{n+1} = F(x_n)\n",
    "$$\n",
    "\n",
    "1. Initialize the iterations at $ x_0 $  \n",
    "1. Iterate on $ x_{i+1} = F(x_i) $ until $ x_{i+1} $ is close enough to $ x_i $  "
   ]
  },
  {
   "cell_type": "markdown",
   "metadata": {
    "slideshow": {
     "slide_type": "slide"
    }
   },
   "source": [
    "#### Stationary distribution of Markov chains\n",
    "\n",
    "For aperiodic and irreducible Markov chain with transition probability matrix $ P $, the stationary distribution\n",
    "is given by $ \\psi^\\star = \\psi^\\star P $\n",
    "\n",
    "Successive approximation applicable with $ F(\\psi) = \\psi P $\n",
    "\n",
    "Have seen this is last two videos"
   ]
  },
  {
   "cell_type": "markdown",
   "metadata": {
    "slideshow": {
     "slide_type": "slide"
    }
   },
   "source": [
    "#### Will it converge?\n",
    "\n",
    "*The central question for the successive approximations method*\n",
    "\n",
    "- it will from any starting point for aperiodic and irreducible Markov chains  \n",
    "- but what are the general conditions?  \n",
    "\n",
    "\n",
    "Will come back to this question in general terms when talking about the dynamic models and Bellman operator\n",
    "(which is a *contraction mapping*)"
   ]
  },
  {
   "cell_type": "markdown",
   "metadata": {
    "slideshow": {
     "slide_type": "slide"
    }
   },
   "source": [
    "#### Scalar example\n",
    "\n",
    "$$\n",
    "\\frac{1}{2} - \\exp\\big(-(x-2)^2\\big) = 0\n",
    "$$\n",
    "\n",
    "Using the trick above convert to $ x = F(x) $\n",
    "\n",
    "$$\n",
    "F(x) = x - \\exp\\big(-(x-2)^2\\big) + \\frac{1}{2}\n",
    "$$\n",
    "\n",
    "$$\n",
    "x_{i+1} = x_i - \\exp\\big(-(x_i-2)^2\\big) + \\frac{1}{2}\n",
    "$$"
   ]
  },
  {
   "cell_type": "code",
   "execution_count": 1,
   "metadata": {
    "hide-output": false,
    "slideshow": {
     "slide_type": "slide"
    }
   },
   "outputs": [],
   "source": [
    "import numpy as np\n",
    "eq = lambda x:  - np.exp(-(x-2)**2) + .5  # initial equation\n",
    "F = lambda x: x - np.exp(-(x-2)**2) + .5  # fixed point equation\n",
    "dF = lambda x: 1 + np.exp(-(x-2)**2)*2*(x-2)  # derivative (for later)"
   ]
  },
  {
   "cell_type": "code",
   "execution_count": 2,
   "metadata": {
    "hide-output": false,
    "slideshow": {
     "slide_type": "slide"
    }
   },
   "outputs": [],
   "source": [
    "def solve_sa(F,x0,tol=1e-6,maxiter=100,callback=None):\n",
    "    '''Computes the solution of fixed point equation x = F(x)\n",
    "    with given initial value x0 and algorithm parameters\n",
    "    Method: successive approximations\n",
    "    '''\n",
    "    for i in range(maxiter):  # main loop\n",
    "        x1 = F(x0)  # update approximation\n",
    "        err = np.amax(np.abs(x0-x1))  # allow for x to be array\n",
    "        if callback != None: callback(iter=i,err=err,x=x1,x0=x0)\n",
    "        if err<tol:\n",
    "            break  # break out if converged\n",
    "        x0 = x1  # get ready to the next iteration\n",
    "    else:\n",
    "        raise RuntimeError('Failed to converge in %d iterations'%maxiter)\n",
    "    return x1"
   ]
  },
  {
   "cell_type": "code",
   "execution_count": 3,
   "metadata": {
    "hide-output": false,
    "slideshow": {
     "slide_type": "slide"
    }
   },
   "outputs": [
    {
     "name": "stdout",
     "output_type": "stream",
     "text": [
      "iter 0, x = 1.1321205588 (err = 1.321e-01)\n",
      "iter 1, x = 1.1612700962 (err = 2.915e-02)\n",
      "iter 2, x = 1.1664038940 (err = 5.134e-03)\n",
      "iter 3, x = 1.1672707853 (err = 8.669e-04)\n",
      "iter 4, x = 1.1674161464 (err = 1.454e-04)\n",
      "iter 5, x = 1.1674404922 (err = 2.435e-05)\n",
      "iter 6, x = 1.1674445689 (err = 4.077e-06)\n",
      "iter 7, x = 1.1674452515 (err = 6.826e-07)\n",
      "iter 8, x = 1.1674453659 (err = 1.143e-07)\n",
      "iter 9, x = 1.1674453850 (err = 1.914e-08)\n",
      "iter 10, x = 1.1674453882 (err = 3.205e-09)\n",
      "iter 11, x = 1.1674453887 (err = 5.366e-10)\n",
      "iter 12, x = 1.1674453888 (err = 8.986e-11)\n",
      "Residual in the original equation = 1.50464e-11\n"
     ]
    }
   ],
   "source": [
    "def printme(**kwargs):\n",
    "    print('iter %d, x = %1.10f (err = %1.3e)'%(kwargs['iter'],kwargs['x'],kwargs['err']))\n",
    "x = solve_sa(F,x0=1.0,tol=1e-10,callback=printme)\n",
    "print('Residual in the original equation = %1.5e' % eq(x))\n",
    "# try different starting points, including >2.8"
   ]
  },
  {
   "cell_type": "code",
   "execution_count": 4,
   "metadata": {
    "hide-output": false,
    "slideshow": {
     "slide_type": "slide"
    }
   },
   "outputs": [],
   "source": [
    "# plot to understand what is going on!\n",
    "import numpy as np\n",
    "import matplotlib.pyplot as plt\n",
    "%matplotlib inline\n",
    "plt.rcParams['figure.figsize'] = [12, 8]"
   ]
  },
  {
   "cell_type": "code",
   "execution_count": 5,
   "metadata": {
    "hide-output": false,
    "slideshow": {
     "slide_type": "slide"
    }
   },
   "outputs": [
    {
     "data": {
      "image/png": "[encoded data removed]",
      "text/plain": [
       "<Figure size 864x576 with 1 Axes>"
      ]
     },
     "metadata": {
      "needs_background": "light"
     },
     "output_type": "display_data"
    }
   ],
   "source": [
    "a,b,x0 = 0,2,1.0  # bounds and starting value\n",
    "# a,b,x0 = 0,2.5,2.75\n",
    "# a,b,x0 = 0,5,2.85\n",
    "xd = np.linspace(a,b,100)  # x grid\n",
    "plt.plot([a,b],[a,b],c='grey')  # plot the 45 degree line\n",
    "plt.plot(xd,F(xd),c='red')  # plot the function\n",
    "def plot_step(**kwargs):\n",
    "    if plot_step.counter < 10:\n",
    "        if plot_step.counter == 0:\n",
    "            x,f = kwargs['x0'],F(kwargs['x0'])\n",
    "            plt.plot([x,x],[0,f],c='green')  # initial vertical line\n",
    "            plt.plot([x,f],[f,f],c='green')\n",
    "        plot_step.counter += 1\n",
    "        x,f = kwargs['x'],F(kwargs['x'])\n",
    "        plt.plot([x,x],[x,f],c='green')  # vertical line\n",
    "        plt.plot([x,f],[f,f],c='green')  # horizontal line\n",
    "plot_step.counter = 0  # new public attribute\n",
    "x = solve_sa(F,x0,tol=1e-10,callback=plot_step)\n",
    "plt.show()"
   ]
  },
  {
   "cell_type": "markdown",
   "metadata": {
    "slideshow": {
     "slide_type": "slide"
    }
   },
   "source": [
    "#### Condition for convergence in scalar case\n",
    "\n",
    "$$\n",
    "|F'(x^\\star)| < 1\n",
    "$$\n",
    "\n",
    "- where $ x^\\star $ is the solution/root  \n",
    "- **stable solution**  "
   ]
  },
  {
   "cell_type": "code",
   "execution_count": 6,
   "metadata": {
    "hide-output": false,
    "slideshow": {
     "slide_type": "slide"
    }
   },
   "outputs": [
    {
     "data": {
      "image/png": "[encoded data removed]",
      "text/plain": [
       "<Figure size 864x576 with 1 Axes>"
      ]
     },
     "metadata": {
      "needs_background": "light"
     },
     "output_type": "display_data"
    }
   ],
   "source": [
    "a,b = 0,5\n",
    "xd = np.linspace(a,b,1000)\n",
    "plt.plot([a,b],[1,1],c='grey')  # 1 line\n",
    "plt.plot(xd,dF(xd),c='red')  # plot the derivative\n",
    "plt.show()"
   ]
  },
  {
   "cell_type": "markdown",
   "metadata": {
    "slideshow": {
     "slide_type": "slide"
    }
   },
   "source": [
    "#### Limitations of successive approximations method\n",
    "\n",
    "- Only stable solutions can be computed with SA  \n",
    "- Starting values matter for convergence!  \n",
    "- Also, only linear (slow) convergence to the solution when it does converge  \n",
    "\n",
    "\n",
    "But very easy to implement!"
   ]
  },
  {
   "cell_type": "markdown",
   "metadata": {
    "slideshow": {
     "slide_type": "slide"
    }
   },
   "source": [
    "### Multivariate example: platform market equilibrium\n",
    "\n",
    "- Platform is product or service with *network effects*, i.e. value (for firm and users) is generated from the interaction of users, and therefore depends on the size of the user base.  \n",
    "- Examples: game consoles, interface standards, social media, two-sided market platforms (Amazon, Ebay), peer-to-peer markets (Uber, AirBnB)  \n",
    "- Because of better experience of the users on larger platforms, platform markets tend to monopolization (*tipping markets*)  \n",
    "- Yet, there can be opposite forces as well: heterogeneous preferences or *congestion* in too large platforms  \n",
    "- Many different aspects (see further learning resources), we’ll look at a simple example, focusing on consumer choice and equilibrium  "
   ]
  },
  {
   "cell_type": "markdown",
   "metadata": {
    "slideshow": {
     "slide_type": "slide"
    }
   },
   "source": [
    "#### The model\n",
    "\n",
    "- $ m $ products, $ i=1,\\dots,m $  \n",
    "- unit mass of consumers of $ n $ types with different preferences over the product  \n",
    "- $ p_j $ are fractions of consumer types in the population, $ j=1,\\dots,n $  \n",
    "- utility function of consumers of type $ j \\in 1,\\dots,n $ from product $ i \\in 1,\\dots,m $ is given by  \n",
    "\n",
    "\n",
    "$$\n",
    "u_{ij} = c_{ij} + s_i,\n",
    "$$\n",
    "\n",
    "- $ c_{ij} $ are *valuations* of each product by each of the consumer type  \n",
    "- $ s_i $ are market shares of each product, increase utility when more people are using the same platform  "
   ]
  },
  {
   "cell_type": "markdown",
   "metadata": {
    "slideshow": {
     "slide_type": "slide"
    }
   },
   "source": [
    "#### Choice probabilities\n",
    "\n",
    "Standard random utility framework with logit choice probabilities\n",
    "\n",
    "- value of choice $ U_{ij} = u_{ij} + \\epsilon[i] $ is effected by the random factors  \n",
    "- one $ \\epsilon[i] $ for each product choice, forming the vector $ \\epsilon = (\\epsilon[1],\\dots,\\epsilon[m]) $  \n",
    "- elements of $ \\epsilon $ are extreme value type I (EV1) random components of the utility, iid between consumers and products  \n",
    "\n",
    "\n",
    "$$\n",
    "P_{ij} = \\frac{\\exp(u_{ij})}{\\sum_{k=1}^m \\exp(u_{kj})}\n",
    "= \\frac{\\exp(u_{ij}-\\alpha)}{\\sum_{k=1}^m \\exp(u_{kj}-\\alpha)}, \\; \\forall \\alpha\n",
    "$$"
   ]
  },
  {
   "cell_type": "markdown",
   "metadata": {
    "slideshow": {
     "slide_type": "slide"
    }
   },
   "source": [
    "#### Market shares\n",
    "\n",
    "- assume choice is made once, and no changes are made afterwards  \n",
    "- under the assumption of unit mass of consumers we have  \n",
    "\n",
    "\n",
    "$$\n",
    "s_i = \\sum_{j=1}^n p_j P_{ij} = P \\cdot p\n",
    "$$\n",
    "\n",
    "- simple matrix product, assuming $ p $ is a column-vector  "
   ]
  },
  {
   "cell_type": "markdown",
   "metadata": {
    "slideshow": {
     "slide_type": "slide"
    }
   },
   "source": [
    "#### Fixed point equation\n",
    "\n",
    "Combining the last three expressions:\n",
    "\n",
    "$$\n",
    "u_{ij} = c_{ij} + \\sum_{t=1}^n p_t \\frac{\\exp(u_{it})}{\\sum_{k=1}^m \\exp(u_{kt})}\n",
    "$$\n",
    "\n",
    "- $ mn $ fixed point equations  \n",
    "- fixed point in the ($ mn $)-dimensional space of $ u_{ij} $  "
   ]
  },
  {
   "cell_type": "code",
   "execution_count": 7,
   "metadata": {
    "hide-output": false,
    "slideshow": {
     "slide_type": "slide"
    }
   },
   "outputs": [],
   "source": [
    "class model:\n",
    "    '''Simple platform equilibrium model'''\n",
    "\n",
    "    def __init__(self,m=2,n=2):\n",
    "        '''Define default model parameters'''\n",
    "        self.m,self.n = m,n  # number of products and consumer types\n",
    "        self.c = np.random.uniform(size=(m,n))    # utilities (random uniform)\n",
    "        self.p = np.random.dirichlet(np.ones(n))  # population composition (from symmetric Dirichlet distribution)\n",
    "\n",
    "    def __repr__(self):\n",
    "        return 'Number of platform products = {:d}\\nNumber of consumer types = {:d}\\nPopulation composition = {}\\nUtilities:\\n{}'.format(self.m,self.n,self.p,self.c)\n",
    "\n",
    "    def ccp(self,u):\n",
    "        '''Conditional choice probabilities, assuming choices in row'''\n",
    "        u = np.asarray(u).reshape((self.m,self.n))   # convert to matrix\n",
    "        u = u - np.amax(u,axis=0) # de-max by column (avoid exp of large numbers)\n",
    "        e = np.exp(u)\n",
    "        esum = e.sum(axis=0)  # sums of exps\n",
    "        return e/esum         # vector of choice probabilities\n",
    "\n",
    "    def shares(self,pr):\n",
    "        '''Market shares from choice probabilities'''\n",
    "        out = pr @ self.p  # one-dim vector\n",
    "        return out[:,np.newaxis]  # column vector\n",
    "\n",
    "    def F(self,u):\n",
    "        '''Fixed point equation u=F(u)'''\n",
    "        pr = self.ccp(u)     # matrix of choice probabilities\n",
    "        sh = self.shares(pr) # market shares\n",
    "        u1 = self.c + sh     # updated utilities\n",
    "        return u1.reshape(self.m*self.n) # return one dimensional array"
   ]
  },
  {
   "cell_type": "code",
   "execution_count": 8,
   "metadata": {
    "hide-output": false,
    "slideshow": {
     "slide_type": "slide"
    }
   },
   "outputs": [
    {
     "name": "stdout",
     "output_type": "stream",
     "text": [
      "Number of platform products = 3\n",
      "Number of consumer types = 2\n",
      "Population composition = [0.07395594 0.92604406]\n",
      "Utilities:\n",
      "[[0.71361939 0.51952517]\n",
      " [0.27539451 0.30194578]\n",
      " [0.73362029 0.39378844]]\n",
      "SA from zero utilities:\n",
      "iter 0, err = 1.067e+00\n",
      "iter 1, err = 3.914e-02\n",
      "iter 2, err = 1.352e-02\n",
      "iter 3, err = 4.718e-03\n",
      "iter 4, err = 1.658e-03\n",
      "iter 5, err = 5.859e-04\n",
      "iter 6, err = 2.080e-04\n",
      "iter 7, err = 7.412e-05\n",
      "iter 8, err = 2.650e-05\n",
      "iter 9, err = 9.496e-06\n",
      "iter 10, err = 3.411e-06\n",
      "iter 11, err = 1.227e-06\n",
      "iter 12, err = 4.422e-07\n",
      "Equilibrium found!\n",
      "Equilibrium choice probabilities:\n",
      "[[0.39502849 0.39314102]\n",
      " [0.2270464  0.28174725]\n",
      " [0.37792511 0.32511173]]\n",
      "Equilibrium market shares:\n",
      "[0.39328061 0.2777018  0.32901759]\n"
     ]
    }
   ],
   "source": [
    "def printiter(**kwargs):\n",
    "    print('iter %d, err = %1.3e'%(kwargs['iter'],kwargs['err']))\n",
    "md = model(m=3,n=2)\n",
    "print(md)\n",
    "print('SA from zero utilities:')\n",
    "x = solve_sa(md.F,x0=np.zeros(md.n*md.m),callback=printiter)\n",
    "print('Equilibrium found!')\n",
    "ccp = md.ccp(x)\n",
    "shares = md.shares(ccp).squeeze()  # make one-dim array\n",
    "print('Equilibrium choice probabilities:',ccp,'Equilibrium market shares:',shares,sep='\\n')"
   ]
  },
  {
   "cell_type": "markdown",
   "metadata": {
    "slideshow": {
     "slide_type": "slide"
    }
   },
   "source": [
    "### Further learning resources\n",
    "\n",
    "- Oscar Veliz videos on fixed point iterations\n",
    "  [https://www.youtube.com/watch?v=OLqdJMjzib8](https://www.youtube.com/watch?v=OLqdJMjzib8)\n",
    "  [https://www.youtube.com/watch?v=FyCviw2ZA2o](https://www.youtube.com/watch?v=FyCviw2ZA2o)  \n",
    "- Non-technical review of platform competition\n",
    "  [https://papers.ssrn.com/sol3/papers.cfm?abstract_id=3502964](https://papers.ssrn.com/sol3/papers.cfm?abstract_id=3502964)  \n",
    "- Blog posts on platform competition by Paul Belleflamme\n",
    "  [http://www.ipdigit.eu/2020/04/an-introduction-to-the-economics-of-platform-competition-part-1/](http://www.ipdigit.eu/2020/04/an-introduction-to-the-economics-of-platform-competition-part-1/)\n",
    "  [http://www.ipdigit.eu/2020/04/an-introduction-to-the-economics-of-platform-competition-part-2/](http://www.ipdigit.eu/2020/04/an-introduction-to-the-economics-of-platform-competition-part-2/)\n",
    "  [http://www.ipdigit.eu/2020/04/an-introduction-to-the-economics-of-platform-competition-part-3/](http://www.ipdigit.eu/2020/04/an-introduction-to-the-economics-of-platform-competition-part-3/)  "
   ]
  }
 ],
 "metadata": {
  "celltoolbar": "Slideshow",
  "date": 1612589585.6845,
  "download_nb": false,
  "filename": "22_succ_aprx.rst",
  "filename_with_path": "22_succ_aprx",
  "kernelspec": {
   "display_name": "Python 3",
   "language": "python",
   "name": "python3"
  },
  "language_info": {
   "codemirror_mode": {
    "name": "ipython",
    "version": 3
   },
   "file_extension": ".py",
   "mimetype": "text/x-python",
   "name": "python",
   "nbconvert_exporter": "python",
   "pygments_lexer": "ipython3",
   "version": "3.7.6"
  },
  "title": "Foundations of Computational Economics #22"
 },
 "nbformat": 4,
 "nbformat_minor": 4
}
