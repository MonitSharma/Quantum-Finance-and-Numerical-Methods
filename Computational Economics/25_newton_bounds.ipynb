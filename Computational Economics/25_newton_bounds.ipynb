{
 "cells": [
  {
   "cell_type": "markdown",
   "metadata": {
    "slideshow": {
     "slide_type": "slide"
    }
   },
   "source": [
    "# Foundations of Computational Economics #25\n",
    "\n",
    "by Fedor Iskhakov, ANU\n",
    "\n",
    "<img src=\"_static/img/dag3logo.png\" style=\"width:256px;\">"
   ]
  },
  {
   "cell_type": "markdown",
   "metadata": {
    "slideshow": {
     "slide_type": "fragment"
    }
   },
   "source": [
    "## Newton-Raphson method with bounds\n",
    "\n",
    "<img src=\"_static/img/lab.png\" style=\"width:64px;\">"
   ]
  },
  {
   "cell_type": "markdown",
   "metadata": {
    "slideshow": {
     "slide_type": "subslide"
    }
   },
   "source": [
    "<img src=\"_static/img/youtube.png\" style=\"width:65px;\">\n",
    "\n",
    "[https://youtu.be/1fD-BSiO1f4](https://youtu.be/1fD-BSiO1f4)\n",
    "\n",
    "Description: Robust implementation of Newton method for problems with strict bounds."
   ]
  },
  {
   "cell_type": "markdown",
   "metadata": {
    "slideshow": {
     "slide_type": "slide"
    }
   },
   "source": [
    "- example of how elements of different methods can be combined\n",
    "  in a poly-algorithm  \n",
    "- deeper merge than a multi-stage poly-algorithm we mentioned before, such as\n",
    "  1. Robust slow method for initial search of parameter space\n",
    "  2. Fast accurate method invoked from a very good starting values  "
   ]
  },
  {
   "cell_type": "markdown",
   "metadata": {
    "slideshow": {
     "slide_type": "slide"
    }
   },
   "source": [
    "### Example\n",
    "\n",
    "Solve the following equation\n",
    "\n",
    "$$\n",
    "f(x) = a \\log(x) + b \\log(1-x) + c = 0, \\; ab<0\n",
    "$$\n",
    "\n",
    "This equation arises in the models of discrete choice in IO, for example when computing a mixed\n",
    "strategy equilibrium in a two players game with binary actions."
   ]
  },
  {
   "cell_type": "markdown",
   "metadata": {
    "slideshow": {
     "slide_type": "slide"
    }
   },
   "source": [
    "### Theoretical properties and numerical difficulties\n",
    "\n",
    "- $ x \\in (0,1) $ are strict limits, any algorithm will break down if stepping outside  \n",
    "- there is exactly one solution for any values of parameters $ a,b,c $ (where $ a $ and $ b $ have opposite signs, without loss of generality assume $ a>0 $ and $ b<0 $)\n",
    "  - $ f(x) $ is continuous in its domain $ x \\in (0,1) $\n",
    "  - $ f'(x) \\ge 0 $ everywhere in the domain, so the function is monotonically increasing, and vise versa\n",
    "  - when $ x \\rightarrow 0 $ from the right $ f(x) \\rightarrow -\\infty $, and when $ x \\rightarrow 1 $ from the left $ f(x) \\rightarrow \\infty $, and vise versa  \n",
    "- but depending on the value of $ c $ the solution may be arbitrary close to 0 or 1!  "
   ]
  },
  {
   "cell_type": "markdown",
   "metadata": {
    "slideshow": {
     "slide_type": "slide"
    }
   },
   "source": [
    "- Newton — can easily overshoot to the outside of domain  \n",
    "- bisections — may take forever to converge  \n",
    "- successive approximations — ?  "
   ]
  },
  {
   "cell_type": "markdown",
   "metadata": {
    "slideshow": {
     "slide_type": "slide"
    }
   },
   "source": [
    "### Newton-bisection hybrid algorithm\n",
    "\n",
    "1. Initialize with interval $ (a,b) $ such that the function\n",
    "  has opposite signs at the ends, and starting value $ x_0 $  \n",
    "1. Compute the Newton step and check if it remains within the bounds  \n",
    "1. If yes, make Newton step and continue to next iteration  \n",
    "1. If not, make a bisection step and continue to next iteration  \n",
    "1. Iterate until convergence, or until maximum number of iterations is exceeded  "
   ]
  },
  {
   "cell_type": "code",
   "execution_count": 1,
   "metadata": {
    "hide-output": false,
    "slideshow": {
     "slide_type": "slide"
    }
   },
   "outputs": [
    {
     "data": {
      "text/plain": [
       "{'divide': 'warn', 'over': 'warn', 'under': 'ignore', 'invalid': 'warn'}"
      ]
     },
     "execution_count": 1,
     "metadata": {},
     "output_type": "execute_result"
    }
   ],
   "source": [
    "import numpy as np\n",
    "import matplotlib.pyplot as plt\n",
    "%matplotlib inline\n",
    "plt.rcParams['figure.figsize'] = [12, 8]\n",
    "np.seterr(all=None, divide='ignore', over=None, under=None, invalid='ignore')  # turn off log(0) warning"
   ]
  },
  {
   "cell_type": "code",
   "execution_count": 2,
   "metadata": {
    "hide-output": false,
    "slideshow": {
     "slide_type": "slide"
    }
   },
   "outputs": [],
   "source": [
    "# code up the function\n",
    "# make a plot of the function\n",
    "# code up the solver"
   ]
  },
  {
   "cell_type": "code",
   "execution_count": 3,
   "metadata": {
    "hide-output": false,
    "slideshow": {
     "slide_type": "slide"
    }
   },
   "outputs": [],
   "source": [
    "#\n",
    "\n",
    "\n",
    "\n",
    "\n",
    "\n",
    "\n",
    "\n",
    "\n",
    "\n",
    "\n",
    "\n",
    "\n",
    "\n",
    "\n",
    "\n",
    "# solution below\n",
    "\n",
    "\n",
    "\n",
    "\n",
    "\n",
    "\n",
    "\n",
    "\n",
    "\n",
    "\n",
    "\n",
    "\n",
    "\n",
    "\n",
    "\n",
    "#"
   ]
  },
  {
   "cell_type": "code",
   "execution_count": 1,
   "metadata": {
    "hide-output": false,
    "slideshow": {
     "slide_type": "slide"
    }
   },
   "outputs": [],
   "source": [
    "def newton_bounds(fun,grad,x0=None,bounds=(0,1),\n",
    "                  tol=1e-6,maxiter=100,callback=None):\n",
    "    '''Polyalgorithm that combines bisections and Newton-Raphson\n",
    "       to solve fun(x)=0 within given lower and upper bounds.\n",
    "       Callback function is invoked at each iteration if given.\n",
    "    '''\n",
    "    a,b = bounds\n",
    "    sa,sb = np.sign(fun(a)),np.sign(fun(b))  # a and b signs, never change\n",
    "    if sa*sb > 0:\n",
    "        raise(ValueError('Function has the same signs at the initial lower and upper limits'))\n",
    "    x0 = (a+b)/2 if x0==None else x0  # midpoint is default x0\n",
    "    for i in range(maxiter):\n",
    "        f0 = fun(x0)\n",
    "        newt = x0 - f0/grad(x0) # Newton step\n",
    "        if not a < newt < b:\n",
    "            a,b = (x0,b) if np.sign(f0)*sa > 0 else (a,x0)  # update limits\n",
    "            x1 = (a+b)/2  # bisections step\n",
    "            step_type = 'bisection'\n",
    "        else:\n",
    "            x1 = newt\n",
    "            step_type = 'newton'\n",
    "        err = np.abs(x0-x1)  # save error for both steps\n",
    "        if callback:\n",
    "            callback(iter=i,type=step_type,err=err,x0=x0,x1=x1,bounds=(a,b))\n",
    "        if err < tol:\n",
    "            break\n",
    "        x0 = x1\n",
    "    else:\n",
    "        raise(RuntimeError('Failed to converge in %d iterations'%maxiter))\n",
    "    return x1"
   ]
  },
  {
   "cell_type": "code",
   "execution_count": 5,
   "metadata": {
    "hide-output": false,
    "scrolled": false,
    "slideshow": {
     "slide_type": "slide"
    }
   },
   "outputs": [
    {
     "data": {
      "image/png": "[encoded data removed]",
      "text/plain": [
       "<Figure size 864x576 with 1 Axes>"
      ]
     },
     "metadata": {
      "needs_background": "light"
     },
     "output_type": "display_data"
    },
    {
     "name": "stdout",
     "output_type": "stream",
     "text": [
      "x0 = 0.5\n",
      "iter=0   newton     x=0.24205584583201645     err=2.5794e-01   bounds=(0, 1)\n",
      "iter=1   newton     x=0.22186227635177588     err=2.0194e-02   bounds=(0, 1)\n",
      "iter=2   newton     x=0.22209978959601762     err=2.3751e-04   bounds=(0, 1)\n",
      "iter=3   newton     x=0.222099829644735       err=4.0049e-08   bounds=(0, 1)\n",
      "Converged in 4 iterations, x* = 0.2220998296447350\n"
     ]
    },
    {
     "data": {
      "image/png": "[encoded data removed]",
      "text/plain": [
       "<Figure size 864x576 with 1 Axes>"
      ]
     },
     "metadata": {
      "needs_background": "light"
     },
     "output_type": "display_data"
    },
    {
     "name": "stdout",
     "output_type": "stream",
     "text": [
      "x0 = 0.5\n",
      "iter=0   bisection  x=0.75                    err=2.5000e-01   bounds=(0.5, 1)\n",
      "iter=1   bisection  x=0.875                   err=1.2500e-01   bounds=(0.75, 1)\n",
      "iter=2   bisection  x=0.9375                  err=6.2500e-02   bounds=(0.875, 1)\n",
      "iter=3   bisection  x=0.96875                 err=3.1250e-02   bounds=(0.9375, 1)\n",
      "iter=4   bisection  x=0.984375                err=1.5625e-02   bounds=(0.96875, 1)\n",
      "iter=5   bisection  x=0.9921875               err=7.8125e-03   bounds=(0.984375, 1)\n",
      "iter=6   bisection  x=0.99609375              err=3.9062e-03   bounds=(0.9921875, 1)\n",
      "iter=7   bisection  x=0.998046875             err=1.9531e-03   bounds=(0.99609375, 1)\n",
      "iter=8   bisection  x=0.9990234375            err=9.7656e-04   bounds=(0.998046875, 1)\n",
      "iter=9   bisection  x=0.99951171875           err=4.8828e-04   bounds=(0.9990234375, 1)\n",
      "iter=10  bisection  x=0.999755859375          err=2.4414e-04   bounds=(0.99951171875, 1)\n",
      "iter=11  bisection  x=0.9998779296875         err=1.2207e-04   bounds=(0.999755859375, 1)\n",
      "iter=12  newton     x=0.9999986681276718      err=1.2074e-04   bounds=(0.999755859375, 1)\n",
      "iter=13  newton     x=0.9999939680663965      err=4.7001e-06   bounds=(0.999755859375, 1)\n",
      "iter=14  newton     x=0.9999817931722779      err=1.2175e-05   bounds=(0.999755859375, 1)\n",
      "iter=15  newton     x=0.9999651586097119      err=1.6635e-05   bounds=(0.999755859375, 1)\n",
      "iter=16  newton     x=0.9999559390072096      err=9.2196e-06   bounds=(0.999755859375, 1)\n",
      "iter=17  newton     x=0.9999546240099589      err=1.3150e-06   bounds=(0.999755859375, 1)\n",
      "iter=18  newton     x=0.999954604196403       err=1.9814e-08   bounds=(0.999755859375, 1)\n",
      "Converged in 19 iterations, x* = 0.9999546041964030\n",
      "x0 = 0.5\n",
      "iter=0   bisection  x=0.25                    err=2.5000e-01   bounds=(0, 0.5)\n",
      "iter=1   bisection  x=0.125                   err=1.2500e-01   bounds=(0, 0.25)\n",
      "iter=2   bisection  x=0.0625                  err=6.2500e-02   bounds=(0, 0.125)\n",
      "iter=3   bisection  x=0.03125                 err=3.1250e-02   bounds=(0, 0.0625)\n",
      "iter=4   bisection  x=0.015625                err=1.5625e-02   bounds=(0, 0.03125)\n",
      "iter=5   bisection  x=0.0078125               err=7.8125e-03   bounds=(0, 0.015625)\n",
      "iter=6   bisection  x=0.00390625              err=3.9062e-03   bounds=(0, 0.0078125)\n",
      "iter=7   bisection  x=0.001953125             err=1.9531e-03   bounds=(0, 0.00390625)\n",
      "iter=8   bisection  x=0.0009765625            err=9.7656e-04   bounds=(0, 0.001953125)\n",
      "iter=9   bisection  x=0.00048828125           err=4.8828e-04   bounds=(0, 0.0009765625)\n",
      "iter=10  bisection  x=0.000244140625          err=2.4414e-04   bounds=(0, 0.00048828125)\n",
      "iter=11  bisection  x=0.0001220703125         err=1.2207e-04   bounds=(0, 0.000244140625)\n",
      "iter=12  bisection  x=6.103515625e-05         err=6.1035e-05   bounds=(0, 0.0001220703125)\n",
      "iter=13  bisection  x=3.0517578125e-05        err=3.0518e-05   bounds=(0, 6.103515625e-05)\n",
      "iter=14  bisection  x=1.52587890625e-05       err=1.5259e-05   bounds=(0, 3.0517578125e-05)\n",
      "iter=15  bisection  x=7.62939453125e-06       err=7.6294e-06   bounds=(0, 1.52587890625e-05)\n",
      "iter=16  bisection  x=3.814697265625e-06      err=3.8147e-06   bounds=(0, 7.62939453125e-06)\n",
      "iter=17  bisection  x=1.9073486328125e-06     err=1.9073e-06   bounds=(0, 3.814697265625e-06)\n",
      "iter=18  bisection  x=9.5367431640625e-07     err=9.5367e-07   bounds=(0, 1.9073486328125e-06)\n",
      "Converged in 19 iterations, x* = 0.0000009536743164\n",
      "x0 = 0.9\n",
      "iter=0   bisection  x=0.95                    err=5.0000e-02   bounds=(0.9, 1)\n",
      "iter=1   bisection  x=0.975                   err=2.5000e-02   bounds=(0.95, 1)\n",
      "iter=2   bisection  x=0.9875                  err=1.2500e-02   bounds=(0.975, 1)\n",
      "iter=3   newton     x=0.9952833780711102      err=7.7834e-03   bounds=(0.975, 1)\n",
      "iter=4   newton     x=0.9936312647131805      err=1.6521e-03   bounds=(0.975, 1)\n",
      "iter=5   newton     x=0.9933150757720691      err=3.1619e-04   bounds=(0.975, 1)\n",
      "iter=6   newton     x=0.9933071537399688      err=7.9220e-06   bounds=(0.975, 1)\n",
      "iter=7   newton     x=0.9933071490757167      err=4.6643e-09   bounds=(0.975, 1)\n",
      "iter=8   newton     x=0.9933071490757152      err=1.5543e-15   bounds=(0.975, 1)\n",
      "iter=9   newton     x=0.9933071490757152      err=0.0000e+00   bounds=(0.975, 1)\n",
      "Converged in 10 iterations, x* = 0.9933071490757152\n"
     ]
    }
   ],
   "source": [
    "def run(a,b,c,plot=False,**kwargs):\n",
    "    '''Solves the equation with illustrations'''\n",
    "    assert a*b<0, 'Must have different signs on a and b by the conditions of the problem'\n",
    "    f = lambda x: a*np.log(x) + b*np.log(1-x) + c\n",
    "    g = lambda x: a/x - b/(1-x)\n",
    "    # plot\n",
    "    if plot:\n",
    "        xd = np.linspace(0,1,1000)\n",
    "        plt.plot(xd,f(xd),c='r')\n",
    "        plt.plot([0,1],[0,0],c='dimgrey')\n",
    "        plt.show()\n",
    "    def printiter (**kwargs):\n",
    "        printiter.cout += 1\n",
    "        iter = kwargs['iter']\n",
    "        type = kwargs['type']\n",
    "        x = kwargs['x1']\n",
    "        bounds = kwargs['bounds']\n",
    "        err = kwargs['err']\n",
    "        if iter == 0:\n",
    "            print('x0 = {}'.format(kwargs['x0']))\n",
    "        print('iter={:<3d} {:<9s}  x={:<23} err={:1.4e}   bounds={:}'.format(iter,type,x,err,bounds))\n",
    "    printiter.cout = 0\n",
    "    xs = newton_bounds(f,g,bounds=(0,1),callback=printiter,**kwargs)\n",
    "    print('Converged in %d iterations, x* = %1.16f' % (printiter.cout,xs))\n",
    "\n",
    "run(1,-4,0.5,plot=True)\n",
    "run(2,-1,-10,plot=True)\n",
    "run(2,-3,1e25)\n",
    "run(1,-1,-5,x0=.9,tol=1e-15)"
   ]
  },
  {
   "cell_type": "markdown",
   "metadata": {
    "slideshow": {
     "slide_type": "slide"
    }
   },
   "source": [
    "#### Further learning resources\n",
    "\n",
    "- Oscar Veliz video on Newton-bisections hybrid (more general)\n",
    "  [https://www.youtube.com/watch?v=FD3BPTMGJds&t=335s](https://www.youtube.com/watch?v=FD3BPTMGJds&t=335s)  "
   ]
  }
 ],
 "metadata": {
  "celltoolbar": "Slideshow",
  "date": 1612589585.79215,
  "download_nb": false,
  "filename": "25_newton_bounds.rst",
  "filename_with_path": "25_newton_bounds",
  "kernelspec": {
   "display_name": "Python 3",
   "language": "python",
   "name": "python3"
  },
  "language_info": {
   "codemirror_mode": {
    "name": "ipython",
    "version": 3
   },
   "file_extension": ".py",
   "mimetype": "text/x-python",
   "name": "python",
   "nbconvert_exporter": "python",
   "pygments_lexer": "ipython3",
   "version": "3.7.6"
  },
  "title": "Foundations of Computational Economics #25"
 },
 "nbformat": 4,
 "nbformat_minor": 4
}
