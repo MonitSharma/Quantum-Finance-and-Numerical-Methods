{
 "cells": [
  {
   "cell_type": "markdown",
   "metadata": {
    "slideshow": {
     "slide_type": "slide"
    }
   },
   "source": [
    "# Foundations of Computational Economics #14\n",
    "\n",
    "by Fedor Iskhakov, ANU\n",
    "\n",
    "<img src=\"_static/img/dag3logo.png\" style=\"width:256px;\">"
   ]
  },
  {
   "cell_type": "markdown",
   "metadata": {
    "slideshow": {
     "slide_type": "fragment"
    }
   },
   "source": [
    "## Vectors and matrixes (Numpy)\n",
    "\n",
    "<img src=\"_static/img/lecture.png\" style=\"width:64px;\">"
   ]
  },
  {
   "cell_type": "markdown",
   "metadata": {
    "slideshow": {
     "slide_type": "subslide"
    }
   },
   "source": [
    "<img src=\"_static/img/youtube.png\" style=\"width:65px;\">\n",
    "\n",
    "[https://youtu.be/QLp3PEziRJE](https://youtu.be/QLp3PEziRJE)\n",
    "\n",
    "Description: NumPy arrays data types and differences to native Python, operations on the arrays, solving linear systems of equations."
   ]
  },
  {
   "cell_type": "markdown",
   "metadata": {
    "slideshow": {
     "slide_type": "slide"
    }
   },
   "source": [
    "### Scientific stack in Python\n",
    "\n",
    "Collection of modules (libraries) used in scientific numerical computations:\n",
    "\n",
    "- **``NumPy``** is widely-used scientific computing package for implements fast array processing — vectorization  \n",
    "- **``SciPy``** is a collection of functions that perform common scientific operations (optimization, root finding, interpolation, numerical integration, etc.)  \n",
    "- **``Pandas``** is data manipulation package with special data types and methods  \n",
    "- **``Numba``** is just in time (JIT) compiler for a subset of Python and NumPy functions  \n",
    "- **``Matplotlib``** serves for making figures and plots  "
   ]
  },
  {
   "cell_type": "markdown",
   "metadata": {
    "slideshow": {
     "slide_type": "slide"
    }
   },
   "source": [
    "### NumPy library\n",
    "\n",
    "<img src=\"_static/img/numpy_logo.png\" style=\"width:512px;\">\n",
    "\n",
    "- **Vectorization in Python**  \n",
    "- **NumPy** is a widely-used scientific computing package for brings fast array processing to Python  \n",
    "- Reference guide: [https://docs.scipy.org/doc/numpy/reference/](https://docs.scipy.org/doc/numpy/reference/)  \n",
    "- Runs fast compiled code written in C & Fortran under the hood  "
   ]
  },
  {
   "cell_type": "markdown",
   "metadata": {
    "slideshow": {
     "slide_type": "slide"
    }
   },
   "source": [
    "#### Importing modules in Python\n",
    "\n",
    "- `import LIBRARY as ref`, then call library functions as `ref.function`  \n",
    "- `from LIBRARIY import function` or `from LIBRARIY import *`, then call library functions directly  \n",
    "- keeping conventional reference is a good idea for making your code understood by others!  "
   ]
  },
  {
   "cell_type": "code",
   "execution_count": 1,
   "metadata": {
    "hide-output": false,
    "slideshow": {
     "slide_type": "fragment"
    }
   },
   "outputs": [],
   "source": [
    "# import libraries\n",
    "import numpy as np"
   ]
  },
  {
   "cell_type": "markdown",
   "metadata": {
    "slideshow": {
     "slide_type": "slide"
    }
   },
   "source": [
    "#### Power of NumPy"
   ]
  },
  {
   "cell_type": "code",
   "execution_count": 2,
   "metadata": {
    "hide-output": false,
    "slideshow": {
     "slide_type": "fragment"
    }
   },
   "outputs": [
    {
     "name": "stdout",
     "output_type": "stream",
     "text": [
      "5.28 ms ± 63.6 µs per loop (mean ± std. dev. of 10 runs, 10 loops each)\n",
      "575 µs ± 26 µs per loop (mean ± std. dev. of 10 runs, 10 loops each)\n",
      "NumPy is on avarage 9.193 faster\n"
     ]
    }
   ],
   "source": [
    "N = 1000000\n",
    "data_list = list(range(N)) # Native Python list\n",
    "t1 = %timeit -n10 -r10 -o mean1 = sum(data_list)/N\n",
    "\n",
    "import numpy as np\n",
    "data_array = np.array(range(N)) #NumPy array\n",
    "t2 = %timeit -n10 -r10 -o mean2 = data_array.mean()\n",
    "\n",
    "print('NumPy is on avarage %2.3f faster' % (t1.average/t2.average))"
   ]
  },
  {
   "cell_type": "markdown",
   "metadata": {
    "slideshow": {
     "slide_type": "subslide"
    }
   },
   "source": [
    "SI orders of magnitude https://en.wikipedia.org/wiki/Micro-"
   ]
  },
  {
   "cell_type": "markdown",
   "metadata": {
    "slideshow": {
     "slide_type": "slide"
    }
   },
   "source": [
    "#### Scientific computing: more advanced treatment of numbers\n",
    "\n",
    "Inherited from low lever C implementation\n",
    "\n",
    "- int8, uint8 (signed and unsigned)  \n",
    "- int16, uint16  \n",
    "- int32, uint32  \n",
    "- float16  \n",
    "- float32  \n",
    "- float64  \n",
    "\n",
    "\n",
    "Full list of types:\n",
    "[https://numpy.org/doc/stable/user/basics.types.html](https://numpy.org/doc/stable/user/basics.types.html)"
   ]
  },
  {
   "cell_type": "markdown",
   "metadata": {
    "slideshow": {
     "slide_type": "slide"
    }
   },
   "source": [
    "#### Array initialization with type"
   ]
  },
  {
   "cell_type": "code",
   "execution_count": 3,
   "metadata": {
    "hide-output": false,
    "slideshow": {
     "slide_type": "fragment"
    }
   },
   "outputs": [
    {
     "name": "stdout",
     "output_type": "stream",
     "text": [
      "x <class 'numpy.bool_'>, takes 99 bytes\n",
      "y <class 'numpy.int16'>, takes 102 bytes\n",
      "z <class 'numpy.float64'>, takes 120 bytes\n"
     ]
    }
   ],
   "source": [
    "import sys\n",
    "x = np.array([-1,0,1.4],dtype='bool')\n",
    "y = np.array([-1,0,1.4],dtype='int16')\n",
    "z = np.array([-1,0,1.4],dtype='float64')\n",
    "print('x %s, takes %d bytes' % (type(x[0]),sys.getsizeof(x)))\n",
    "print('y %s, takes %d bytes' % (type(y[0]),sys.getsizeof(y)))\n",
    "print('z %s, takes %d bytes' % (type(z[0]),sys.getsizeof(z)))"
   ]
  },
  {
   "cell_type": "markdown",
   "metadata": {
    "slideshow": {
     "slide_type": "fragment"
    }
   },
   "source": [
    "NumPy array hold data of **the same type**"
   ]
  },
  {
   "cell_type": "markdown",
   "metadata": {
    "slideshow": {
     "slide_type": "slide"
    }
   },
   "source": [
    "#### Integer overflow"
   ]
  },
  {
   "cell_type": "code",
   "execution_count": 4,
   "metadata": {
    "hide-output": false,
    "slideshow": {
     "slide_type": "fragment"
    }
   },
   "outputs": [
    {
     "name": "stdout",
     "output_type": "stream",
     "text": [
      "[255   0   1]\n"
     ]
    }
   ],
   "source": [
    "x = np.array([0,0,0],dtype='uint8')\n",
    "x[0] = 255\n",
    "x[1] = x[0] + 1\n",
    "x[2] = x[1] + 1\n",
    "print(x)"
   ]
  },
  {
   "cell_type": "markdown",
   "metadata": {
    "slideshow": {
     "slide_type": "slide"
    }
   },
   "source": [
    "#### Infinity and not-a-number"
   ]
  },
  {
   "cell_type": "code",
   "execution_count": 5,
   "metadata": {
    "hide-output": false,
    "slideshow": {
     "slide_type": "fragment"
    }
   },
   "outputs": [
    {
     "name": "stdout",
     "output_type": "stream",
     "text": [
      "[-inf  nan  inf  inf]\n"
     ]
    },
    {
     "name": "stderr",
     "output_type": "stream",
     "text": [
      "/usr/local/anaconda3/lib/python3.7/site-packages/ipykernel_launcher.py:4: RuntimeWarning: divide by zero encountered in true_divide\n",
      "  after removing the cwd from sys.path.\n",
      "/usr/local/anaconda3/lib/python3.7/site-packages/ipykernel_launcher.py:4: RuntimeWarning: invalid value encountered in true_divide\n",
      "  after removing the cwd from sys.path.\n"
     ]
    }
   ],
   "source": [
    "# Inf and NaN\n",
    "# np.seterr(all=None, divide='ignore', over=None, under=None, invalid='ignore')\n",
    "x = np.array([-1,0,1,10],dtype='float64')\n",
    "print( x / 0 )\n",
    "# y = 10 / 0 # core Python"
   ]
  },
  {
   "cell_type": "code",
   "execution_count": 6,
   "metadata": {
    "hide-output": false,
    "slideshow": {
     "slide_type": "slide"
    }
   },
   "outputs": [
    {
     "name": "stdout",
     "output_type": "stream",
     "text": [
      "True False True\n"
     ]
    }
   ],
   "source": [
    "# Comparing nans and infs\n",
    "a = (np.inf == np.inf)\n",
    "b = (np.nan == np.nan)  # Can not compare nan to nan!\n",
    "c = np.isnan(np.nan)\n",
    "print (a, b, c)"
   ]
  },
  {
   "cell_type": "markdown",
   "metadata": {
    "slideshow": {
     "slide_type": "slide"
    }
   },
   "source": [
    "#### What is inside array?\n",
    "\n",
    "First, import module `obj_explore.py`: this is not trivial because jupyter notebooks require imported modules to be on the known `PATH`"
   ]
  },
  {
   "cell_type": "code",
   "execution_count": 7,
   "metadata": {
    "hide-output": false,
    "slideshow": {
     "slide_type": "fragment"
    }
   },
   "outputs": [],
   "source": [
    "# add path to the modules directory\n",
    "import sys\n",
    "sys.path.insert(1, './_static/include/')\n",
    "# import the obj_explore() function\n",
    "from obj_explore import *"
   ]
  },
  {
   "cell_type": "code",
   "execution_count": 8,
   "metadata": {
    "hide-output": false,
    "slideshow": {
     "slide_type": "slide"
    }
   },
   "outputs": [
    {
     "name": "stdout",
     "output_type": "stream",
     "text": [
      "[<class 'numpy.float64'>, <class 'numpy.float64'>, <class 'numpy.float64'>, <class 'numpy.float64'>, <class 'numpy.float64'>]\n"
     ]
    },
    {
     "data": {
      "text/plain": [
       "array([1., 2., 3., 4., 5.])"
      ]
     },
     "execution_count": 8,
     "metadata": {},
     "output_type": "execute_result"
    }
   ],
   "source": [
    "a = np.array([1,2,3,4,5],dtype='float64')\n",
    "# a = np.arange(5,dtype='uint8') + 1\n",
    "print([type(a_element) for a_element in a])\n",
    "a"
   ]
  },
  {
   "cell_type": "code",
   "execution_count": 9,
   "metadata": {
    "hide-output": false,
    "slideshow": {
     "slide_type": "slide"
    }
   },
   "outputs": [
    {
     "name": "stdout",
     "output_type": "stream",
     "text": [
      "[1. 2. 3. 4. 5.]\n",
      "------------------------------------------------------------\n",
      "Object report on object = array([1., 2., 3., 4., 5.])\n",
      "Objec class     : <class 'numpy.ndarray'>\n",
      "Parent classes  : <class 'object'>\n",
      "Occupied memory : 136 bytes\n",
      "PUBLIC PROPERTIES\n",
      "T               = array([1., 2., 3., 4., 5.]) <class 'numpy.ndarray'>\n",
      "base            = None <class 'NoneType'>\n",
      "ctypes          = <numpy.core._internal._ctypes object at 0x7fc62a17dc10> <class 'numpy.core._internal._ctypes'>\n",
      "data            = <memory at 0x7fc6488ee870> <class 'memoryview'>\n",
      "dtype           = dtype('float64') <class 'numpy.dtype'>\n",
      "flags           =   C_CONTIGUOUS : True\n",
      "  F_CONTIGUOUS : True\n",
      "  OWNDATA : True\n",
      "  WRITEABLE : True\n",
      "  ALIGNED : True\n",
      "  WRITEBACKIFCOPY : False\n",
      "  UPDATEIFCOPY : False\n",
      " <class 'numpy.flagsobj'>\n",
      "flat            = <numpy.flatiter object at 0x7fc5f40c1c00> <class 'numpy.flatiter'>\n",
      "imag            = array([0., 0., 0., 0., 0.]) <class 'numpy.ndarray'>\n",
      "itemsize        = 8 <class 'int'>\n",
      "nbytes          = 40 <class 'int'>\n",
      "ndim            = 1 <class 'int'>\n",
      "real            = array([1., 2., 3., 4., 5.]) <class 'numpy.ndarray'>\n",
      "shape           = (5,) <class 'tuple'>\n",
      "size            = 5 <class 'int'>\n",
      "strides         = (8,) <class 'tuple'>\n",
      "PUBLIC METHODS\n",
      "all             <class 'builtin_function_or_method'>\n",
      "any             <class 'builtin_function_or_method'>\n",
      "argmax          <class 'builtin_function_or_method'>\n",
      "argmin          <class 'builtin_function_or_method'>\n",
      "argpartition    <class 'builtin_function_or_method'>\n",
      "argsort         <class 'builtin_function_or_method'>\n",
      "astype          <class 'builtin_function_or_method'>\n",
      "byteswap        <class 'builtin_function_or_method'>\n",
      "choose          <class 'builtin_function_or_method'>\n",
      "clip            <class 'builtin_function_or_method'>\n",
      "compress        <class 'builtin_function_or_method'>\n",
      "conj            <class 'builtin_function_or_method'>\n",
      "conjugate       <class 'builtin_function_or_method'>\n",
      "copy            <class 'builtin_function_or_method'>\n",
      "cumprod         <class 'builtin_function_or_method'>\n",
      "cumsum          <class 'builtin_function_or_method'>\n",
      "diagonal        <class 'builtin_function_or_method'>\n",
      "dot             <class 'builtin_function_or_method'>\n",
      "dump            <class 'builtin_function_or_method'>\n",
      "dumps           <class 'builtin_function_or_method'>\n",
      "fill            <class 'builtin_function_or_method'>\n",
      "flatten         <class 'builtin_function_or_method'>\n",
      "getfield        <class 'builtin_function_or_method'>\n",
      "item            <class 'builtin_function_or_method'>\n",
      "itemset         <class 'builtin_function_or_method'>\n",
      "max             <class 'builtin_function_or_method'>\n",
      "mean            <class 'builtin_function_or_method'>\n",
      "min             <class 'builtin_function_or_method'>\n",
      "newbyteorder    <class 'builtin_function_or_method'>\n",
      "nonzero         <class 'builtin_function_or_method'>\n",
      "partition       <class 'builtin_function_or_method'>\n",
      "prod            <class 'builtin_function_or_method'>\n",
      "ptp             <class 'builtin_function_or_method'>\n",
      "put             <class 'builtin_function_or_method'>\n",
      "ravel           <class 'builtin_function_or_method'>\n",
      "repeat          <class 'builtin_function_or_method'>\n",
      "reshape         <class 'builtin_function_or_method'>\n",
      "resize          <class 'builtin_function_or_method'>\n",
      "round           <class 'builtin_function_or_method'>\n",
      "searchsorted    <class 'builtin_function_or_method'>\n",
      "setfield        <class 'builtin_function_or_method'>\n",
      "setflags        <class 'builtin_function_or_method'>\n",
      "sort            <class 'builtin_function_or_method'>\n",
      "squeeze         <class 'builtin_function_or_method'>\n",
      "std             <class 'builtin_function_or_method'>\n",
      "sum             <class 'builtin_function_or_method'>\n",
      "swapaxes        <class 'builtin_function_or_method'>\n",
      "take            <class 'builtin_function_or_method'>\n",
      "tobytes         <class 'builtin_function_or_method'>\n",
      "tofile          <class 'builtin_function_or_method'>\n",
      "tolist          <class 'builtin_function_or_method'>\n",
      "tostring        <class 'builtin_function_or_method'>\n",
      "trace           <class 'builtin_function_or_method'>\n",
      "transpose       <class 'builtin_function_or_method'>\n",
      "var             <class 'builtin_function_or_method'>\n",
      "view            <class 'builtin_function_or_method'>\n"
     ]
    }
   ],
   "source": [
    "obj_explore(a,'public')\n",
    "# help(a)"
   ]
  },
  {
   "cell_type": "markdown",
   "metadata": {
    "slideshow": {
     "slide_type": "slide"
    }
   },
   "source": [
    "#### Memory footprint"
   ]
  },
  {
   "cell_type": "code",
   "execution_count": 10,
   "metadata": {
    "hide-output": false,
    "slideshow": {
     "slide_type": "fragment"
    }
   },
   "outputs": [],
   "source": [
    "import sys\n",
    "def memory_usage(var,grow,steps=10):\n",
    "    \"\"\"Returns data on memory usage when var is grown using supplied function for given number of steps\"\"\"\n",
    "    d={\"x\":[],\"y\":[],\"v\":[]} # dictionary for x, y data, and values\n",
    "    for i in range(steps):\n",
    "        var=grow(var) # next value\n",
    "        d[\"v\"].append(var)\n",
    "        d[\"x\"].append(i+1)\n",
    "        d[\"y\"].append(sys.getsizeof(var))\n",
    "    return d"
   ]
  },
  {
   "cell_type": "code",
   "execution_count": 11,
   "metadata": {
    "hide-output": false,
    "slideshow": {
     "slide_type": "slide"
    }
   },
   "outputs": [
    {
     "data": {
      "image/png": "[encoded data removed]",
      "text/plain": [
       "<Figure size 432x288 with 1 Axes>"
      ]
     },
     "metadata": {
      "needs_background": "light"
     },
     "output_type": "display_data"
    }
   ],
   "source": [
    "x = [0,] # Python list\n",
    "grow = lambda x: [0,]*len(x)*2\n",
    "d1 = memory_usage(x,grow,steps=10)\n",
    "x = np.array([0])\n",
    "grow = lambda x: np.array([0,]*x.size*2,dtype='int8')\n",
    "d2 = memory_usage(x,grow,steps=10)\n",
    "\n",
    "import matplotlib.pyplot as plt\n",
    "%matplotlib inline\n",
    "plt.plot(d1[\"x\"],d1[\"y\"],label='Python')\n",
    "plt.plot(d2[\"x\"],d2[\"y\"],label='Numpy')\n",
    "plt.axis([min(d1[\"x\"]),max(d1[\"x\"]),0,max(d1[\"y\"])+1])\n",
    "plt.ylabel('size in memory, bytes')\n",
    "plt.xlabel('steps of variable update')\n",
    "plt.legend()\n",
    "plt.show()"
   ]
  },
  {
   "cell_type": "markdown",
   "metadata": {
    "slideshow": {
     "slide_type": "slide"
    }
   },
   "source": [
    "#### Creating arrays\n",
    "\n",
    "- From lists  \n",
    "- Using functions for standard cases  "
   ]
  },
  {
   "cell_type": "code",
   "execution_count": 12,
   "metadata": {
    "hide-output": false,
    "slideshow": {
     "slide_type": "fragment"
    }
   },
   "outputs": [
    {
     "name": "stdout",
     "output_type": "stream",
     "text": [
      "[1. 3. 5. 7.]\n"
     ]
    }
   ],
   "source": [
    "a = np.array([1,3,5.0,7])\n",
    "print(a)"
   ]
  },
  {
   "cell_type": "code",
   "execution_count": 13,
   "metadata": {
    "hide-output": false,
    "slideshow": {
     "slide_type": "slide"
    }
   },
   "outputs": [
    {
     "name": "stdout",
     "output_type": "stream",
     "text": [
      "[  0   0   0   0   0   0   0 -96   0   0   0   0   0   0   0 -96  41   0\n",
      " -18  10   1   0   0   0   9]\n",
      "\n",
      "[0. 0. 0. 0. 0.]\n",
      "\n",
      "[1. 1. 1. 1. 1.]\n",
      "\n",
      "[0 1 2 3 4 5 6 7 8 9]\n",
      "\n",
      "[2.  2.1 2.2 2.3 2.4 2.5 2.6 2.7 2.8 2.9 3. ]\n"
     ]
    }
   ],
   "source": [
    "a = np.empty(25,'int8')  # not initialized !\n",
    "b = np.zeros(5)          # initialized with zeros\n",
    "c = np.ones(5)\n",
    "d = np.arange(10)\n",
    "e = np.linspace(2, 3, 11) # fill between 2 and 3 with 10 points\n",
    "print(a,b,c,d,e,sep='\\n\\n')"
   ]
  },
  {
   "cell_type": "markdown",
   "metadata": {
    "slideshow": {
     "slide_type": "fragment"
    }
   },
   "source": [
    "Note that uninitialized array may have garbage (random state of the memory)"
   ]
  },
  {
   "cell_type": "markdown",
   "metadata": {
    "slideshow": {
     "slide_type": "slide"
    }
   },
   "source": [
    "#### Matrices and multidimensional arrays"
   ]
  },
  {
   "cell_type": "code",
   "execution_count": 14,
   "metadata": {
    "hide-output": false,
    "slideshow": {
     "slide_type": "fragment"
    }
   },
   "outputs": [
    {
     "name": "stdout",
     "output_type": "stream",
     "text": [
      "[[1. 0. 0. 0. 0.]\n",
      " [0. 1. 0. 0. 0.]\n",
      " [0. 0. 1. 0. 0.]\n",
      " [0. 0. 0. 1. 0.]\n",
      " [0. 0. 0. 0. 1.]]\n",
      "[[1. 1. 1.]\n",
      " [1. 1. 1.]]\n"
     ]
    }
   ],
   "source": [
    "a = np.eye(5) # identity matrix\n",
    "b = np.ones((2,3))\n",
    "print(a)\n",
    "print(b)"
   ]
  },
  {
   "cell_type": "code",
   "execution_count": 15,
   "metadata": {
    "hide-output": false,
    "slideshow": {
     "slide_type": "slide"
    }
   },
   "outputs": [
    {
     "name": "stdout",
     "output_type": "stream",
     "text": [
      "[[3. 3. 3.]\n",
      " [3. 3. 3.]]\n",
      "<class 'numpy.ndarray'>\n",
      "[[3. 3. 3.]\n",
      " [3. 3. 3.]]\n",
      "<class 'numpy.matrix'>\n"
     ]
    }
   ],
   "source": [
    "b=b+2\n",
    "c = np.asmatrix(b) # matrix !\n",
    "print(b)\n",
    "print(type(b))\n",
    "print(c)\n",
    "print(type(c))"
   ]
  },
  {
   "cell_type": "code",
   "execution_count": 16,
   "metadata": {
    "hide-output": false,
    "slideshow": {
     "slide_type": "slide"
    }
   },
   "outputs": [
    {
     "name": "stdout",
     "output_type": "stream",
     "text": [
      "[[3. 3. 3.]\n",
      " [3. 3. 3.]]\n",
      "[[9. 9. 9.]\n",
      " [9. 9. 9.]]\n"
     ]
    },
    {
     "ename": "ValueError",
     "evalue": "shapes (2,3) and (2,3) not aligned: 3 (dim 1) != 2 (dim 0)",
     "output_type": "error",
     "traceback": [
      "\u001b[0;31m---------------------------------------------------------------------------\u001b[0m",
      "\u001b[0;31mValueError\u001b[0m                                Traceback (most recent call last)",
      "\u001b[0;32m<ipython-input-16-6f93afd2d822>\u001b[0m in \u001b[0;36m<module>\u001b[0;34m\u001b[0m\n\u001b[1;32m      1\u001b[0m \u001b[0mprint\u001b[0m\u001b[0;34m(\u001b[0m\u001b[0mb\u001b[0m\u001b[0;34m)\u001b[0m\u001b[0;34m\u001b[0m\u001b[0;34m\u001b[0m\u001b[0m\n\u001b[1;32m      2\u001b[0m \u001b[0mprint\u001b[0m\u001b[0;34m(\u001b[0m\u001b[0mb\u001b[0m\u001b[0;34m*\u001b[0m\u001b[0mb\u001b[0m\u001b[0;34m)\u001b[0m \u001b[0;31m# element by element\u001b[0m\u001b[0;34m\u001b[0m\u001b[0;34m\u001b[0m\u001b[0m\n\u001b[0;32m----> 3\u001b[0;31m \u001b[0mprint\u001b[0m\u001b[0;34m(\u001b[0m\u001b[0mc\u001b[0m\u001b[0;34m*\u001b[0m\u001b[0mc\u001b[0m\u001b[0;34m)\u001b[0m \u001b[0;31m# matrix multiplication\u001b[0m\u001b[0;34m\u001b[0m\u001b[0;34m\u001b[0m\u001b[0m\n\u001b[0m",
      "\u001b[0;32m/usr/local/anaconda3/lib/python3.7/site-packages/numpy/matrixlib/defmatrix.py\u001b[0m in \u001b[0;36m__mul__\u001b[0;34m(self, other)\u001b[0m\n\u001b[1;32m    218\u001b[0m         \u001b[0;32mif\u001b[0m \u001b[0misinstance\u001b[0m\u001b[0;34m(\u001b[0m\u001b[0mother\u001b[0m\u001b[0;34m,\u001b[0m \u001b[0;34m(\u001b[0m\u001b[0mN\u001b[0m\u001b[0;34m.\u001b[0m\u001b[0mndarray\u001b[0m\u001b[0;34m,\u001b[0m \u001b[0mlist\u001b[0m\u001b[0;34m,\u001b[0m \u001b[0mtuple\u001b[0m\u001b[0;34m)\u001b[0m\u001b[0;34m)\u001b[0m \u001b[0;34m:\u001b[0m\u001b[0;34m\u001b[0m\u001b[0;34m\u001b[0m\u001b[0m\n\u001b[1;32m    219\u001b[0m             \u001b[0;31m# This promotes 1-D vectors to row vectors\u001b[0m\u001b[0;34m\u001b[0m\u001b[0;34m\u001b[0m\u001b[0;34m\u001b[0m\u001b[0m\n\u001b[0;32m--> 220\u001b[0;31m             \u001b[0;32mreturn\u001b[0m \u001b[0mN\u001b[0m\u001b[0;34m.\u001b[0m\u001b[0mdot\u001b[0m\u001b[0;34m(\u001b[0m\u001b[0mself\u001b[0m\u001b[0;34m,\u001b[0m \u001b[0masmatrix\u001b[0m\u001b[0;34m(\u001b[0m\u001b[0mother\u001b[0m\u001b[0;34m)\u001b[0m\u001b[0;34m)\u001b[0m\u001b[0;34m\u001b[0m\u001b[0;34m\u001b[0m\u001b[0m\n\u001b[0m\u001b[1;32m    221\u001b[0m         \u001b[0;32mif\u001b[0m \u001b[0misscalar\u001b[0m\u001b[0;34m(\u001b[0m\u001b[0mother\u001b[0m\u001b[0;34m)\u001b[0m \u001b[0;32mor\u001b[0m \u001b[0;32mnot\u001b[0m \u001b[0mhasattr\u001b[0m\u001b[0;34m(\u001b[0m\u001b[0mother\u001b[0m\u001b[0;34m,\u001b[0m \u001b[0;34m'__rmul__'\u001b[0m\u001b[0;34m)\u001b[0m \u001b[0;34m:\u001b[0m\u001b[0;34m\u001b[0m\u001b[0;34m\u001b[0m\u001b[0m\n\u001b[1;32m    222\u001b[0m             \u001b[0;32mreturn\u001b[0m \u001b[0mN\u001b[0m\u001b[0;34m.\u001b[0m\u001b[0mdot\u001b[0m\u001b[0;34m(\u001b[0m\u001b[0mself\u001b[0m\u001b[0;34m,\u001b[0m \u001b[0mother\u001b[0m\u001b[0;34m)\u001b[0m\u001b[0;34m\u001b[0m\u001b[0;34m\u001b[0m\u001b[0m\n",
      "\u001b[0;32m<__array_function__ internals>\u001b[0m in \u001b[0;36mdot\u001b[0;34m(*args, **kwargs)\u001b[0m\n",
      "\u001b[0;31mValueError\u001b[0m: shapes (2,3) and (2,3) not aligned: 3 (dim 1) != 2 (dim 0)"
     ]
    }
   ],
   "source": [
    "print(b)\n",
    "print(b*b) # element by element\n",
    "print(c*c) # matrix multiplication"
   ]
  },
  {
   "cell_type": "code",
   "execution_count": 17,
   "metadata": {
    "hide-output": false,
    "slideshow": {
     "slide_type": "slide"
    }
   },
   "outputs": [
    {
     "name": "stdout",
     "output_type": "stream",
     "text": [
      "[[27. 27.]\n",
      " [27. 27.]]\n"
     ]
    }
   ],
   "source": [
    "# c*c\n",
    "print(c*c.transpose())"
   ]
  },
  {
   "cell_type": "markdown",
   "metadata": {
    "slideshow": {
     "slide_type": "slide"
    }
   },
   "source": [
    "#### Indexing into arrays\n",
    "\n",
    "Several types of indexes:\n",
    "\n",
    "- scalar index x[0] (getitem)  \n",
    "- slicing like strings x[1::2]  \n",
    "- numerical indexing  \n",
    "- masks  "
   ]
  },
  {
   "cell_type": "code",
   "execution_count": 18,
   "metadata": {
    "hide-output": false,
    "slideshow": {
     "slide_type": "slide"
    }
   },
   "outputs": [
    {
     "name": "stdout",
     "output_type": "stream",
     "text": [
      "[[0.         0.14285714 0.28571429]\n",
      " [0.42857143 0.57142857 0.71428571]\n",
      " [0.85714286 1.         1.14285714]\n",
      " [1.28571429 1.42857143 1.57142857]\n",
      " [1.71428571 1.85714286 2.        ]]\n"
     ]
    }
   ],
   "source": [
    "z = np.linspace(0, 2, 15)\n",
    "z = np.reshape(z,[5,3])\n",
    "print(z)"
   ]
  },
  {
   "cell_type": "code",
   "execution_count": 19,
   "metadata": {
    "hide-output": false,
    "slideshow": {
     "slide_type": "slide"
    }
   },
   "outputs": [
    {
     "name": "stdout",
     "output_type": "stream",
     "text": [
      "[[0.         0.14285714 0.28571429]\n",
      " [0.42857143 0.57142857 0.71428571]\n",
      " [0.85714286 1.         1.14285714]\n",
      " [1.28571429 1.42857143 1.57142857]\n",
      " [1.71428571 1.85714286 2.        ]]\n",
      "\n",
      "[0.42857143 0.57142857 0.71428571]\n",
      "0.42857142857142855\n",
      "[[1.71428571 1.85714286 2.        ]]\n",
      "[0.57142857 1.        ]\n",
      "[[0.57142857 0.71428571]\n",
      " [1.         1.14285714]]\n",
      "[0.14285714 0.57142857 1.         1.42857143 1.85714286]\n"
     ]
    }
   ],
   "source": [
    "print(z,end='\\n\\n')\n",
    "print( z[1]      )   # scalar index: returns row array\n",
    "print( z[1,0]    )   # scalar index: returns number\n",
    "print( z[-1:]    )   # slicing: returns ?\n",
    "print( z[1:3,1]  )   # slicing + scalar index\n",
    "print( z[1:3,1:] )   # slicing\n",
    "print( z[:,1]    )   # slicing to get the column"
   ]
  },
  {
   "cell_type": "code",
   "execution_count": 20,
   "metadata": {
    "hide-output": false,
    "slideshow": {
     "slide_type": "slide"
    }
   },
   "outputs": [
    {
     "name": "stdout",
     "output_type": "stream",
     "text": [
      "[[ 4.2         9.3         0.28571429]\n",
      " [ 5.2         9.3         0.71428571]\n",
      " [ 6.2         5.          7.        ]\n",
      " [ 7.2        -2.          1.57142857]\n",
      " [ 8.2         1.85714286  2.        ]]\n"
     ]
    }
   ],
   "source": [
    "# Assigning elements of an array\n",
    "z[1,0] = -1\n",
    "z[2] = [4,5,7]  # assign whole row from a list\n",
    "z[:,0] = np.array([4.2,5.2,6.2,7.2,8.2]) # assign column from nparray\n",
    "z[:2,1]=9.3\n",
    "z[3][1]=-2 # note double bracket indexing\n",
    "print(z)"
   ]
  },
  {
   "cell_type": "code",
   "execution_count": 21,
   "metadata": {
    "hide-output": false,
    "slideshow": {
     "slide_type": "slide"
    }
   },
   "outputs": [
    {
     "name": "stdout",
     "output_type": "stream",
     "text": [
      "[[0.         0.18181818 0.36363636]\n",
      " [0.54545455 0.72727273 0.90909091]\n",
      " [1.09090909 1.27272727 1.45454545]\n",
      " [1.63636364 1.81818182 2.        ]]\n",
      "\n",
      "[0.         1.27272727 1.09090909]\n",
      "[1.09090909 1.27272727 1.45454545 1.63636364 1.81818182 2.        ]\n",
      "[[False False False]\n",
      " [False False False]\n",
      " [ True  True  True]\n",
      " [ True False False]]\n",
      "\n",
      "[1.09090909 1.27272727 1.45454545 1.63636364]\n"
     ]
    }
   ],
   "source": [
    "z = np.linspace(0, 2, 12)\n",
    "z = np.reshape(z,[4,3])\n",
    "print(z,end='\\n\\n')\n",
    "\n",
    "print( z[[0,2,2],[0,1,0]]    )   # numerical (element by element) indexing\n",
    "print( z[z>1.0]              )   # boolean indexing (masking)\n",
    "mask = np.logical_and(z>1.0,z<1.75)\n",
    "print(mask,end='\\n\\n')\n",
    "print( z[mask]               )   # boolean indexing (masking)"
   ]
  },
  {
   "cell_type": "markdown",
   "metadata": {
    "slideshow": {
     "slide_type": "slide"
    }
   },
   "source": [
    "#### Operation broadcasting\n",
    "\n",
    "<img src=\"_static/img/broadcasting.png\" style=\"width:800px;\">"
   ]
  },
  {
   "cell_type": "markdown",
   "metadata": {
    "slideshow": {
     "slide_type": "slide"
    }
   },
   "source": [
    "#### Operation broadcasting"
   ]
  },
  {
   "cell_type": "code",
   "execution_count": 22,
   "metadata": {
    "hide-output": false,
    "slideshow": {
     "slide_type": "fragment"
    }
   },
   "outputs": [
    {
     "name": "stdout",
     "output_type": "stream",
     "text": [
      "[11 12 13]\n",
      "[5 7 9]\n"
     ]
    }
   ],
   "source": [
    "a = np.array([1,2,3])\n",
    "b = np.array([4,5,6])\n",
    "print(a + 10)\n",
    "print(a + b)"
   ]
  },
  {
   "cell_type": "code",
   "execution_count": 23,
   "metadata": {
    "hide-output": false,
    "slideshow": {
     "slide_type": "slide"
    }
   },
   "outputs": [
    {
     "name": "stdout",
     "output_type": "stream",
     "text": [
      "[5 6 7]\n",
      "\n",
      "[[1. 1. 1.]\n",
      " [1. 1. 1.]\n",
      " [1. 1. 1.]]\n",
      "\n",
      "[[6. 7. 8.]\n",
      " [6. 7. 8.]\n",
      " [6. 7. 8.]]\n"
     ]
    }
   ],
   "source": [
    "x = np.arange(3) + 5\n",
    "y = np.ones((3,3))\n",
    "print(x,y,x+y,sep='\\n\\n')"
   ]
  },
  {
   "cell_type": "code",
   "execution_count": 24,
   "metadata": {
    "hide-output": false,
    "slideshow": {
     "slide_type": "slide"
    }
   },
   "outputs": [
    {
     "name": "stdout",
     "output_type": "stream",
     "text": [
      "[[0]\n",
      " [1]\n",
      " [2]\n",
      " [3]\n",
      " [4]]\n",
      "\n",
      "[[0 1 2 3 4]]\n",
      "\n",
      "[[0 1 2 3 4]\n",
      " [1 2 3 4 5]\n",
      " [2 3 4 5 6]\n",
      " [3 4 5 6 7]\n",
      " [4 5 6 7 8]]\n"
     ]
    }
   ],
   "source": [
    "x = np.arange(5).reshape((5,1))  # or\n",
    "x = np.arange(5)[:,np.newaxis]\n",
    "print(x,end='\\n\\n')\n",
    "print(x.transpose(),end='\\n\\n')\n",
    "print(x + x.transpose())"
   ]
  },
  {
   "cell_type": "code",
   "execution_count": 25,
   "metadata": {
    "hide-output": false,
    "slideshow": {
     "slide_type": "slide"
    }
   },
   "outputs": [
    {
     "name": "stdout",
     "output_type": "stream",
     "text": [
      "[[ 0  1  2  3]\n",
      " [ 4  5  6  7]\n",
      " [ 8  9 10 11]]\n",
      "\n",
      "[0 1 2 3]\n",
      "\n",
      "[[ 0  2  4  6]\n",
      " [ 4  6  8 10]\n",
      " [ 8 10 12 14]]\n"
     ]
    }
   ],
   "source": [
    "x = np.arange(12).reshape((3,4))\n",
    "y = np.arange(4)\n",
    "print(x,y,x+y,sep='\\n\\n')"
   ]
  },
  {
   "cell_type": "markdown",
   "metadata": {
    "slideshow": {
     "slide_type": "slide"
    }
   },
   "source": [
    "##### Broadcasting works with:\n",
    "\n",
    "- addition ($ + $)  \n",
    "- subtraction ($ - $)  \n",
    "- multiplication ($ * $)  \n",
    "- division ($ / $)  \n",
    "- integer division ($ // $)  \n",
    "- power ($ ** $)  \n",
    "- all *universal functions*  "
   ]
  },
  {
   "cell_type": "markdown",
   "metadata": {
    "slideshow": {
     "slide_type": "slide"
    }
   },
   "source": [
    "#### ufunc\n",
    "\n",
    "Functions provided by NumPy which support vectorization and broadcasting\n",
    "\n",
    "- Act on array element-wise  \n",
    "- Efficient implementation with low level code  \n",
    "\n",
    "\n",
    "[https://docs.scipy.org/doc/numpy/reference/ufuncs.html#available-ufuncs](https://docs.scipy.org/doc/numpy/reference/ufuncs.html#available-ufuncs)"
   ]
  },
  {
   "cell_type": "code",
   "execution_count": 26,
   "metadata": {
    "hide-output": false,
    "slideshow": {
     "slide_type": "slide"
    }
   },
   "outputs": [
    {
     "name": "stdout",
     "output_type": "stream",
     "text": [
      "1.02 ms ± 15.4 µs per loop (mean ± std. dev. of 10 runs, 10 loops each)\n",
      "101 µs ± 11.6 µs per loop (mean ± std. dev. of 10 runs, 10 loops each)\n",
      "NumPy is on avarage 10.158 faster\n"
     ]
    }
   ],
   "source": [
    "import math\n",
    "N = 10000\n",
    "data_list = list(range(N)) # Native Python list\n",
    "t1 = %timeit -n10 -r10 -o sin1 = [math.sin(x) for x in data_list]\n",
    "\n",
    "import numpy as np\n",
    "data_array = np.array(range(N)) #NumPy array\n",
    "t2 = %timeit -n10 -r10 -o sin2 = np.sin(data_array)\n",
    "\n",
    "print('NumPy is on avarage %2.3f faster' % (t1.average/t2.average))"
   ]
  },
  {
   "cell_type": "markdown",
   "metadata": {
    "slideshow": {
     "slide_type": "slide"
    }
   },
   "source": [
    "#### Reduction operations\n",
    "\n",
    "Functions that return the array of reduced size: **sum**, **min**,\n",
    "**max** , **mean**, **all**, **any**\n",
    "\n",
    "[https://numpy.org/doc/stable/reference/routines.math.html](https://numpy.org/doc/stable/reference/routines.math.html)"
   ]
  },
  {
   "cell_type": "code",
   "execution_count": 27,
   "metadata": {
    "hide-output": false,
    "slideshow": {
     "slide_type": "slide"
    }
   },
   "outputs": [
    {
     "name": "stdout",
     "output_type": "stream",
     "text": [
      "[[ 0  1  2]\n",
      " [ 3  4  5]\n",
      " [ 6  7  8]\n",
      " [ 9 10 11]]\n",
      "66\n",
      "[ 3 12 21 30]\n",
      "[[ 2]\n",
      " [ 5]\n",
      " [ 8]\n",
      " [11]]\n"
     ]
    }
   ],
   "source": [
    "x = np.arange(12).reshape(4,3)\n",
    "print(x)\n",
    "print(np.sum(x))\n",
    "print(np.sum(x, axis=1))\n",
    "print(np.maximum.reduce(x,axis=1,keepdims=True))"
   ]
  },
  {
   "cell_type": "code",
   "execution_count": 28,
   "metadata": {
    "hide-output": false,
    "slideshow": {
     "slide_type": "slide"
    }
   },
   "outputs": [
    {
     "name": "stdout",
     "output_type": "stream",
     "text": [
      "[[[ 0  1  2]\n",
      "  [ 3  4  5]\n",
      "  [ 6  7  8]\n",
      "  [ 9 10 11]]\n",
      "\n",
      " [[12 13 14]\n",
      "  [15 16 17]\n",
      "  [18 19 20]\n",
      "  [21 22 23]]]\n",
      "(2, 4)\n",
      "[[ 0  3  6  9]\n",
      " [12 15 18 21]]\n"
     ]
    }
   ],
   "source": [
    "x = np.arange(24).reshape(2,4,3)\n",
    "print(x)\n",
    "y = np.min(x,axis=2)\n",
    "# y = np.mean(x,axis=(1,2))\n",
    "print(y.shape)\n",
    "print(y)"
   ]
  },
  {
   "cell_type": "markdown",
   "metadata": {
    "slideshow": {
     "slide_type": "slide"
    }
   },
   "source": [
    "#### References and mutability\n",
    "\n",
    "NumPy tries not to copy data in the arrays when not necessary\n",
    "\n",
    "- principle: whether it is possible to maintain simple pointer arithmetic  \n",
    "- slices are generally not copied  \n",
    "- numerical indexing/mask generally copied  \n",
    "- **.flags** to check  \n",
    "- **.copy** to make a true copy  "
   ]
  },
  {
   "cell_type": "code",
   "execution_count": 29,
   "metadata": {
    "hide-output": false,
    "slideshow": {
     "slide_type": "slide"
    }
   },
   "outputs": [
    {
     "name": "stdout",
     "output_type": "stream",
     "text": [
      "[[ 0  1  2]\n",
      " [ 3  4  5]\n",
      " [ 6  7  8]\n",
      " [ 9 10 11]]\n",
      "[[ 1]\n",
      " [ 4]\n",
      " [ 7]\n",
      " [10]]\n",
      "  C_CONTIGUOUS : False\n",
      "  F_CONTIGUOUS : False\n",
      "  OWNDATA : False\n",
      "  WRITEABLE : True\n",
      "  ALIGNED : True\n",
      "  WRITEBACKIFCOPY : False\n",
      "  UPDATEIFCOPY : False\n",
      "\n",
      "[[  0 999   2]\n",
      " [  3   4   5]\n",
      " [  6   7   8]\n",
      " [  9  10  11]]\n"
     ]
    }
   ],
   "source": [
    "x = np.arange(12).reshape(4,3) # 2-dim array\n",
    "print(x)\n",
    "y = x[:,1:2]\n",
    "print(y)\n",
    "print(y.flags)\n",
    "y[0] = 999\n",
    "print(x)"
   ]
  },
  {
   "cell_type": "code",
   "execution_count": 30,
   "metadata": {
    "hide-output": false,
    "slideshow": {
     "slide_type": "slide"
    }
   },
   "outputs": [
    {
     "name": "stdout",
     "output_type": "stream",
     "text": [
      "[0 5]\n",
      "  C_CONTIGUOUS : True\n",
      "  F_CONTIGUOUS : True\n",
      "  OWNDATA : True\n",
      "  WRITEABLE : True\n",
      "  ALIGNED : True\n",
      "  WRITEBACKIFCOPY : False\n",
      "  UPDATEIFCOPY : False\n",
      "\n",
      "[[  0 999   2]\n",
      " [  3   4   5]\n",
      " [  6   7   8]\n",
      " [  9  10  11]]\n"
     ]
    }
   ],
   "source": [
    "y = x[[0,1],[0,2]]\n",
    "print(y)\n",
    "print(y.flags)\n",
    "y[0]=-100\n",
    "print(x)"
   ]
  },
  {
   "cell_type": "markdown",
   "metadata": {
    "slideshow": {
     "slide_type": "fragment"
    }
   },
   "source": [
    "[https://numpy.org/doc/stable/reference/generated/numpy.ndarray.flags.html](https://numpy.org/doc/stable/reference/generated/numpy.ndarray.flags.html)"
   ]
  },
  {
   "cell_type": "markdown",
   "metadata": {
    "slideshow": {
     "slide_type": "slide"
    }
   },
   "source": [
    "### Linear algebra with NumPy\n",
    "\n",
    "Submodule numpy.linalg\n",
    "\n",
    "- matrix decompositions  \n",
    "- eigenvalues  \n",
    "- determinant, rank  \n",
    "- matrix inverse  \n",
    "- linear systems of equations  \n",
    "\n",
    "\n",
    "[https://numpy.org/doc/stable/reference/routines.linalg.html](https://numpy.org/doc/stable/reference/routines.linalg.html)"
   ]
  },
  {
   "cell_type": "code",
   "execution_count": 31,
   "metadata": {
    "hide-output": false,
    "slideshow": {
     "slide_type": "slide"
    }
   },
   "outputs": [
    {
     "name": "stdout",
     "output_type": "stream",
     "text": [
      "<module 'numpy.linalg' from '/usr/local/anaconda3/lib/python3.7/site-packages/numpy/linalg/__init__.py'>\n",
      "------------------------------------------------------------\n",
      "Object report on object = <module 'numpy.linalg' from '/usr/local/anaconda3/lib/python3.7/site-packages/numpy/linalg/__init__.py'>\n",
      "Objec class     : <class 'module'>\n",
      "Parent classes  : <class 'object'>\n",
      "Occupied memory : 88 bytes\n",
      "PUBLIC METHODS\n",
      "LinAlgError     <class 'type'>\n",
      "cholesky        <class 'function'>\n",
      "cond            <class 'function'>\n",
      "det             <class 'function'>\n",
      "eig             <class 'function'>\n",
      "eigh            <class 'function'>\n",
      "eigvals         <class 'function'>\n",
      "eigvalsh        <class 'function'>\n",
      "inv             <class 'function'>\n",
      "lstsq           <class 'function'>\n",
      "matrix_power    <class 'function'>\n",
      "matrix_rank     <class 'function'>\n",
      "multi_dot       <class 'function'>\n",
      "norm            <class 'function'>\n",
      "pinv            <class 'function'>\n",
      "qr              <class 'function'>\n",
      "slogdet         <class 'function'>\n",
      "solve           <class 'function'>\n",
      "svd             <class 'function'>\n",
      "tensorinv       <class 'function'>\n",
      "tensorsolve     <class 'function'>\n",
      "test            <class 'numpy._pytesttester.PytestTester'>\n"
     ]
    }
   ],
   "source": [
    "import numpy.linalg as linalg\n",
    "obj_explore(linalg,'public methods')"
   ]
  },
  {
   "cell_type": "markdown",
   "metadata": {
    "slideshow": {
     "slide_type": "slide"
    }
   },
   "source": [
    "#### Matrix operations\n",
    "\n",
    "$$\n",
    "A=\n",
    "\\begin{pmatrix}\n",
    "1 & 2 & 0 & 5 \\\\\n",
    "4 & -2 & 1 & 1 \\\\\n",
    "0 & 0 & -2 & 7 \\\\\n",
    "3 & 1 & 4 & 0 \\\\\n",
    "\\end{pmatrix}\n",
    "$$"
   ]
  },
  {
   "cell_type": "code",
   "execution_count": 32,
   "metadata": {
    "hide-output": false,
    "slideshow": {
     "slide_type": "fragment"
    }
   },
   "outputs": [
    {
     "name": "stdout",
     "output_type": "stream",
     "text": [
      "[[ 1  2  0  5]\n",
      " [ 4 -2  1  1]\n",
      " [ 0  0 -2  7]\n",
      " [ 3  1  4  0]]\n"
     ]
    }
   ],
   "source": [
    "A = np.array([[1,2,0,5],[4,-2,1,1],[0,0,-2,7],[3,1,4,0]])\n",
    "print(A)"
   ]
  },
  {
   "cell_type": "code",
   "execution_count": 33,
   "metadata": {
    "hide-output": false,
    "slideshow": {
     "slide_type": "slide"
    }
   },
   "outputs": [
    {
     "name": "stdout",
     "output_type": "stream",
     "text": [
      "[[ 1  2  0  5]\n",
      " [ 4 -2  1  1]\n",
      " [ 0  0 -2  7]\n",
      " [ 3  1  4  0]]\n",
      "\n"
     ]
    }
   ],
   "source": [
    "print(A,end='\\n\\n')\n",
    "# print( A.transpose() )\n",
    "# print( np.linalg.matrix_rank(A) )\n",
    "# print( np.linalg.inv(A) )\n",
    "# print( np.linalg.det(A) )\n",
    "B = A[:2,:]\n",
    "# print(B,end='\\n\\n')\n",
    "# print( B * B ) # element by element\n",
    "# print( B @ B ) # matrix multiplication\n",
    "# print( B @ B.T )"
   ]
  },
  {
   "cell_type": "markdown",
   "metadata": {
    "slideshow": {
     "slide_type": "slide"
    }
   },
   "source": [
    "#### Linear systems of equations\n",
    "\n",
    "$$\n",
    "\\begin{eqnarray*}\n",
    "1x_1+2x_2+5x_4&=&5\\\\\n",
    "4x_1-2x_2+x_3+x_4&=&5\\\\\n",
    "-2x_3+7x_4&=&0\\\\\n",
    "3x_1+x_2+4x_3&=&-3\\\\\n",
    "\\end{eqnarray*}\n",
    "$$\n",
    "\n",
    "In matrix notation $ Ax=b $ where\n",
    "\n",
    "$$\n",
    "A=\n",
    "\\begin{pmatrix}\n",
    "1 & 2 & 0 & 5 \\\\\n",
    "4 & -2 & 1 & 1 \\\\\n",
    "0 & 0 & -2 & 7 \\\\\n",
    "3 & 1 & 4 & 0 \\\\\n",
    "\\end{pmatrix},\\;\\;\n",
    "b=\\begin{pmatrix}\n",
    "5\\\\\n",
    "5\\\\\n",
    "0\\\\\n",
    "-3\n",
    "\\end{pmatrix},\\;\\;\n",
    "x=\\begin{pmatrix}\n",
    "x_1\\\\\n",
    "x_2\\\\\n",
    "x_3\\\\\n",
    "x_4\n",
    "\\end{pmatrix}\n",
    "$$"
   ]
  },
  {
   "cell_type": "code",
   "execution_count": 34,
   "metadata": {
    "hide-output": false,
    "slideshow": {
     "slide_type": "slide"
    }
   },
   "outputs": [
    {
     "name": "stdout",
     "output_type": "stream",
     "text": [
      "Solution is array([ 4.95555556,  3.91111111, -5.44444444, -1.55555556])\n",
      "Check: max(Ax-b) = 8.88178e-16\n"
     ]
    }
   ],
   "source": [
    "b = np.array([5,5,0,-3])\n",
    "x=np.linalg.solve(A, b)\n",
    "print('Solution is %r' % x)\n",
    "print('Check: max(Ax-b) = %1.5e' % np.max(A@x-b))"
   ]
  },
  {
   "cell_type": "markdown",
   "metadata": {
    "slideshow": {
     "slide_type": "slide"
    }
   },
   "source": [
    "#### Overdetermined linear systems of equations\n",
    "\n",
    "$$\n",
    "\\begin{eqnarray*}\n",
    "1x_1+2x_2&=&5\\\\\n",
    "4x_1-2x_2+x_3&=&5\\\\\n",
    "-2x_3&=&0\\\\\n",
    "3x_1+x_2+4x_3&=&-3\\\\\n",
    "\\end{eqnarray*}\n",
    "$$"
   ]
  },
  {
   "cell_type": "code",
   "execution_count": 35,
   "metadata": {
    "hide-output": false,
    "slideshow": {
     "slide_type": "slide"
    }
   },
   "outputs": [
    {
     "name": "stdout",
     "output_type": "stream",
     "text": [
      "[[ 1  2  0]\n",
      " [ 4 -2  1]\n",
      " [ 0  0 -2]\n",
      " [ 3  1  4]]\n",
      "Solution is array([ 1.75294118,  0.63529412, -1.72941176])\n",
      "Check: max(Ax-b) = 3.45882e+00\n"
     ]
    }
   ],
   "source": [
    "A = np.array([[1,2,0],[4,-2,1],[0,0,-2],[3,1,4]])\n",
    "x=np.linalg.lstsq(A, b, rcond=None)\n",
    "\n",
    "A = np.array([[1,2,0],[4,-2,1],[0,0,-2],[3,1,4]])\n",
    "x,*_=np.linalg.lstsq(A, b, rcond=None) # ignore all outputs except the first\n",
    "print(A)\n",
    "print('Solution is %r' % x)\n",
    "print('Check: max(Ax-b) = %1.5e' % np.max(A@x-b))\n",
    "# help(np.linalg.lstsq)"
   ]
  },
  {
   "cell_type": "markdown",
   "metadata": {
    "slideshow": {
     "slide_type": "slide"
    }
   },
   "source": [
    "#### Market equilibrium in a linear model\n",
    "\n",
    "- Prices $ p $, quantities $ q $  \n",
    "- $ n $ goods in the economy  \n",
    "- Linear demand $ D(p) = A p + d $, where $ A $ is n by n, and\n",
    "  $ p $ is n by 1  \n",
    "- Linear supply $ S(p) = B p + s $, where $ B $ is n by n, and\n",
    "  $ p $ is n by 1  \n",
    "- Market clearing prices: $ D(p)=S(p) $  "
   ]
  },
  {
   "cell_type": "code",
   "execution_count": 36,
   "metadata": {
    "hide-output": false,
    "slideshow": {
     "slide_type": "slide"
    }
   },
   "outputs": [
    {
     "name": "stdout",
     "output_type": "stream",
     "text": [
      "Demand is given by Ap+d:\n",
      "A=array([[ -1.50293121,  -3.83492595,  -2.53004055],\n",
      "       [ -3.83492595, -14.91324372, -12.76421734],\n",
      "       [ -2.53004055, -12.76421734, -12.93230177]])\n",
      "d=array([100, 100, 100])\n",
      "Supply is given by Bp+s:\n",
      "B=array([[4.96246147, 2.14375478, 4.0190379 ],\n",
      "       [2.14375478, 1.24921004, 1.0231901 ],\n",
      "       [4.0190379 , 1.0231901 , 5.54449637]])\n",
      "s=array([0., 0., 0.])\n",
      "Equilibrium prices are     p = [15.18283269  1.4987406  -1.08770522]\n",
      "Equilibrium quantities are q = [74.185626   33.30758277 56.52309892]\n"
     ]
    }
   ],
   "source": [
    "def random_matrix(n,positive=True,maxeigen=10):\n",
    "    '''Generates square random positive/negative semi-definite matrix'''\n",
    "    e=np.random.uniform(0,maxeigen,n) # random eigenvalues\n",
    "    r=np.random.uniform(0,1,n*n).reshape(n,n) # rotation\n",
    "    e = e if positive else -e\n",
    "    A = np.diag(e)  # diagonal matrix with\n",
    "    return r @ A @ r.T  # positive/negative semi-definite\n",
    "n = 3  # number of products\n",
    "A = random_matrix(n,positive=False)  # demand\n",
    "d = np.array([100,]*n)\n",
    "B = random_matrix(n)  # supply\n",
    "s = np.zeros(n)\n",
    "p = np.linalg.solve(A-B, s-d)  # solve for quilibrium\n",
    "q = A @ p + d # equilibrium quantities\n",
    "print('Demand is given by Ap+d:\\nA=%r\\nd=%r' % (A,d))\n",
    "print('Supply is given by Bp+s:\\nB=%r\\ns=%r' % (B,s))\n",
    "print('Equilibrium prices are     p = {}'.format(p))\n",
    "print('Equilibrium quantities are q = {}'.format(q))"
   ]
  },
  {
   "cell_type": "markdown",
   "metadata": {
    "slideshow": {
     "slide_type": "slide"
    }
   },
   "source": [
    "### Further learning resources\n",
    "\n",
    "- Reference manual for Numpy\n",
    "  [https://numpy.org/doc/stable/reference/](https://numpy.org/doc/stable/reference/)  \n",
    "- 📖 Kevin Sheppard “Introduction to Python for Econometrics, Statistics\n",
    "  and Data Analysis.” *Chapters: 4, 6, 7, 8*  \n",
    "- SciPy 2017 Tutorial on NumPy (2.5h)\n",
    "  [https://www.youtube.com/watch?v=lKcwuPnSHIQ&ab_channel=Enthought](https://www.youtube.com/watch?v=lKcwuPnSHIQ&ab_channel=Enthought)  \n",
    "- Essence of linear algebra playlist by 3Blue1Brown\n",
    "  [https://www.youtube.com/watch?v=fNk_zzaMoSs&list=PLZHQObOWTQDPD3MizzM2xVFitgF8hE_ab](https://www.youtube.com/watch?v=fNk_zzaMoSs&list=PLZHQObOWTQDPD3MizzM2xVFitgF8hE_ab)  "
   ]
  }
 ],
 "metadata": {
  "celltoolbar": "Slideshow",
  "date": 1612589584.7823849,
  "download_nb": false,
  "filename": "14_numpy.rst",
  "filename_with_path": "14_numpy",
  "kernelspec": {
   "display_name": "Python",
   "language": "python3",
   "name": "python3"
  },
  "language_info": {
   "codemirror_mode": {
    "name": "ipython",
    "version": 3
   },
   "file_extension": ".py",
   "mimetype": "text/x-python",
   "name": "python",
   "nbconvert_exporter": "python",
   "pygments_lexer": "ipython3",
   "version": "3.7.6"
  },
  "title": "Foundations of Computational Economics #14"
 },
 "nbformat": 4,
 "nbformat_minor": 4
}
