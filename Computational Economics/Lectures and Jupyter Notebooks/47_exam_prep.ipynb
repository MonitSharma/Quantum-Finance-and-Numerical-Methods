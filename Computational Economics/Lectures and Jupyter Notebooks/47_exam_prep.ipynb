{
 "cells": [
  {
   "cell_type": "markdown",
   "metadata": {
    "slideshow": {
     "slide_type": "slide"
    }
   },
   "source": [
    "# Foundations of Computational Economics #47\n",
    "\n",
    "by Fedor Iskhakov, ANU\n",
    "\n",
    "<img src=\"_static/img/dag3logo.png\" style=\"width:256px;\">"
   ]
  },
  {
   "cell_type": "markdown",
   "metadata": {
    "slideshow": {
     "slide_type": "fragment"
    }
   },
   "source": [
    "## Example exam questions\n",
    "\n",
    "<img src=\"_static/img/lecture.png\" style=\"width:64px;\">"
   ]
  },
  {
   "cell_type": "markdown",
   "metadata": {
    "slideshow": {
     "slide_type": "subslide"
    }
   },
   "source": [
    "<img src=\"_static/img/youtube.png\" style=\"width:65px;\">\n",
    "\n",
    "[https://youtu.be/zmxxyNsyTGI](https://youtu.be/zmxxyNsyTGI)\n",
    "\n",
    "Description: Examples of questions and answers in the exam."
   ]
  },
  {
   "cell_type": "markdown",
   "metadata": {
    "slideshow": {
     "slide_type": "slide"
    }
   },
   "source": [
    "### Instructions: (from last year’s exam)\n",
    "\n",
    "- Complete the tasks listed in this Jupyter notebook by answering\n",
    "  questions and writing the code in the cell provided  \n",
    "- Each task has a number of points associated with it, the complete\n",
    "  exam assignment has 100 points  \n",
    "- The grade is the total number of points earned  \n",
    "- Started but not completed tasks, as well as task completed with\n",
    "  errors earn partial points  \n",
    "- You have 180 minutes to compete the exam  \n",
    "- **Make sure to commit your work to Git and push the changes to GitHub for grading** (alternative ways to submit your exam may have been set on individual bases)  "
   ]
  },
  {
   "cell_type": "markdown",
   "metadata": {
    "slideshow": {
     "slide_type": "slide"
    }
   },
   "source": [
    "#### Overall structure (last year)\n",
    "\n",
    "- five 2 point questions (10 points)  \n",
    "- ten 3 point questions (30 points)  \n",
    "- four 5 point questions (20 points)  \n",
    "- four 10 point questions (40 points)  "
   ]
  },
  {
   "cell_type": "markdown",
   "metadata": {
    "slideshow": {
     "slide_type": "slide"
    }
   },
   "source": [
    "#### Types of questions/tasks\n",
    "\n",
    "- 2 point and 3 points: elementary and simple questions which require short answer and check the knowledge of some simple facts  \n",
    "- 5 points: more elaborate questions, short coding tasks, find-a-bug questions  \n",
    "- 10 points: more elaborate coding tasks, very hard on their own, but doable with good knowledge and understanding of the code base developed in the course (so that useful donor code can be copied in quickly)  "
   ]
  },
  {
   "cell_type": "markdown",
   "metadata": {
    "slideshow": {
     "slide_type": "slide"
    }
   },
   "source": [
    "#### Question 1. (2 points)\n",
    "\n",
    "In Python code when assigning a value to a variable, how many spaces\n",
    "should be used around the “=” sign according to PEP8?"
   ]
  },
  {
   "cell_type": "markdown",
   "metadata": {
    "slideshow": {
     "slide_type": "slide"
    }
   },
   "source": [
    "#### Question 2. (2 points)\n",
    "\n",
    "How does convergence rate of the value function iterations (successive\n",
    "approximation) algorithm depend on the discount coefficient\n",
    "$ \\beta $?"
   ]
  },
  {
   "cell_type": "markdown",
   "metadata": {
    "slideshow": {
     "slide_type": "slide"
    }
   },
   "source": [
    "#### Question 3. (3 points)\n",
    "\n",
    "In NumPy what arithmetic operations differ between the two-dimensional\n",
    "array type and the matrix type variables?"
   ]
  },
  {
   "cell_type": "code",
   "execution_count": 1,
   "metadata": {
    "hide-output": false,
    "slideshow": {
     "slide_type": "slide"
    }
   },
   "outputs": [
    {
     "name": "stdout",
     "output_type": "stream",
     "text": [
      "[[ 2  4  6]\n",
      " [ 0  6 10]\n",
      " [14  8  2]]\n",
      "[[ 2  4  6]\n",
      " [ 0  6 10]\n",
      " [14  8  2]]\n",
      "\n",
      "[[0 0 0]\n",
      " [0 0 0]\n",
      " [0 0 0]]\n",
      "[[0 0 0]\n",
      " [0 0 0]\n",
      " [0 0 0]]\n",
      "\n",
      "[[ 1  4  9]\n",
      " [ 0  9 25]\n",
      " [49 16  1]]\n",
      "[[22 20 16]\n",
      " [35 29 20]\n",
      " [14 30 42]]\n",
      "\n",
      "[[ 1.  1.  1.]\n",
      " [nan  1.  1.]\n",
      " [ 1.  1.  1.]]\n",
      "[[ 1.  1.  1.]\n",
      " [nan  1.  1.]\n",
      " [ 1.  1.  1.]]\n",
      "\n",
      "[[22 20 16]\n",
      " [35 29 20]\n",
      " [14 30 42]]\n",
      "[[22 20 16]\n",
      " [35 29 20]\n",
      " [14 30 42]]\n",
      "\n"
     ]
    },
    {
     "name": "stderr",
     "output_type": "stream",
     "text": [
      "/usr/local/anaconda3/lib/python3.7/site-packages/ipykernel_launcher.py:7: RuntimeWarning: invalid value encountered in true_divide\n",
      "  import sys\n"
     ]
    }
   ],
   "source": [
    "import numpy as np\n",
    "a = np.array([[1,2,3],[0,3,5],[7,4,1]])\n",
    "b = np.matrix([[1,2,3],[0,3,5],[7,4,1]])\n",
    "print(a+a,b+b,sep='\\n',end='\\n\\n')\n",
    "print(a-a,b-b,sep='\\n',end='\\n\\n')\n",
    "print(a*a,b*b,sep='\\n',end='\\n\\n')\n",
    "print(a/a,b/b,sep='\\n',end='\\n\\n')\n",
    "print(a@a,b@b,sep='\\n',end='\\n\\n')"
   ]
  },
  {
   "cell_type": "markdown",
   "metadata": {
    "slideshow": {
     "slide_type": "slide"
    }
   },
   "source": [
    "#### Question 4. (3 points)\n",
    "\n",
    "Write the Bellman equation for the infinite horizon formulations of\n",
    "the following problem:\n",
    "\n",
    "- choice variable $ c $  \n",
    "- state variables $ x,y,z $  \n",
    "- $ x $ and $ y $ evolve stochastically with transition densities $ f_x(x',x,c) $ and $ f_y(y',x,y) $  \n",
    "- instantaneous utility is given by $ u(c,y) $  \n",
    "- motion rule for variable $ z $ can be left unspecified in the Bellman equation  "
   ]
  },
  {
   "cell_type": "markdown",
   "metadata": {
    "slideshow": {
     "slide_type": "slide"
    }
   },
   "source": [
    "$$\n",
    "V(x,y,z) = \\max_{c}  \\big[ U(c,y) + \\beta \\int\\int V(x',y',z') f_y(y',x,y) f_x(x',x,c) dy' dx' \\big]\n",
    "$$"
   ]
  },
  {
   "cell_type": "markdown",
   "metadata": {
    "slideshow": {
     "slide_type": "slide"
    }
   },
   "source": [
    "#### Question 5. (5 points)\n",
    "\n",
    "Write a list comprehension expression to produce pairs of squares and\n",
    "cubes of all integers between 1 to 10 inclusive."
   ]
  },
  {
   "cell_type": "code",
   "execution_count": 2,
   "metadata": {
    "hide-output": false,
    "slideshow": {
     "slide_type": "slide"
    }
   },
   "outputs": [
    {
     "name": "stdout",
     "output_type": "stream",
     "text": [
      "[(1, 1), (4, 8), (9, 27), (16, 64), (25, 125), (36, 216), (49, 343), (64, 512), (81, 729), (100, 1000)]\n"
     ]
    }
   ],
   "source": [
    "squares_and_cubs = [(x**2,x**3) for x in range(1,11)]\n",
    "print(squares_and_cubs)"
   ]
  },
  {
   "cell_type": "markdown",
   "metadata": {
    "slideshow": {
     "slide_type": "slide"
    }
   },
   "source": [
    "#### Question 6. (5 points)\n",
    "\n",
    "The code below outputs a negative value. This is strange because it\n",
    "calculates an average of the powers of 2, which are all positive\n",
    "numbers. Explain what is going on and fix the bug with *minimal change to\n",
    "the code*."
   ]
  },
  {
   "cell_type": "code",
   "execution_count": 3,
   "metadata": {
    "hide-output": false,
    "slideshow": {
     "slide_type": "slide"
    }
   },
   "outputs": [
    {
     "name": "stdout",
     "output_type": "stream",
     "text": [
      "-2.56\n"
     ]
    }
   ],
   "source": [
    "import numpy as np\n",
    "a = 2**np.arange(100)\n",
    "print(a.mean())"
   ]
  },
  {
   "cell_type": "markdown",
   "metadata": {
    "slideshow": {
     "slide_type": "slide"
    }
   },
   "source": [
    "#### Question 7. (10 points)\n",
    "\n",
    "Derive **your own algorithm** and implement it in a function that takes\n",
    "an integer decimal number and outputs its binary representation. Write\n",
    "your code in the cell below and run the test cases."
   ]
  },
  {
   "cell_type": "code",
   "execution_count": 4,
   "metadata": {
    "hide-output": false,
    "slideshow": {
     "slide_type": "slide"
    }
   },
   "outputs": [
    {
     "name": "stdout",
     "output_type": "stream",
     "text": [
      "[]\n",
      "[]\n",
      "[]\n",
      "[]\n",
      "[]\n",
      "[]\n"
     ]
    }
   ],
   "source": [
    "def binary(x):\n",
    "    '''Input: integer in decimal, output: vector of 0 and 1 to represent the input in binary'''\n",
    "    # write your code here\n",
    "    return []\n",
    "\n",
    "print(binary(1))\n",
    "print(binary(2))\n",
    "print(binary(3))\n",
    "print(binary(4))\n",
    "print(binary(1673))\n",
    "print(binary(3428))"
   ]
  },
  {
   "cell_type": "code",
   "execution_count": 5,
   "metadata": {
    "hide-output": false,
    "slideshow": {
     "slide_type": "slide"
    }
   },
   "outputs": [
    {
     "name": "stdout",
     "output_type": "stream",
     "text": [
      "0 = [0]\n",
      "1 = [1]\n",
      "2 = [1, 0]\n",
      "3 = [1, 1]\n",
      "4 = [1, 0, 0]\n",
      "5 = [1, 0, 1]\n",
      "6 = [1, 1, 0]\n",
      "7 = [1, 1, 1]\n",
      "8 = [1, 0, 0, 0]\n",
      "9 = [1, 0, 0, 1]\n",
      "10 = [1, 0, 1, 0]\n",
      "11 = [1, 0, 1, 1]\n",
      "12 = [1, 1, 0, 0]\n",
      "13 = [1, 1, 0, 1]\n",
      "14 = [1, 1, 1, 0]\n",
      "15 = [1, 1, 1, 1]\n",
      "16 = [1, 0, 0, 0, 0]\n",
      "17 = [1, 0, 0, 0, 1]\n",
      "18 = [1, 0, 0, 1, 0]\n",
      "19 = [1, 0, 0, 1, 1]\n",
      "20 = [1, 0, 1, 0, 0]\n",
      "21 = [1, 0, 1, 0, 1]\n",
      "22 = [1, 0, 1, 1, 0]\n",
      "23 = [1, 0, 1, 1, 1]\n",
      "24 = [1, 1, 0, 0, 0]\n",
      "25 = [1, 1, 0, 0, 1]\n",
      "26 = [1, 1, 0, 1, 0]\n",
      "27 = [1, 1, 0, 1, 1]\n",
      "28 = [1, 1, 1, 0, 0]\n",
      "29 = [1, 1, 1, 0, 1]\n",
      "30 = [1, 1, 1, 1, 0]\n",
      "31 = [1, 1, 1, 1, 1]\n",
      "[1]\n",
      "[1, 0]\n",
      "[1, 1]\n",
      "[1, 0, 0]\n",
      "[1, 1, 0, 1, 0, 0, 0, 1, 0, 0, 1]\n",
      "[1, 1, 0, 1, 0, 1, 1, 0, 0, 1, 0, 0]\n"
     ]
    }
   ],
   "source": [
    "def binary(x):\n",
    "    '''Input: integer in decimal, output: vector of 0 and 1 to represent the input in binary'''\n",
    "    d = []\n",
    "    while True:\n",
    "        d.append(x%2)\n",
    "        x//=2\n",
    "        if x==0:\n",
    "            return d[::-1]\n",
    "\n",
    "for i in range(32):\n",
    "    print(i,binary(i),sep=' = ')\n",
    "\n",
    "print(binary(1))\n",
    "print(binary(2))\n",
    "print(binary(3))\n",
    "print(binary(4))\n",
    "print(binary(1673))\n",
    "print(binary(3428))"
   ]
  },
  {
   "cell_type": "markdown",
   "metadata": {
    "slideshow": {
     "slide_type": "slide"
    }
   },
   "source": [
    "#### Question 8. (10 points)\n",
    "\n",
    "Consider the consumption/savings problem in the infinite horizon. Each\n",
    "period the agent chooses how much to consume from the cash-in-hand\n",
    "$ M_t $ (without borrowing). The amount remaining after consumption\n",
    "grows stochastically with the gross return taking one of five values\n",
    "presented in the table below (independently distributed across time). In\n",
    "addition, each period the agent receives a non-stochastic government\n",
    "support payment of \\$10 (in thousands). Return on savings and the latter\n",
    "payment are the only sources of income.\n",
    "\n",
    "The instantaneous utility of consumption is given by\n",
    "$ u(C_t)=\\log(C_t) $.\n",
    "\n",
    "Stochastic gross returns on savings are given by\n",
    "\n",
    "|R|0.85|0.95|1.05|1.10|1.40|\n",
    "|:-:|:----:|:----:|:----:|:----:|:----:|\n",
    "|p|0.05|0.20|0.55|0.15|0.05|\n",
    ".\n",
    "\n",
    "1. Write the Bellman equation for the problem.  \n",
    "1. Write the code to solve the problem and plot the value function and\n",
    "  the optimal policy function, assuming that the choices are made on a\n",
    "  discrete grid with step \\$1, and the upper bound of the problem is set\n",
    "  to \\$200.  "
   ]
  }
 ],
 "metadata": {
  "celltoolbar": "Slideshow",
  "date": 1612589586.926353,
  "download_nb": false,
  "filename": "47_exam_prep.rst",
  "filename_with_path": "47_exam_prep",
  "kernelspec": {
   "display_name": "Python",
   "language": "python3",
   "name": "python3"
  },
  "language_info": {
   "codemirror_mode": {
    "name": "ipython",
    "version": 3
   },
   "file_extension": ".py",
   "mimetype": "text/x-python",
   "name": "python",
   "nbconvert_exporter": "python",
   "pygments_lexer": "ipython3",
   "version": "3.7.6"
  },
  "title": "Foundations of Computational Economics #47"
 },
 "nbformat": 4,
 "nbformat_minor": 4
}
