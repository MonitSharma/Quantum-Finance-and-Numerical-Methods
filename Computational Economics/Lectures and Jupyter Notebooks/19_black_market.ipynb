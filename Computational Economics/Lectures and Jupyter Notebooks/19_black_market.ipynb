{
 "cells": [
  {
   "cell_type": "markdown",
   "metadata": {
    "slideshow": {
     "slide_type": "slide"
    }
   },
   "source": [
    "# Foundations of Computational Economics #19\n",
    "\n",
    "by Fedor Iskhakov, ANU\n",
    "\n",
    "<img src=\"_static/img/dag3logo.png\" style=\"width:256px;\">"
   ]
  },
  {
   "cell_type": "markdown",
   "metadata": {
    "slideshow": {
     "slide_type": "fragment"
    }
   },
   "source": [
    "## Measuring the volume of illegal trade with linear programming\n",
    "\n",
    "<img src=\"_static/img/lab.png\" style=\"width:64px;\">"
   ]
  },
  {
   "cell_type": "markdown",
   "metadata": {
    "slideshow": {
     "slide_type": "subslide"
    }
   },
   "source": [
    "<img src=\"_static/img/youtube.png\" style=\"width:65px;\">\n",
    "\n",
    "[https://youtu.be/4z7MU73cx0M](https://youtu.be/4z7MU73cx0M)\n",
    "\n",
    "Description: Application of the optional transport problem."
   ]
  },
  {
   "cell_type": "markdown",
   "metadata": {
    "slideshow": {
     "slide_type": "slide"
    }
   },
   "source": [
    "### Application: measuring illegal trade\n",
    "\n",
    "**“Black Market Performance: Illegal Trade in Beijing License Plates”**\n",
    "\n",
    "by\n",
    "Øystein Daljord, Mandy Hu, Guillaume Pouliot, Junji Xiao\n",
    "\n",
    "*From abstract:*\n",
    "\n",
    "We estimate the incentives to trade in the black market for license plates that emerged following the recent rationing of new car sales in Beijing by lottery. Under weak assumptions on car preferences, we use optimal transport methods and comprehensive data on car sales to estimate that at least 12% of the quota is illegally traded.\n",
    "\n",
    "[PDF for the paper (right-click and Save as…)](_static/pdf/DaljordHuPouliotXiao2019.pdf)"
   ]
  },
  {
   "cell_type": "markdown",
   "metadata": {
    "slideshow": {
     "slide_type": "slide"
    }
   },
   "source": [
    "#### Øystein Daljord (1979-2020)\n",
    "\n",
    "<img src=\"_static/img/chicago-booth-oeystein-daljord.jpg\" style=\"width:400px;\">"
   ]
  },
  {
   "cell_type": "markdown",
   "metadata": {
    "slideshow": {
     "slide_type": "slide"
    }
   },
   "source": [
    "#### Black market of license plates\n",
    "\n",
    "- Measure the size of black market for license plates  \n",
    "- Case of Beijing license plates regulation  \n",
    "- Allocation by random lottery should have no effect on car sales  \n",
    "- In reality, there is sizable shift in distribution of cars  \n",
    "- Optimal transportation method is ideal to compute the lower bound on the volume of illegal trade of license plates  "
   ]
  },
  {
   "cell_type": "markdown",
   "metadata": {
    "slideshow": {
     "slide_type": "slide"
    }
   },
   "source": [
    "#### Beijing license plate lottery\n",
    "\n",
    "- Cars driving in Beijing are required to have Beijing license plates  \n",
    "- From Jan 2011 license plates are rationed to a quota of about 35% of the previous year’s sales  \n",
    "- License plates are allocated by a lottery with simple application  \n",
    "- A Beijing household needs a license plate before it can register a new car  \n",
    "- License plates are non-transferable  "
   ]
  },
  {
   "cell_type": "markdown",
   "metadata": {
    "slideshow": {
     "slide_type": "slide"
    }
   },
   "source": [
    "#### Material shift in distribution of cars\n",
    "\n",
    "- From cheaper to more expensive car models  \n",
    "- Hard to explain if lottery is a truly random allocation of license plates to the car purchasers  \n",
    "- No similar shifts in sales in comparable cities without rationing policy, in the same time period  \n",
    "- No supply side responses to the rationing policy  "
   ]
  },
  {
   "cell_type": "markdown",
   "metadata": {
    "slideshow": {
     "slide_type": "slide"
    }
   },
   "source": [
    "#### Modeling framework\n",
    "\n",
    "Let $ \\mathbb{P}_0 $ be the distribution of car sales prices from pre-lottery time,\n",
    "and $ \\mathbb{P}_1 $ the analogous distribution post-lottery.\n",
    "\n",
    "Under assumptions\n",
    "\n",
    "1. Pricing policy did not change between 2010 and 2011  \n",
    "1. Demand structure did not change between 2010 and 2011  \n",
    "1. Lottery is uniform  \n",
    "\n",
    "\n",
    "the sales distributions should not change from the pre- to the post lottery period, i.e. $ \\mathbb{P}_0 = \\mathbb{P}_1 $"
   ]
  },
  {
   "cell_type": "markdown",
   "metadata": {
    "slideshow": {
     "slide_type": "slide"
    }
   },
   "source": [
    "#### Data\n",
    "\n",
    "Data on manufacturer suggested retail prices (MSRP) of the registered vehicles."
   ]
  },
  {
   "cell_type": "code",
   "execution_count": 1,
   "metadata": {
    "hide-output": false,
    "slideshow": {
     "slide_type": "fragment"
    }
   },
   "outputs": [
    {
     "name": "stdout",
     "output_type": "stream",
     "text": [
      "Data has 243677 observations and 3 variables\n",
      "   year  month        MSRP\n",
      "0  2010      9  153.313139\n",
      "1  2010      9   44.543519\n",
      "2  2011      2   88.812069\n",
      "3  2010     11  210.732564\n",
      "4  2011      4  101.591900\n",
      "5  2010     12   56.428979\n",
      "6  2011      1  140.571004\n",
      "7  2010      8  170.066283\n",
      "8  2011     11  111.935614\n",
      "9  2010      7  191.988099\n"
     ]
    }
   ],
   "source": [
    "import pandas as pd\n",
    "dt = pd.read_stata('_static/data/beijin_data.dta')\n",
    "dt.dropna(inplace=True)  # drop rows with nan\n",
    "print('Data has %d observations and %d variables'%tuple(dt.shape))  # print expects tuple\n",
    "print(dt.head(n=10))"
   ]
  },
  {
   "cell_type": "code",
   "execution_count": 2,
   "metadata": {
    "hide-output": false,
    "slideshow": {
     "slide_type": "slide"
    }
   },
   "outputs": [
    {
     "name": "stdout",
     "output_type": "stream",
     "text": [
      "count    243677.000000\n",
      "mean        166.374743\n",
      "std         114.990191\n",
      "min          19.728006\n",
      "25%          91.780464\n",
      "50%         134.771217\n",
      "75%         209.744757\n",
      "max        1130.669488\n",
      "Name: MSRP, dtype: float64\n",
      "count    241240.000000\n",
      "mean        161.169630\n",
      "std         102.551081\n",
      "min          19.728006\n",
      "25%          91.229416\n",
      "50%         134.283479\n",
      "75%         207.808600\n",
      "max         617.902636\n",
      "Name: MSRP, dtype: float64\n"
     ]
    }
   ],
   "source": [
    "print(dt['MSRP'].describe())\n",
    "q99 = dt['MSRP'].quantile(0.99)\n",
    "dt = dt[dt['MSRP']<q99]\n",
    "print(dt['MSRP'].describe())"
   ]
  },
  {
   "cell_type": "code",
   "execution_count": 3,
   "metadata": {
    "hide-output": false,
    "slideshow": {
     "slide_type": "slide"
    }
   },
   "outputs": [],
   "source": [
    "import matplotlib.pyplot as plt\n",
    "%matplotlib inline\n",
    "plt.rcParams['figure.figsize'] = [12, 8]\n",
    "\n",
    "def plot2hist(d1,d2,bins=10,labels=['1','2']):\n",
    "    '''Plots two overlapping histograms'''\n",
    "    plt.hist(d1,bins=bins,density=True,histtype='step',label=labels[0])\n",
    "    plt.hist(d2,bins=bins,density=True,histtype='step',label=labels[1])\n",
    "    plt.legend()\n",
    "    plt.show()"
   ]
  },
  {
   "cell_type": "code",
   "execution_count": 4,
   "metadata": {
    "hide-output": false,
    "slideshow": {
     "slide_type": "slide"
    }
   },
   "outputs": [
    {
     "data": {
      "image/png": "[encoded data removed]",
      "text/plain": [
       "<Figure size 864x576 with 1 Axes>"
      ]
     },
     "metadata": {
      "needs_background": "light"
     },
     "output_type": "display_data"
    }
   ],
   "source": [
    "dt10 = dt[dt['year']==2010]['MSRP']\n",
    "dt11 = dt[dt['year']==2011]['MSRP']\n",
    "plot2hist(dt10,dt11,labels=['2010','2011'])"
   ]
  },
  {
   "cell_type": "markdown",
   "metadata": {
    "slideshow": {
     "slide_type": "slide"
    }
   },
   "source": [
    "#### Optimal transport problem\n",
    "\n",
    "$$\n",
    "\\min \\sum_{i=1}^{m}\\sum_{j=1}^{n} cost_{ij} x_{ij}, \\text{ subject to}\n",
    "$$\n",
    "\n",
    "$$\n",
    "\\sum_{i=1}^{m} x_{ij} = origin_j, j \\in \\{1,\\dots,n\\},\n",
    "$$\n",
    "\n",
    "$$\n",
    "\\sum_{j=1}^{n} x_{ij} = destination_i, i \\in \\{1,\\dots,m\\},\n",
    "$$\n",
    "\n",
    "$$\n",
    "x_{ij} \\ge 0 \\text{ for all } i,j\n",
    "$$"
   ]
  },
  {
   "cell_type": "markdown",
   "metadata": {
    "slideshow": {
     "slide_type": "slide"
    }
   },
   "source": [
    "#### A linear programming problem\n",
    "\n",
    "Linear programming problem solved by `scipy.optimize.linprog` (equality constraints automatically converted)\n",
    "\n",
    "$$\n",
    "\\max(c \\cdot x) \\text{ subject to }\n",
    "$$\n",
    "\n",
    "$$\n",
    "\\begin{array}{l}\n",
    "A_{ub}x \\le b_{ub} \\\\\n",
    "A_{eq}x = b_{eq} \\\\\n",
    "l \\le x \\le u\n",
    "\\end{array}\n",
    "$$\n",
    "\n",
    "- stack all $ x_{ij} $ into a single vector  \n",
    "- express equality constraints for origins and destinations as inequalities  \n",
    "\n",
    "\n",
    "[https://docs.scipy.org/doc/scipy/reference/generated/scipy.optimize.linprog.html](https://docs.scipy.org/doc/scipy/reference/generated/scipy.optimize.linprog.html)"
   ]
  },
  {
   "cell_type": "code",
   "execution_count": 5,
   "metadata": {
    "hide-output": false,
    "slideshow": {
     "slide_type": "slide"
    }
   },
   "outputs": [],
   "source": [
    "# Code up the model"
   ]
  },
  {
   "cell_type": "code",
   "execution_count": 6,
   "metadata": {
    "hide-output": false,
    "slideshow": {
     "slide_type": "slide"
    }
   },
   "outputs": [],
   "source": [
    "#\n",
    "#\n",
    "#\n",
    "#\n",
    "#\n",
    "#\n",
    "#\n",
    "#\n",
    "#\n",
    "#\n",
    "#\n",
    "#\n",
    "#\n",
    "#\n",
    "#\n",
    "#\n",
    "#\n",
    "#\n",
    "#\n",
    "#\n",
    "#\n",
    "#\n",
    "# Answer below"
   ]
  },
  {
   "cell_type": "code",
   "execution_count": 7,
   "metadata": {
    "hide-output": false,
    "slideshow": {
     "slide_type": "slide"
    }
   },
   "outputs": [
    {
     "name": "stdout",
     "output_type": "stream",
     "text": [
      "gr\n",
      "0    0.231451\n",
      "1    0.211331\n",
      "2    0.205582\n",
      "3    0.189273\n",
      "4    0.162363\n",
      "Name: MSRP, dtype: float64\n",
      "\n",
      "gr\n",
      "0    0.123699\n",
      "1    0.172511\n",
      "2    0.186457\n",
      "3    0.226024\n",
      "4    0.291310\n",
      "Name: MSRP, dtype: float64\n"
     ]
    }
   ],
   "source": [
    "N = 5  # number of bins to represent distribution\n",
    "dt['gr'] = pd.qcut(dt.MSRP,q=N,labels=False)  # N quantiles\n",
    "gr10 = dt[dt.year==2010].groupby('gr')\n",
    "gr11 = dt[dt.year==2011].groupby('gr')\n",
    "d10 = gr10.MSRP.count()/dt[dt.year==2010].MSRP.count()\n",
    "d11 = gr11.MSRP.count()/dt[dt.year==2011].MSRP.count()\n",
    "print(d10,d11,sep='\\n\\n')"
   ]
  },
  {
   "cell_type": "code",
   "execution_count": 8,
   "metadata": {
    "hide-output": false,
    "slideshow": {
     "slide_type": "slide"
    }
   },
   "outputs": [
    {
     "data": {
      "text/plain": [
       "<matplotlib.image.AxesImage at 0x7fbd40c5e350>"
      ]
     },
     "execution_count": 8,
     "metadata": {},
     "output_type": "execute_result"
    },
    {
     "data": {
      "image/png": "[encoded data removed]",
      "text/plain": [
       "<Figure size 360x360 with 1 Axes>"
      ]
     },
     "metadata": {
      "needs_background": "light"
     },
     "output_type": "display_data"
    }
   ],
   "source": [
    "import numpy as np\n",
    "# Set up transportation problem\n",
    "costs = np.ones((N,N)) - np.eye(N)  # costs matrix\n",
    "origins = np.array(d10)        # origins\n",
    "destinations = np.array(d11)   # destinations\n",
    "plt.rcParams['figure.figsize'] = [5, 5]\n",
    "plt.spy(costs)"
   ]
  },
  {
   "cell_type": "code",
   "execution_count": 9,
   "metadata": {
    "hide-output": false,
    "slideshow": {
     "slide_type": "slide"
    }
   },
   "outputs": [
    {
     "data": {
      "image/png": "[encoded data removed]",
      "text/plain": [
       "<Figure size 360x360 with 1 Axes>"
      ]
     },
     "metadata": {
      "needs_background": "light"
     },
     "output_type": "display_data"
    }
   ],
   "source": [
    "# convert to linear programming problem\n",
    "C = costs.reshape(N*N)\n",
    "A1 = np.kron(np.eye(N),np.ones((1,N)))  # sums of x for each origin\n",
    "A2 = np.kron(np.ones((1,N)),np.eye(N))  # sums of x for each destination\n",
    "A = np.vstack((A1,A2))  # concatenate vertically\n",
    "plt.spy(A)\n",
    "b = np.concatenate((origins,destinations))"
   ]
  },
  {
   "cell_type": "code",
   "execution_count": 10,
   "metadata": {
    "hide-output": false,
    "slideshow": {
     "slide_type": "slide"
    }
   },
   "outputs": [
    {
     "name": "stdout",
     "output_type": "stream",
     "text": [
      "Optimization terminated successfully.\n",
      "[[0.12369875 0.         0.         0.         0.10775178]\n",
      " [0.         0.17251076 0.         0.01762504 0.02119497]\n",
      " [0.         0.         0.18645705 0.01912521 0.        ]\n",
      " [0.         0.         0.         0.18927336 0.        ]\n",
      " [0.         0.         0.         0.         0.16236309]]\n",
      "With N=5 the lower bound on black market share is 0.16570\n"
     ]
    },
    {
     "data": {
      "image/png": "[encoded data removed]",
      "text/plain": [
       "<Figure size 360x360 with 1 Axes>"
      ]
     },
     "metadata": {
      "needs_background": "light"
     },
     "output_type": "display_data"
    }
   ],
   "source": [
    "# Solve the transportation problem\n",
    "from scipy.optimize import linprog\n",
    "res = linprog(c=C,A_eq=A[:-1],b_eq=b[:-1],bounds=(0,None),method='simplex')\n",
    "print(res.message)\n",
    "X = res.x.reshape((N,N)) # reshape back to X_ij\n",
    "plt.spy(X)\n",
    "print(X)\n",
    "black_market_estim = 1 - np.diag(X).sum() # do not count the stationary diagonal\n",
    "print('With N=%d the lower bound on black market share is %1.5f'%(N,black_market_estim))"
   ]
  },
  {
   "cell_type": "markdown",
   "metadata": {
    "slideshow": {
     "slide_type": "slide"
    }
   },
   "source": [
    "#### Displacement of the car sales distributions\n",
    "\n",
    "- Main result: significant evidence for a sizable black market share!  \n",
    "- Computed the **lower boundary** on the fraction of illegal trade (why?)  \n",
    "- Grain of salt: this is one of possible mechanisms, need to eliminate other possible routes (see the paper)  \n",
    "- What robustness checks should be run? Technical parameter $ N $ clearly affects the numerical result  "
   ]
  },
  {
   "cell_type": "markdown",
   "metadata": {
    "slideshow": {
     "slide_type": "slide"
    }
   },
   "source": [
    "### Further learning resources\n",
    "\n",
    "- Full paper\n",
    "  [https://www.jstor.org/stable/j.ctt1q1xs9h](https://www.jstor.org/stable/j.ctt1q1xs9h)  \n",
    "- [PDF for the paper (right-click and Save as…)](_static/pdf/DaljordHuPouliotXiao2019.pdf)  "
   ]
  }
 ],
 "metadata": {
  "celltoolbar": "Slideshow",
  "date": 1612589585.5666718,
  "download_nb": false,
  "filename": "19_black_market.rst",
  "filename_with_path": "19_black_market",
  "kernelspec": {
   "display_name": "Python",
   "language": "python3",
   "name": "python3"
  },
  "language_info": {
   "codemirror_mode": {
    "name": "ipython",
    "version": 3
   },
   "file_extension": ".py",
   "mimetype": "text/x-python",
   "name": "python",
   "nbconvert_exporter": "python",
   "pygments_lexer": "ipython3",
   "version": "3.7.6"
  },
  "title": "Foundations of Computational Economics #19"
 },
 "nbformat": 4,
 "nbformat_minor": 4
}
