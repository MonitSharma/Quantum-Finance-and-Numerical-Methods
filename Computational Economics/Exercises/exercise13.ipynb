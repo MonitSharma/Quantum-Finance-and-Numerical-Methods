{
 "cells": [
  {
   "cell_type": "markdown",
   "metadata": {},
   "source": [
    "# Weekly exercise 13: Numerical integration\n",
    "\n",
    "In this exercise you will compare several integration schemes for\n",
    "several different functions.\n",
    "\n",
    "Compute the following expressions:\n",
    "\n",
    "1. $ \\int_0^8 \\exp(-x/4) sin(x) dx $  \n",
    "1. $ \\int_0^8 \\big| \\exp(-x/4) sin(x) \\big| dx $ (similar to above but with the absolute value)  \n",
    "1. $ E\\{ \\exp(-x/4) sin(x) \\} $, where $ x $ is normally distributed with parameters $ \\mu=0 $, $ \\sigma=1 $.  \n",
    "\n",
    "\n",
    "For each use the following integration schemes:\n",
    "\n",
    "1. Monte Carlo integration  \n",
    "1. Gauss-Legendre quadrature (for 1,2), or Gauss-Hermite quadrature (for 3)  \n",
    "\n",
    "\n",
    "In each integration scheme start with a low number of grid points (Monte Carlo draws) and sequentially increase the number of point while computing the change in the result of calculation (reduction of the error).\n",
    "\n",
    "Plot these step-by-step changes in the integrals for each of the integration scheme applied for each of the expressions.\n",
    "\n",
    "Discuss which scheme is preferable in which case."
   ]
  },
  {
   "cell_type": "code",
   "execution_count": null,
   "metadata": {
    "hide-output": false
   },
   "outputs": [],
   "source": [
    "# Your code here"
   ]
  },
  {
   "cell_type": "markdown",
   "metadata": {},
   "source": [
    "## Gauss-Legendre change of variables\n",
    "\n",
    "- Change of variable $ y = \\tfrac{1}{4}x-1 $, so that $ dy = \\tfrac{1}{4} dx $  \n",
    "\n",
    "\n",
    "$$\n",
    "\\int_0^8 f(x) dx =\n",
    "\\int_{-1}^1 4 f(4y+4) dy\n",
    "\\approx \\sum_i 4 w_i f(4 q_i +4)\n",
    "$$\n",
    "\n",
    "- For convenience, could convert the the Gauss-Legendre quadrature notes and weights $ \\{q_i,w_i\\} $ to $ q'_i = 4 q_i +4 $ and $ w'_i = 4 w_i $  "
   ]
  },
  {
   "cell_type": "markdown",
   "metadata": {},
   "source": [
    "## Gauss-Hermite change of variables\n",
    "\n",
    "- Expectation over normal distribution with $ \\mu=0 $, $ \\sigma=1 $  \n",
    "- Change of variable $ y = \\tfrac{x}{\\sqrt{2}} $, so that $ dy = \\tfrac{dx}{\\sqrt{2}} $  \n",
    "\n",
    "\n",
    "$$\n",
    "E\\{ f(x) \\} = \\int_{-\\infty}^\\infty f(x)  \\frac{1}{\\sqrt{2\\pi}} e^{-\\tfrac{1}{2}x^2 } dx =\n",
    "\\int_{-\\infty}^\\infty \\frac{f\\left(\\sqrt{2} y\\right)}{\\sqrt{\\pi}} e^{-y^2 } dy\n",
    "\\approx \\sum_i \\frac{w_i}{\\sqrt{\\pi}} f\\left(\\sqrt{2} q_i \\right)\n",
    "$$\n",
    "\n",
    "- For convenience, convert the the Gauss-Legendre quadrature notes and weights $ \\{q_i,w_i\\} $ to $ q'_i = \\sqrt{2} q_i $ and $ w'_i = \\frac{w_i}{\\sqrt{\\pi}} $  "
   ]
  }
 ],
 "metadata": {
  "date": 1627475014.604309,
  "filename": "exercise13.rst",
  "kernelspec": {
   "display_name": "Python",
   "language": "python3",
   "name": "python3"
  },
  "title": "Weekly exercise 13: Numerical integration"
 },
 "nbformat": 4,
 "nbformat_minor": 4
}