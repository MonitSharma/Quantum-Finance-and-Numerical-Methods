{
 "cells": [
  {
   "cell_type": "markdown",
   "metadata": {},
   "source": [
    "# Weekly exercise 16: Update on accuracy vs runtime trade-off in Deaton model.\n",
    "\n",
    "Repeat all of the tasks in Exercise 15, now including the EGM solution method in the `deaton` class."
   ]
  }
 ],
 "metadata": {
  "date": 1627475014.619636,
  "filename": "exercise16.rst",
  "kernelspec": {
   "display_name": "Python",
   "language": "python3",
   "name": "python3"
  },
  "title": "Weekly exercise 16: Update on accuracy vs runtime trade-off in Deaton model."
 },
 "nbformat": 4,
 "nbformat_minor": 4
}