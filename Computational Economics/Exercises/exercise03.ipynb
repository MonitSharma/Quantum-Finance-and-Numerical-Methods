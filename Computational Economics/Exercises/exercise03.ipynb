{
 "cells": [
  {
   "cell_type": "markdown",
   "metadata": {},
   "source": [
    "# Weekly exercise 3: Two short quests on Python and Git\n",
    "\n",
    "GitHub offers “short courses” on its lab platform.\n",
    "\n",
    "To learn deeper about GitHub functionality while coding simple tasks in Python, follow these links:\n",
    "\n",
    "1. [https://lab.github.com/everydeveloper/introduction-to-python](https://lab.github.com/everydeveloper/introduction-to-python)  \n",
    "1. [https://lab.github.com/everydeveloper/intermediate-python](https://lab.github.com/everydeveloper/intermediate-python)  "
   ]
  }
 ],
 "metadata": {
  "date": 1627475014.486233,
  "filename": "exercise03.rst",
  "kernelspec": {
   "display_name": "Python",
   "language": "python3",
   "name": "python3"
  },
  "title": "Weekly exercise 3: Two short quests on Python and Git"
 },
 "nbformat": 4,
 "nbformat_minor": 4
}