{
 "cells": [
  {
   "cell_type": "markdown",
   "metadata": {},
   "source": [
    "# Weekly exercise 11: Inventory dynamics problem with stochastic demand\n",
    "\n",
    "Using bus engine replacement model as an analogy, in this exercise you’ll continue developing the inventory model from the first lecture on dynamic programming (video 27),\n",
    "and extend it to the infinite horizon case with stochastic demand."
   ]
  },
  {
   "cell_type": "markdown",
   "metadata": {},
   "source": [
    "## Inventory dynamics model\n",
    "\n",
    "Recall the inventory management problem in discrete time and finite horizon $ t=0,\\dots,T $\n",
    "\n",
    "The notation is:\n",
    "\n",
    "- $ x_t\\ge 0 $ is inventory at period $ t $  \n",
    "- $ d_t\\ge 0 $ is *stochastic* demand at period $ t $  \n",
    "- $ q_t\\ge 0 $ is the order of new inventory  \n",
    "- $ p $ is the profit per one unit of (supplied) good  \n",
    "- $ c $ is the fixed cost of ordering any amount of new inventory  \n",
    "- $ r $ is the cost of storing one unit of good  \n",
    "\n",
    "\n",
    "The sales in period $ t $ are given by $ s_t = \\min\\{x_t,d_t\\} $.\n",
    "\n",
    "Inventory to be stored till next period is given by $ k_t = \\max\\{x_t-d_t,0\\} + q_t = x_{t+1} $.\n",
    "\n",
    "The profit in period $ t $ is given by\n",
    "\n",
    "$$\n",
    "\\begin{eqnarray}\n",
    "\\pi_t & = & p \\cdot \\text{sales}_t - r \\cdot x_{t+1} - c \\cdot (\\text{order made in period }t) \\\\\n",
    "& = & s_t p - k_t r - c \\mathbb{1}\\{q_t>0\\}\n",
    "\\end{eqnarray}\n",
    "$$\n",
    "\n",
    "Assuming all $ q_t \\ge 0 $, let $ \\sigma =  \\{q_t\\}_{t=1,\\dots,T} $ denote a feasible inventory policy.\n",
    "\n",
    "If $ d_t $ is stochastic the policy becomes a function of the period $ t $ inventory $ x_t $.\n",
    "\n",
    "The expected profit maximizing problem is given by\n",
    "\n",
    "$$\n",
    "{\\max}_{\\sigma} \\mathbb{E}\\Big[ \\sum_{t=0}^{T} \\beta^t \\pi_t \\Big],\n",
    "$$\n",
    "\n",
    "where $ \\beta $ is discount factor."
   ]
  },
  {
   "cell_type": "markdown",
   "metadata": {},
   "source": [
    "### Bellman equation for the problem\n",
    "\n",
    "$$\n",
    "\\begin{eqnarray}\n",
    "V(x_t,d_t) &=& \\max_{q_t \\ge 0} \\Big\\{ \\pi_t + \\beta \\mathbb{E}\\Big[ V\\big(x_{t+1} , d_{t+1} \\big) \\Big| x_t,d_t,q_t \\Big] \\Big\\} \\\\\n",
    "&=& \\max_{q_t \\ge 0} \\Big\\{ s_t p - k_t r - c \\mathbb{1}\\{q_t>0\\}\n",
    "+ \\beta \\mathbb{E}\\Big[ V\\big( k_t, d_{t+1} \\big) \\Big] \\Big\\}\n",
    "\\end{eqnarray}\n",
    "$$\n",
    "\n",
    "$$\n",
    "\\begin{eqnarray}\n",
    "s_t &=& \\min\\{x_t,d_t\\} \\\\\n",
    "k_t &=& \\max\\{x_t-d_t,0\\} + q_t\n",
    "\\end{eqnarray}\n",
    "$$\n",
    "\n",
    "The expectation in the Bellman equation is taken over the distribution of the next period demand $ d_{t+1} $, which according to the problem is independent of any other variables (idiosyncratic), thus the conditioning on $ (x_t,d_t,q_t) $ can be meaningfully dropped.  Expectation can be written as an integral over the distribution of demand $ F(d) $.\n",
    "\n",
    "$$\n",
    "V(x_t,d_t)\n",
    "= \\max_{q_t \\ge 0} \\Big\\{ s_t p - k_t r - c \\mathbb{1}\\{q_t>0\\}\n",
    "+ \\beta \\int V\\big( k_t, d \\big) \\partial F(d)  \\Big\\}\n",
    "$$"
   ]
  },
  {
   "cell_type": "markdown",
   "metadata": {},
   "source": [
    "### Dropping the time subscripts\n",
    "\n",
    "Because we’ll be solving the problem in infinite horizon, the time subscripts can be dropped, and we can just have current period variables $ x,d,q,s,k $, and next period variables denoted by prime, i.e. $ x' $\n",
    "\n",
    "The Bellman equation is then\n",
    "\n",
    "$$\n",
    "\\begin{eqnarray}\n",
    "V(x,d) &=& \\max_{q \\ge 0} \\Big\\{ \\pi + \\beta \\mathbb{E}\\Big[ V\\big(x', d' \\big) \\Big| x,d,q \\Big] \\Big\\} \\\\\n",
    "&=& \\max_{q \\ge 0} \\Big\\{ s\\cdot p - k\\cdot  r - c \\mathbb{1}\\{q>0\\}\n",
    "+ \\beta \\mathbb{E}\\Big[ V\\big( k, d' \\big) \\Big] \\Big\\}\n",
    "\\end{eqnarray}\n",
    "$$\n",
    "\n",
    "$$\n",
    "\\begin{eqnarray}\n",
    "s &=& \\min\\{x,d\\} \\\\\n",
    "k &=& \\max\\{x-d,0\\} + q\n",
    "\\end{eqnarray}\n",
    "$$"
   ]
  },
  {
   "cell_type": "markdown",
   "metadata": {},
   "source": [
    "### Bellman equation in expected value function space\n",
    "\n",
    "Note that similar to the bus engine replacement model, the inventory model features random variable which distribution does not depend on the previous period variables (it is *idiosyncratic*).\n",
    "\n",
    "In this case it is possible to reduce the dimensionality of the fixed point problem by rewriting the Bellman operator in expected value function terms.\n",
    "\n",
    "$$\n",
    "EV(x') =  \\mathbb{E}\\Big[ V\\big(x', d' \\big) \\Big| x,d,q \\Big] =  \\mathbb{E}\\Big[ V\\big(x', d' \\big) \\Big],\n",
    "$$\n",
    "\n",
    "where the expectation is taken over the distribution of the next period demand $ d' $.\n",
    "The conditioning on $ x,d,q $ can be dropped exactly because $ d' $ is idiosyncratic.\n",
    "\n",
    "We can then write the Bellman equation as\n",
    "\n",
    "$$\n",
    "V(x,d) = \\max_{q \\ge 0} \\Big\\{ s\\cdot p - k\\cdot  r - c \\mathbb{1}\\{q>0\\}\n",
    "+ \\beta EV(k) \\Big\\}\n",
    "$$\n",
    "\n",
    "$$\n",
    "V(x,d) = \\max_{q \\ge 0} \\Big\\{ p \\min\\{x,d\\} - r ( \\max\\{x-d,0\\} + q ) - c \\mathbb{1}\\{q>0\\}\n",
    "+ \\beta EV(\\max\\{x-d,0\\} + q) \\Big\\}\n",
    "$$\n",
    "\n",
    "Taking the expectation with respect to $ d $ on both sides, we get\n",
    "\n",
    "$$\n",
    "EV(x) = \\mathbb{E}\\Big[ \\max_{q \\ge 0} \\Big\\{ p \\min\\{x,d\\} - r ( \\max\\{x-d,0\\} + q ) - c \\mathbb{1}\\{q>0\\}\n",
    "+ \\beta EV(\\max\\{x-d,0\\} + q) \\Big\\} \\Big]\n",
    "$$\n",
    "\n",
    "By assumption the inventory is discrete, and so it is natural to assume that the demand is also represented as a discrete random variable.  Then the expectation can be written as a sum weighted with\n",
    "the corresponding probabilities $ pr(d) $, as\n",
    "\n",
    "$$\n",
    "EV(x) = \\sum_{d} \\Big[ \\max_{q \\ge 0} \\Big\\{ p \\min\\{x,d\\} - r ( \\max\\{x-d,0\\} + q ) - c \\mathbb{1}\\{q>0\\}\n",
    "+ \\beta EV(\\max\\{x-d,0\\} + q) \\Big\\} \\Big] pr(d)\n",
    "$$\n",
    "\n",
    "This is functional equation in $ EV $ which is also a contraction mapping!"
   ]
  },
  {
   "cell_type": "markdown",
   "metadata": {},
   "source": [
    "### Specification of stochastic demand\n",
    "\n",
    "Assume that $ d(t) $ is stochastic and follows geometric distribution with the support\n",
    "$ k \\in \\{0,1,2,\\dots\\} $  and corresponding probabilities $ P(k)=(1-p)^k p $, where $ p $ is a fixed parameter."
   ]
  },
  {
   "cell_type": "markdown",
   "metadata": {},
   "source": [
    "### Tasks\n",
    "\n",
    "1. Copy the implementation of the inventory model from the lecture notebook (27) to serve the starter code  \n",
    "1. Implement VFI solver for the infinite horizon stochastic inventory problem, similar to the Rust bus engine model  \n",
    "1. Run several tests of the solver using parameter values you see fit  \n",
    "1. Make nice plots to illustrate convergence of the value and the policy functions to the solution.  "
   ]
  },
  {
   "cell_type": "code",
   "execution_count": null,
   "metadata": {
    "hide-output": false
   },
   "outputs": [],
   "source": [
    "# your code here"
   ]
  }
 ],
 "metadata": {
  "date": 1632755196.305168,
  "filename": "exercise11.rst",
  "kernelspec": {
   "display_name": "Python",
   "language": "python3",
   "name": "python3"
  },
  "title": "Weekly exercise 11: Inventory dynamics problem with stochastic demand"
 },
 "nbformat": 4,
 "nbformat_minor": 4
}