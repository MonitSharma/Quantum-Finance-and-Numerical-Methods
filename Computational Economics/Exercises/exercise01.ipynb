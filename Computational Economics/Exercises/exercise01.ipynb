{
 "cells": [
  {
   "cell_type": "markdown",
   "metadata": {},
   "source": [
    "# Weekly exercise 1: Working with Git\n",
    "\n",
    "In this exercise I ask you to edit the notebook by answering the questions below,\n",
    "create new files, and commit all the changes in the repository before pushing\n",
    "your changes to the GitHub server.\n",
    "\n",
    "**About you**\n",
    "\n",
    "Answer the questions below to let me to know you better.\n",
    "None of the questions is compulsory, please only share the information you would be comfortable to share in an ice-breaking exercise in the class.\n",
    "\n",
    "For each answer create a new Jupyter cell under each question.\n",
    "Don’t forget to change it type to ‘Markdown’ to write text.\n",
    "Here is a short [list of Markdown commands for editing text](https://github.com/adam-p/markdown-here/wiki/Markdown-Cheatsheet)."
   ]
  },
  {
   "cell_type": "markdown",
   "metadata": {},
   "source": [
    "## Question 1: What is your name?  What is your preferred name or nick name I should use?"
   ]
  },
  {
   "cell_type": "markdown",
   "metadata": {},
   "source": [
    "## Question 2: Where are you from?"
   ]
  },
  {
   "cell_type": "markdown",
   "metadata": {},
   "source": [
    "## Question 3: At which program are you studying at ANU?"
   ]
  },
  {
   "cell_type": "markdown",
   "metadata": {},
   "source": [
    "## Question 4: Which year at ANU are you?"
   ]
  },
  {
   "cell_type": "markdown",
   "metadata": {},
   "source": [
    "## Question 5: Where are you currently located?"
   ]
  },
  {
   "cell_type": "markdown",
   "metadata": {},
   "source": [
    "## Question 6: What is your main motivation to take the Computational Economics course?"
   ]
  },
  {
   "cell_type": "markdown",
   "metadata": {},
   "source": [
    "## Picture\n",
    "\n",
    "Copy a small picture, for example your avatar, into the same directory as this Jupyter notebook,\n",
    "and insert it into a new cell using the following command:\n",
    "\n",
    "`![](NAME_OF_FILE.jpg)`\n",
    "\n",
    "Then ‘Run’ the cell by pressing `Shift-Enter` to see the picture appear."
   ]
  },
  {
   "cell_type": "markdown",
   "metadata": {},
   "source": [
    "## Submit your info\n",
    "\n",
    "1. Save the notebook by clicking the *floppy disk* icon in the toolbar, or pressing `Ctr-S`  \n",
    "1. Switch to your Git program  \n",
    "1. Observe the difference in the notebook, and the new picture file in diffs  \n",
    "1. Commit all the changes  \n",
    "1. Push your work to the server  "
   ]
  }
 ],
 "metadata": {
  "date": 1627475014.465046,
  "filename": "exercise01.rst",
  "kernelspec": {
   "display_name": "Python",
   "language": "python3",
   "name": "python3"
  },
  "title": "Weekly exercise 1: Working with Git"
 },
 "nbformat": 4,
 "nbformat_minor": 4
}