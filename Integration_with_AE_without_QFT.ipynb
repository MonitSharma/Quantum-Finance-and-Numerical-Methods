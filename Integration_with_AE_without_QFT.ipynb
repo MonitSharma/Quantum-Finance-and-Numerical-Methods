{
  "cells": [
    {
      "cell_type": "markdown",
      "metadata": {
        "id": "view-in-github",
        "colab_type": "text"
      },
      "source": [
        "<a href=\"https://colab.research.google.com/github/MonitSharma/Quantum-Finance-and-Numerical-Methods/blob/main/Integration_with_AE_without_QFT.ipynb\" target=\"_parent\"><img src=\"https://colab.research.google.com/assets/colab-badge.svg\" alt=\"Open In Colab\"/></a>"
      ]
    },
    {
      "cell_type": "markdown",
      "metadata": {
        "id": "QSiKR8Tgbl8_"
      },
      "source": [
        "## Amplitude Estimation without Quantum Fourier Transform and Controlled Grover Operators\n",
        "\n",
        "It's based on the paper [Amplitude Estimation without Phase Estimation](https://arxiv.org/abs/1904.10246)\n",
        "\n"
      ]
    },
    {
      "cell_type": "markdown",
      "metadata": {
        "id": "s4Flv5Lmb4sR"
      },
      "source": [
        "This notebook will have experiments for performing the amplitude estimation without the inverse Quantum Fourier Transform (QFT) and controlled $\\mathcal{Q}$ operator (the grover operator) . \n",
        "\n",
        "----\n",
        "\n",
        "It is known that without QFT and sich controlled operators, the number of two-qubit gates required for running amplitude estimation can be reduced and hence may be more appropriate to run quantum algorithm on NISQ devices."
      ]
    },
    {
      "cell_type": "markdown",
      "metadata": {
        "id": "WAfPYVJ-us1R"
      },
      "source": [
        "## Mathematical background\n",
        "\n",
        "Suppose a Quantum State :\n",
        "\n",
        "$$ |\\Psi\\rangle_n = \\sum_{i = 0}^{N-1} \\sqrt{p_i} |i⟩_n $$\n",
        "\n",
        "where $|i⟩_n$ represent one of the $N$ possible realization of a bounded discrete random variable $X$. (here $N = 2^n$)\n",
        "\n",
        "----\n",
        "\n",
        "Let's assume a function $f(x)$ such that:\n",
        "\n",
        "$$ f : \\{0,....N-1\\} → [0,1]$$\n",
        "\n",
        "and an operator:\n",
        "\n",
        "$$ F : |i⟩_n |0⟩ → |i⟩_n \\bigg( \\sqrt{1-f(i)}|0\\rangle + \\sqrt{f(i)}|1⟩ \\bigg) $$\n",
        "\n",
        "\n",
        "------\n",
        "\n",
        "\n",
        "Now applying:\n",
        "\n",
        "$$F|\\Psi⟩_n |0⟩ $$\n",
        "$$ \\implies  \\sum_{i=0}^{N-1}\\sqrt{1-f(i)}\\sqrt{pi} |i⟩_n |0⟩ + \\sum_{i=0}^{N-1}\\sqrt{f(i)}\\sqrt{pi} |i⟩_n |1⟩$$\n",
        "\n",
        "\n",
        "\n",
        "\n",
        "----\n",
        "\n",
        "Now we can use amplitude estimatio to approximate the probability of measuring the $|1⟩$ in the last qubit, and that will be given by:\n",
        "\n",
        "$$ \\sum_{i=0}^{N-1} f(i) p(i)$$ which is nothing but the $\\mathbb{E}[f(x)]$.\n",
        "\n",
        "We can let $f(i) = \\frac{i}{N-1}$ and can get the $\\mathbb{E}[X]$\n",
        "similarly for let $f(x) = \\frac{i^2}{(N-1)^2}$ and cam ge the value of $\\mathbb{E}[X^2]$ and hence get the variance:\n",
        "$$ \\text{Var}(x) = \\mathbb{E}[X^2] - (\\mathbb{E}[X])^2$$"
      ]
    },
    {
      "cell_type": "markdown",
      "metadata": {
        "id": "T88Am1sbcgEY"
      },
      "source": [
        "## Introduction\n",
        "\n",
        "We consider applying amplitude estimation, one of the most popular quantum algorithms for Monte Carlo integration, a problem which is essential for financial applications. The purpose of Monte Carlo integration is to compute the expected value of a real-valued function $f$. Here, for simplicity we assume $f$ takes an $n $ bit input $x \\in \\{0,1\\}^n$ and $ 0 \\le f(x) \\le 1 $ and the probability of $f(x)$ is $p(x)$. Then the expected valye is:\n",
        "\n",
        "$$ \\mathbb{E}[f(x)] = \\sum_{x=0}^{2^n-1} p(x) f(x) $$\n",
        "\n",
        "To compute the Monte Carlo integration of $f$, let us assume that the quantum circuits $\\mathcal{P}$ and $\\mathcal{R}$, that performs the following transformation, are given\n",
        "\n",
        "$$ \\begin{eqnarray}\n",
        "\\mathcal{P} \\left|0\\right>_n &=& \\sum_{x} \\sqrt{p(x)} \\left|x\\right>_n\\\\\n",
        "\\mathcal{R} \\left|x\\right>_n\\left|0\\right> &=& \\left|x\\right>_n \\left( \\sqrt{f(x)} \\left|1\\right> + \\sqrt{1-f(x)} \\left|0\\right>\\right) \n",
        "\\end{eqnarray} $$\n",
        "\n",
        "\n",
        "The former is for creating probability distribution $p(.)$ and later for computing $f(.)$"
      ]
    },
    {
      "cell_type": "markdown",
      "metadata": {
        "id": "ZNAPlwoDfr2X"
      },
      "source": [
        "## Integral of sine function\n",
        "\n",
        "We consider the following intgeral\n",
        "\n",
        "$$ \\mathcal{I} = \\frac{1}{b_\\mbox{max}}\\int_{0}^{b_\\mbox{max}} \\sin^2{x}~dx, $$\n",
        "\n",
        "which is approximated with the following summation\n",
        "\n",
        "$$ \\mathcal{S} = \\sum_{x=0}^{2^n-1} \\frac{1}{2^n} \\sin^2{\\left(  \\frac{\\left(x+1/2\\right)b_{\\mbox{max}}}{2^n}  \\right)}. $$\n",
        "\n",
        "\n",
        "----\n",
        "\n",
        "This means, the quantum circuits $\\mathcal{P}$ and $\\mathcal{R}$ are\n",
        "\n",
        "$$ \\begin{eqnarray}\n",
        "\\mathcal{P} \\left|0\\right>_n \\left|0\\right> &=& \\frac{1}{\\sqrt{2^n}} \\sum_{x} \\left|x\\right>_n \\left|0\\right>\\\\\n",
        "\\mathcal{R} \\left|x\\right>_n\\left|0\\right> &=& \\left|x\\right>_n \\left(    \\sin{\\left(  \\frac{\\left(x+1/2\\right)b_{\\mbox{max}}}{2^n}  \\right)} \\left|1\\right> +   \\cos{\\left(  \\frac{\\left(x+1/2\\right)b_{\\mbox{max}}}{2^n}  \\right)} \\left|0\\right>\\right).\n",
        "\\end{eqnarray}$$\n",
        "\n",
        "\n",
        "\n",
        "$\\mathcal{P}$ can be realized with hadamard gates, and $\\mathcal{R}$ with controlled $Y$ rotation gates."
      ]
    },
    {
      "cell_type": "markdown",
      "metadata": {
        "id": "A7h_7VSWgXPV"
      },
      "source": [
        "## Approximating the intgeral\n",
        "\n",
        "It is easy to see that as we use large $n$ (more qubits) and thus, larger $b_{max}$ we can approximate the integral better."
      ]
    },
    {
      "cell_type": "code",
      "execution_count": 1,
      "metadata": {
        "colab": {
          "base_uri": "https://localhost:8080/"
        },
        "id": "xTJxkQY_aoxZ",
        "outputId": "8725534b-07ac-4294-cb6d-588a9e5b218e"
      },
      "outputs": [
        {
          "output_type": "stream",
          "name": "stdout",
          "text": [
            "Analytical Result: 0.12158663567967151\n",
            "Discretized Result: 0.12148935801668376\n"
          ]
        }
      ],
      "source": [
        "import math\n",
        "\n",
        "b_max = math.pi / 5  # upper limit of integral\n",
        "nbit = 4  # change this value to get discretized result closer to analytical results\n",
        "\n",
        "analyticResult = (b_max / 2.0 - math.sin(2 * b_max) / 4.0 ) / b_max  # the target integral can be analytically solved\n",
        "print(\"Analytical Result:\", analyticResult)\n",
        "\n",
        "ndiv = 2**nbit  #number of discretization \n",
        "discretizedResult = 0.0\n",
        "for i in range(ndiv):\n",
        "    discretizedResult += math.sin(b_max / ndiv * (i + 0.5))**2\n",
        "    # this is sin^2(b_{max}(i+1/2)/2^n)\n",
        "discretizedResult = discretizedResult / ndiv\n",
        "# this is 1/2^n*[sin^2(b_{max}(i+1/2)/2^n)]\n",
        "# this is the approximation of the given integral we have\n",
        "print(\"Discretized Result:\", discretizedResult)"
      ]
    },
    {
      "cell_type": "markdown",
      "metadata": {
        "id": "ujcFHeEdhxpt"
      },
      "source": [
        "## Implementing circuits for Monte Carlo integration of sine function\n",
        "\n",
        "\n",
        "Below are the functions to compute $\\mathcal{P}$ and $\\mathcal{R}$ and their inverses.\n",
        "\n",
        "\n",
        "![QAEE.png](data:image/png;base64,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)"
      ]
    },
    {
      "cell_type": "code",
      "execution_count": 3,
      "metadata": {
        "id": "whjA6Gx5avAV"
      },
      "outputs": [],
      "source": [
        "def P(qc, qx, nbit):\n",
        "    \"\"\"\n",
        "        Generating uniform probability distribution\n",
        "            qc: quantum circuit\n",
        "            qx: quantum register\n",
        "            nbit: number of qubits\n",
        "        The inverse of P = P\n",
        "    \"\"\"\n",
        "    qc.h(qx)\n",
        "\n",
        "def R(qc, qx, qx_measure, nbit, b_max):\n",
        "    \"\"\"\n",
        "        Computing the integral function f()\n",
        "            qc: quantum circuit\n",
        "            qx: quantum register\n",
        "            qx_measure: quantum register for measurement\n",
        "            nbit: number of qubits\n",
        "            b_max: upper limit of integral            \n",
        "    \"\"\"\n",
        "    qc.ry(b_max / 2**nbit * 2 * 0.5, qx_measure)\n",
        "    for i in range(nbit):\n",
        "        qc.cu3(2**i * b_max / 2**nbit * 2, 0, 0, qx[i], qx_measure[0])\n",
        "\n",
        "def Rinv(qc, qx, qx_measure, nbit, b_max):\n",
        "    \"\"\"\n",
        "        The inverse of R\n",
        "            qc: quantum circuit\n",
        "            qx: quantum register\n",
        "            qx_measure : quantum register for measurement\n",
        "            nbit: number of qubits\n",
        "            b_max: upper limit of integral\n",
        "    \"\"\"\n",
        "    for i in range(nbit)[::-1]:\n",
        "        qc.cu3(-2**i * b_max / 2**nbit * 2, 0, 0, qx[i], qx_measure[0])\n",
        "    qc.ry(-b_max / 2**nbit * 2 * 0.5, qx_measure)\n"
      ]
    },
    {
      "cell_type": "markdown",
      "metadata": {
        "id": "fKs8uWxRiGCb"
      },
      "source": [
        "## Grover Operators for Amplitude Estimation\n",
        "\n",
        "We can easily build quantum circuits for fast computation of the Monte Carlo integration as below. \n",
        "\n",
        "Here we show functions to construct quantum circuits running with simulators.\n",
        "\n",
        "Running them on real devices should be easy by adjusting the parameters of the functions."
      ]
    },
    {
      "cell_type": "code",
      "execution_count": 4,
      "metadata": {
        "id": "xie30DXJa0BN"
      },
      "outputs": [],
      "source": [
        "#Preparing qiskit environment\n",
        "from qiskit import ClassicalRegister, QuantumRegister, QuantumCircuit\n",
        "from qiskit import execute\n",
        "from qiskit import IBMQ\n",
        "from qiskit import Aer\n",
        "from scipy import optimize\n",
        "import sys, time\n",
        "import mpmath as mp\n",
        "import numpy as np\n",
        "import matplotlib.pyplot as plt"
      ]
    },
    {
      "cell_type": "code",
      "execution_count": 5,
      "metadata": {
        "id": "l6tpuYVla2Sv"
      },
      "outputs": [],
      "source": [
        "# Functions to construct circuits for Grover operators\n",
        "def multi_control_NOT(qc, qx, qx_measure, qx_ancilla, nbit, b_max):\n",
        "    \"\"\"\n",
        "        Computing multi controlled NOT gate\n",
        "            qc: quantum circuit\n",
        "            qx: quantum register\n",
        "            qx_measure: quantum register for measurement\n",
        "            qx_ancilla: temporal quantum register for decomposing multi controlled NOT gate\n",
        "            nbit: number of qubits\n",
        "            b_max: upper limit of integral\n",
        "    \"\"\"\n",
        "\n",
        "    if nbit == 1:\n",
        "        qc.cz(qx[0], qx_measure[0])\n",
        "    elif nbit == 2:\n",
        "        qc.h(qx_measure[0])\n",
        "        qc.ccx(qx[0], qx[1], qx_measure[0])\n",
        "        qc.h(qx_measure[0])\n",
        "    elif nbit > 2.0:\n",
        "        qc.ccx(qx[0], qx[1], qx_ancilla[0])\n",
        "        for i in range(nbit - 3):\n",
        "            qc.ccx(qx[i + 2], qx_ancilla[i], qx_ancilla[i + 1])\n",
        "        qc.h(qx_measure[0])\n",
        "        qc.ccx(qx[nbit - 1], qx_ancilla[nbit - 3], qx_measure[0])\n",
        "        qc.h(qx_measure[0])\n",
        "        for i in range(nbit - 3)[::-1]:\n",
        "            qc.ccx(qx[i + 2], qx_ancilla[i], qx_ancilla[i + 1])\n",
        "        qc.ccx(qx[0], qx[1], qx_ancilla[0])\n",
        "\n",
        "\n",
        "def reflect(qc, qx, qx_measure, qx_ancilla, nbit, b_max):\n",
        "    \"\"\"\n",
        "        Computing reflection operator (I - 2|0><0|)\n",
        "            qc: quantum circuit\n",
        "            qx: quantum register\n",
        "            qx_measure: quantum register for measurement\n",
        "            qx_ancilla: temporal quantum register for decomposing multi controlled NOT gate\n",
        "            nbit: number of qubits\n",
        "            b_max: upper limit of integral\n",
        "    \"\"\"\n",
        "    for i in range(nbit):\n",
        "        qc.x(qx[i])\n",
        "    qc.x(qx_measure[0])\n",
        "    qc.barrier()    #format the circuits visualization\n",
        "    multi_control_NOT(qc, qx, qx_measure, qx_ancilla, nbit, b_max)\n",
        "    qc.barrier()    #format the circuits visualization\n",
        "    qc.x(qx_measure[0])\n",
        "    for i in range(nbit):\n",
        "        qc.x(qx[i])\n",
        "\n",
        "\n",
        "# This is to implement Grover Operator\n",
        "def Q_grover(qc, qx, qx_measure, qx_ancilla, nbit, b_max):\n",
        "    \"\"\"\n",
        "        The Grover operator: R P (I - 2|0><0|) P^+ R^+ U_psi_0 \n",
        "            qc: quantum circuit\n",
        "            qx: quantum register\n",
        "            qx_measure: quantum register for measurement\n",
        "            qx_ancilla: temporal quantum register for decomposing multi controlled NOT gate\n",
        "            nbit: number of qubits\n",
        "            b_max: upper limit of integral\n",
        "    \"\"\"\n",
        "    qc.z(qx_measure[0])\n",
        "    Rinv(qc, qx, qx_measure, nbit, b_max)\n",
        "    qc.barrier()    #format the circuits visualization\n",
        "    P(qc, qx, nbit)\n",
        "    reflect(qc, qx, qx_measure, qx_ancilla, nbit, b_max)\n",
        "    P(qc, qx, nbit)\n",
        "    qc.barrier()    #format the circuits visualization\n",
        "    R(qc, qx, qx_measure, nbit, b_max)"
      ]
    },
    {
      "cell_type": "markdown",
      "metadata": {
        "id": "s6zWoRSjihav"
      },
      "source": [
        "## Amplitude Estimation without Phase Estimation\n",
        "\n",
        "To run the amplitude estimation without phase estimation of Suzuki et al., we must create quantum circuits that run Grover operators with various number of iterations. The function for creating such circuits is as the following.\n"
      ]
    },
    {
      "cell_type": "code",
      "execution_count": 6,
      "metadata": {
        "id": "ufJ1hErEa5dR"
      },
      "outputs": [],
      "source": [
        "def create_grover_circuit(numebr_grover_list, nbit, b_max):\n",
        "    \"\"\"\n",
        "        To generate quantum circuits running Grover operators with number of iterations in number_grover_list\n",
        "            numebr_grover_list: list of number of Grover operators\n",
        "            nbit: number of qubits (2**nbit = ndiv is the number of discretization in the Monte Carlo integration)\n",
        "            b_max: upper limit of integral\n",
        "        Return:\n",
        "            qc_list: quantum circuits with Grover operators as in number_grover_list\n",
        "    \"\"\"\n",
        "    qc_list = []\n",
        "    for igrover in range(len(numebr_grover_list)):\n",
        "        qx = QuantumRegister(nbit)\n",
        "        qx_measure = QuantumRegister(1)\n",
        "        cr = ClassicalRegister(1)\n",
        "        if (nbit > 2):\n",
        "            qx_ancilla = QuantumRegister(nbit - 2)\n",
        "            qc = QuantumCircuit(qx, qx_ancilla, qx_measure, cr)\n",
        "        else:\n",
        "            qx_ancilla = 0\n",
        "            qc = QuantumCircuit(qx, qx_measure, cr)\n",
        "        P(qc, qx, nbit)\n",
        "        R(qc, qx, qx_measure, nbit, b_max)\n",
        "        for ikAA in range(numebr_grover_list[igrover]):\n",
        "            Q_grover(qc, qx, qx_measure, qx_ancilla, nbit, b_max)\n",
        "        qc.measure(qx_measure[0], cr[0])\n",
        "        qc_list.append(qc)\n",
        "    return qc_list"
      ]
    },
    {
      "cell_type": "code",
      "execution_count": 7,
      "metadata": {
        "colab": {
          "base_uri": "https://localhost:8080/"
        },
        "id": "KDHTAGSvbELY",
        "outputId": "e736e749-b666-498c-fa24-3284a06e1e0b"
      },
      "outputs": [
        {
          "output_type": "stream",
          "name": "stdout",
          "text": [
            "Looking in indexes: https://pypi.org/simple, https://us-python.pkg.dev/colab-wheels/public/simple/\n",
            "Requirement already satisfied: pylatexenc in /usr/local/lib/python3.8/dist-packages (2.10)\n"
          ]
        }
      ],
      "source": [
        "%pip install pylatexenc"
      ]
    },
    {
      "cell_type": "markdown",
      "metadata": {
        "id": "ys54va2mirPA"
      },
      "source": [
        "For example, quantum circuit with two Grover operators is shown below."
      ]
    },
    {
      "cell_type": "code",
      "execution_count": 8,
      "metadata": {
        "colab": {
          "base_uri": "https://localhost:8080/",
          "height": 781
        },
        "id": "ZrofxpusbHfx",
        "outputId": "cca17e27-16c0-4c64-85c1-cca6b95b87f6"
      },
      "outputs": [
        {
          "output_type": "stream",
          "name": "stderr",
          "text": [
            "<ipython-input-3-077de23a7832>:22: DeprecationWarning: The QuantumCircuit.cu3 method is deprecated as of 0.16.0. It will be removed no earlier than 3 months after the release date. You should use the QuantumCircuit.cu method instead, where cu3(ϴ,φ,λ) = cu(ϴ,φ,λ,0).\n",
            "  qc.cu3(2**i * b_max / 2**nbit * 2, 0, 0, qx[i], qx_measure[0])\n",
            "<ipython-input-3-077de23a7832>:34: DeprecationWarning: The QuantumCircuit.cu3 method is deprecated as of 0.16.0. It will be removed no earlier than 3 months after the release date. You should use the QuantumCircuit.cu method instead, where cu3(ϴ,φ,λ) = cu(ϴ,φ,λ,0).\n",
            "  qc.cu3(-2**i * b_max / 2**nbit * 2, 0, 0, qx[i], qx_measure[0])\n",
            "/usr/local/lib/python3.8/dist-packages/qiskit/visualization/circuit/qcstyle.py:342: UserWarning: style option/s (usepiformat, compress, cregbundle) is/are not supported\n",
            "  set_style(current_style, style)\n"
          ]
        },
        {
          "output_type": "execute_result",
          "data": {
            "text/plain": [
              "<Figure size 1604.72x1589.28 with 1 Axes>"
            ],
            "image/png": "[encoded data removed]"
          },
          "metadata": {},
          "execution_count": 8
        }
      ],
      "source": [
        "qc_list = create_grover_circuit([2], nbit, b_max)\n",
        "my_style = {'usepiformat': True, 'cregbundle': True,'compress': True }\n",
        "qc_list[0].draw(output=\"mpl\", style=my_style, plot_barriers=False )"
      ]
    },
    {
      "cell_type": "markdown",
      "metadata": {
        "id": "bvLS56Eyiusm"
      },
      "source": [
        "We also need a helper function to simultaneously run the quantum circuits that are returned by the above functions, as below."
      ]
    },
    {
      "cell_type": "code",
      "execution_count": 9,
      "metadata": {
        "id": "xCh8PKU7bJbU"
      },
      "outputs": [],
      "source": [
        "def run_grover(qc_list, number_grover_list, shots_list, backend):\n",
        "    \"\"\"\n",
        "        Run the quantum circuits returned by create_grover_circuit()\n",
        "            qc_list: list of quantum circuits\n",
        "            numebr_grover_list: list of number of Grover operators\n",
        "            shots_list:  list of number of shots\n",
        "            backend: name of backends\n",
        "        \n",
        "        Return:\n",
        "            hit_list: list of count of obserbving \"1\" for qc_list\n",
        "    \"\"\"\n",
        "    hit_list = []\n",
        "    for k in range(len(number_grover_list)):\n",
        "        job = execute(qc_list[k], backend=backend, shots=shots_list[k])\n",
        "        lapse = 0\n",
        "        interval = 0.00001\n",
        "        time.sleep(interval)\n",
        "        while job.status().name != 'DONE':\n",
        "            time.sleep(interval)\n",
        "            lapse += 1\n",
        "        counts = job.result().get_counts(qc_list[k]).get(\"1\", 0)\n",
        "        hit_list.append(counts)\n",
        "    return hit_list"
      ]
    },
    {
      "cell_type": "markdown",
      "metadata": {
        "id": "3KI97XdMixv6"
      },
      "source": [
        "## Post processing to estimate the amplitude from results of various Grover Circuits\n",
        "\n",
        "At the heart of the techniques to estimate the amplitude without QFT and controlled Grover operators is a post processing function that combines the results of running Grover circuits with various number of iterations. Suppose we run Grover operators for $\\{m_0, m_1, \\ldots, m_M\\}$ times and for each of the $m_k$ run , we repeat it for $N_k$ times of which we observe $h_k$ times of \"good\" states. Because the probability of observing \"good\" states is $ \\sin^2((2m_k + 1)\\theta_a)$ the likelihood of observing $h_k$ times of \"good\" states is \n",
        "\n",
        "$$ L_k(h_k;\\theta_a) = \\left( \\sin^2((2m_k + 1)\\theta_a) \\right)^{h_k} \\left( \\cos^2((2m_k + 1)\\theta_a) \\right)^{N_k - h_k}. $$\n",
        "\n",
        "\n",
        "When we have observation of good states as $ \\mathbf{h} = \\{h_0, h_1, \\ldots, h_M\\}$ the likelihood function becomes \n",
        "\n",
        "\n",
        "$$ L(\\mathbf{h};\\theta_a) = \\prod_{k=0}^M L_k(h_k;\\theta_a). $$\n",
        "\n",
        "----\n",
        "\n",
        "From this, we can find an optimal value of $\\tilde{\\theta}_a$ \n",
        " that maximizes the above likelihood function, namely,\n",
        "\n",
        " $$ \\tilde{\\theta}_a = \\mbox{arg}~\\mbox{max}_{\\theta} L(\\mathbf{h};\\theta_a). $$\n",
        "\n",
        "\n",
        " The function below is to compute such an optimal$\\tilde{\\theta}_a$ \n"
      ]
    },
    {
      "cell_type": "code",
      "execution_count": 10,
      "metadata": {
        "id": "fnsqjhhVbMlT"
      },
      "outputs": [],
      "source": [
        "def calculate_theta(hit_list, number_grover_list, shots_list):\n",
        "    \"\"\"\n",
        "        calculate optimal theta values\n",
        "            hit_list: list of count of obserbving \"1\" for qc_list\n",
        "            numebr_grover_list: list of number of Grover operators        \n",
        "            shots_list: list of number of shots\n",
        "\n",
        "        Return:\n",
        "            thetaCandidate_list: list of optimal theta\n",
        "    \"\"\"\n",
        "\n",
        "    small = 1.e-15  # small valued parameter to avoid zero division\n",
        "    confidenceLevel = 5  # confidence level to determine the search range\n",
        "\n",
        "    thetaCandidate_list = []\n",
        "    rangeMin = 0.0 + small\n",
        "    rangeMax = 1.0 - small\n",
        "    for igrover in range(len(number_grover_list)):\n",
        "\n",
        "        def loglikelihood(p):\n",
        "            ret = np.zeros_like(p)\n",
        "            theta = np.arcsin(np.sqrt(p))\n",
        "            for n in range(igrover + 1):\n",
        "                ihit = hit_list[n]\n",
        "                arg = (2 * number_grover_list[n] + 1) * theta\n",
        "                ret = ret + 2 * ihit * np.log(np.abs(np.sin(arg))) + 2 * (\n",
        "                    shots_list[n] - ihit) * np.log(np.abs(np.cos(arg)))\n",
        "            return -ret\n",
        "\n",
        "        searchRange = (rangeMin, rangeMax)\n",
        "        searchResult = optimize.brute(loglikelihood, [searchRange])\n",
        "        pCandidate = searchResult[0]\n",
        "        thetaCandidate_list.append(np.arcsin(np.sqrt(pCandidate)))\n",
        "        perror = CalcErrorCramérRao(igrover, shots_list, pCandidate, number_grover_list)\n",
        "        rangeMax = min(pCandidate+confidenceLevel*perror,1.0 - small)\n",
        "        rangeMin = max(pCandidate-confidenceLevel*perror,0.0 + small)\n",
        "    return thetaCandidate_list"
      ]
    },
    {
      "cell_type": "markdown",
      "metadata": {
        "id": "CNsnHK7rj12r"
      },
      "source": [
        "## Remark about the Cramer-Rao bound\n",
        "\n",
        "The advantages offered by Amplitude Amplification without QFT and Controlled Grover operators  depend on the design of sequences of number of Grover iterations \n",
        " $m_k$ and number of shots $N_k$ \n",
        " for each run of iteration. The Cramér-Rao inequality provides the lower bound of the error of estimating the amplitude by the following\n",
        "\n",
        "\n",
        " $$ \\mbox{var}(\\tilde{a}) = \\mathbb{E}[(\\tilde{a} - \\mathbb{E}[\\tilde{a}])^2] \\ge \\frac{\\|1 + b'(a)\\|^2}{\\mathcal{I}(a)},$$\n",
        "\n",
        " where $b'(a)$ is the derivative $b(a) \\equiv \\mathbb{E}[\\tilde{a} - a]$ with respect to $a$, and $\\mathcal{I}(a)$ is the so-called *Fisher information* defined as \n",
        "\n",
        " $$ \\mathcal{I}(a) = \\mathbb{E}\\left[ \\left( \\frac{\\partial \\ln{L(x;a)} }{\\partial a} \\right)^2\\right]. $$\n",
        "\n",
        "\n",
        " -------\n",
        "\n",
        "\n",
        " With regards to $m_k$ and $N_k$, the total number of oracle calls is given as \n",
        "\n",
        " $$ N_{\\mbox{orac}} = \\sum_{k=0}^{M} N_k (2 m_k + 1),$$\n",
        "\n",
        " and the Fisher information is given by\n",
        "\n",
        " $$ \\mathcal{I}(a) = \\frac{1}{a(1-a)} \\sum_{k=0}^{M} N_k(2m_k + 1)^2 \\le \\frac{1}{a(1-a)} N^2_{\\mbox{orac}}. $$\n",
        "\n",
        " Thus, the error $\\tilde{\\epsilon} = \\mathbb{E}[(\\tilde{a} - a)^2]$ satisfies \n",
        "\n",
        " $$ \\tilde{\\epsilon} \\approx \\frac{1}{\\mathcal{I}(a)^{1/2}} \\ge \\frac{\\sqrt{a(1-a)}}{N_{\\mbox{orac}}} $$\n",
        "\n",
        "The bound above gives the lower bound of approximation error with regards to the approximated value $a$ and the total number of quantum oracle calls. Note that\n",
        "$\\tilde{\\epsilon} \\approx \\sqrt{a(1-a)}N_{\\mbox{orac}}^{1/2}$ for classical case,which is quadratically worse than the quantum case.\n"
      ]
    },
    {
      "cell_type": "markdown",
      "metadata": {
        "id": "QOv_RlxWk9m6"
      },
      "source": [
        "## Testing the algorithm with simulators\n",
        "\n"
      ]
    },
    {
      "cell_type": "code",
      "execution_count": 11,
      "metadata": {
        "id": "G3XU7unabPfR"
      },
      "outputs": [],
      "source": [
        "#setting the number of shots and Grover operators.\n",
        "\n",
        "shots_list = [100, 100, 100, 100, 100, 100, 100]  # list of number of shots\n",
        "number_grover_list = [0, 1, 2, 4, 8, 16, 32]  # list of number of Grover operators\n",
        "if len(shots_list) != len(number_grover_list):\n",
        "    raise Exception(\n",
        "        'The length of shots_list should be equal to the length of number_grover_list.'\n",
        "    )\n",
        "\n",
        "backend = Aer.get_backend('qasm_simulator')"
      ]
    },
    {
      "cell_type": "markdown",
      "metadata": {
        "id": "xRoBET3dlDL6"
      },
      "source": [
        "We also need functions to evaluate the accuracy against the true value."
      ]
    },
    {
      "cell_type": "code",
      "execution_count": 12,
      "metadata": {
        "id": "osphrdwVbSNC"
      },
      "outputs": [],
      "source": [
        "def CalcErrorCramérRao(M, shot_list, p0, number_grover_list):\n",
        "    \"\"\"\n",
        "        calculate Cramér-Rao lower bound\n",
        "            M: upper limit of the sum in Fisher information \n",
        "            shots_list:  list of number of shots\n",
        "            p0: the true parameter value to be estimated\n",
        "            numebr_grover_list: list of number of Grover operators        \n",
        "\n",
        "        Return:\n",
        "            square root of Cramér-Rao lower bound:  lower bound on the standard deviation of unbiased estimators\n",
        "    \"\"\"\n",
        "    FisherInfo = 0\n",
        "    for k in range(M + 1):\n",
        "        Nk = shot_list[k]\n",
        "        mk = number_grover_list[k]\n",
        "        FisherInfo += Nk / (p0 * (1 - p0)) * (2 * mk + 1)**2\n",
        "    return np.sqrt(1 / FisherInfo)\n",
        "\n",
        "\n",
        "def CalcNumberOracleCalls(M, shot_list, number_grover_list):\n",
        "    \"\"\"\n",
        "        calculate the total number of oracle calls\n",
        "            M: upper limit of the sum in Fisher information \n",
        "            shots_list:  list of number of shots\n",
        "            numebr_grover_list: list of number of Grover operators        \n",
        "\n",
        "        Return:\n",
        "            Norac: the total number of oracle calls\n",
        "    \"\"\"\n",
        "    Norac = 0\n",
        "    for k in range(M + 1):\n",
        "        Nk = shots_list[k]\n",
        "        mk = number_grover_list[k]\n",
        "        Norac += Nk * (2 * mk + 1)\n",
        "    return Norac"
      ]
    },
    {
      "cell_type": "markdown",
      "metadata": {
        "id": "u-7Z1MyLlG1z"
      },
      "source": [
        "Finally, we can run the algorithm as below:"
      ]
    },
    {
      "cell_type": "code",
      "execution_count": 13,
      "metadata": {
        "colab": {
          "base_uri": "https://localhost:8080/"
        },
        "id": "45yBhfhobW8V",
        "outputId": "4fdfe9b2-3b89-4c3d-e3c0-d327f4c9d1ed"
      },
      "outputs": [
        {
          "output_type": "stream",
          "name": "stderr",
          "text": [
            "<ipython-input-3-077de23a7832>:22: DeprecationWarning: The QuantumCircuit.cu3 method is deprecated as of 0.16.0. It will be removed no earlier than 3 months after the release date. You should use the QuantumCircuit.cu method instead, where cu3(ϴ,φ,λ) = cu(ϴ,φ,λ,0).\n",
            "  qc.cu3(2**i * b_max / 2**nbit * 2, 0, 0, qx[i], qx_measure[0])\n",
            "<ipython-input-3-077de23a7832>:34: DeprecationWarning: The QuantumCircuit.cu3 method is deprecated as of 0.16.0. It will be removed no earlier than 3 months after the release date. You should use the QuantumCircuit.cu method instead, where cu3(ϴ,φ,λ) = cu(ϴ,φ,λ,0).\n",
            "  qc.cu3(-2**i * b_max / 2**nbit * 2, 0, 0, qx[i], qx_measure[0])\n"
          ]
        }
      ],
      "source": [
        "qc_list = create_grover_circuit(number_grover_list, nbit,\n",
        "                                b_max)  # list of Grover circuits\n",
        "hit_list = run_grover(qc_list, number_grover_list, shots_list,\n",
        "                      backend)  # list of number of grover operators\n",
        "thetaCandidate_list = calculate_theta(\n",
        "    hit_list, number_grover_list, shots_list)  # list of estimated theta values"
      ]
    },
    {
      "cell_type": "markdown",
      "metadata": {
        "id": "LDLi5JQKlKm2"
      },
      "source": [
        "We can now plot to find the correlation between the number of oracle calls and the approximation error of $\\theta_a$\n",
        ", as well as the lower bound of such error provided by the Cramér-Rao."
      ]
    },
    {
      "cell_type": "code",
      "execution_count": 14,
      "metadata": {
        "colab": {
          "base_uri": "https://localhost:8080/",
          "height": 283
        },
        "id": "uJgOkFxlbY-v",
        "outputId": "6865f288-a357-4812-f73f-1b42140863cd"
      },
      "outputs": [
        {
          "output_type": "display_data",
          "data": {
            "text/plain": [
              "<Figure size 432x288 with 1 Axes>"
            ],
            "image/png": "[encoded data removed]"
          },
          "metadata": {
            "needs_background": "light"
          }
        }
      ],
      "source": [
        "error_list = np.abs(np.sin(thetaCandidate_list)**2 - discretizedResult)  # list of estimation errors\n",
        "OracleCall_list = []  # list of number of oracle calls\n",
        "ErrorCramérRao_list = []  # list of Cramér-Rao lower bound\n",
        "for i in range(len(number_grover_list)):\n",
        "    OracleCall_list.append(\n",
        "        CalcNumberOracleCalls(i, shots_list, number_grover_list))\n",
        "    ErrorCramérRao_list.append(\n",
        "        CalcErrorCramérRao(i, shots_list, discretizedResult, number_grover_list))\n",
        "\n",
        "p1 = plt.plot(OracleCall_list, error_list, 'o')\n",
        "p2 = plt.plot( OracleCall_list, ErrorCramérRao_list)\n",
        "plt.xscale('log')\n",
        "plt.xlabel(\"Number of oracle calls\")\n",
        "plt.yscale('log')\n",
        "plt.ylabel(\"Estimation Error\")\n",
        "plt.legend((p1[0], p2[0]), (\"Estimated Value\", \"Cramér-Rao\"))\n",
        "plt.show()"
      ]
    },
    {
      "cell_type": "markdown",
      "metadata": {
        "id": "5EC-sDprlQUK"
      },
      "source": [
        "From the above graph, we can see that the estimation error tends to decrease with the increase of the number oracle calls but has deviates from Cramér-Rao lower bound. Because Cramér-Rao lower bound express a bound for statistical mean of estimation errors, we now repeat the above algorithm $n_{trial}=100$\n",
        " times to estimate the statisitical mean of errors."
      ]
    },
    {
      "cell_type": "code",
      "execution_count": 15,
      "metadata": {
        "colab": {
          "base_uri": "https://localhost:8080/"
        },
        "id": "-PpFyoVGbbQs",
        "outputId": "470ed198-1c73-4731-8cf1-98114b9cf7f0"
      },
      "outputs": [
        {
          "output_type": "stream",
          "name": "stdout",
          "text": [
            "n_trial=(1/100)\r"
          ]
        },
        {
          "output_type": "stream",
          "name": "stderr",
          "text": [
            "<ipython-input-3-077de23a7832>:22: DeprecationWarning: The QuantumCircuit.cu3 method is deprecated as of 0.16.0. It will be removed no earlier than 3 months after the release date. You should use the QuantumCircuit.cu method instead, where cu3(ϴ,φ,λ) = cu(ϴ,φ,λ,0).\n",
            "  qc.cu3(2**i * b_max / 2**nbit * 2, 0, 0, qx[i], qx_measure[0])\n",
            "<ipython-input-3-077de23a7832>:34: DeprecationWarning: The QuantumCircuit.cu3 method is deprecated as of 0.16.0. It will be removed no earlier than 3 months after the release date. You should use the QuantumCircuit.cu method instead, where cu3(ϴ,φ,λ) = cu(ϴ,φ,λ,0).\n",
            "  qc.cu3(-2**i * b_max / 2**nbit * 2, 0, 0, qx[i], qx_measure[0])\n"
          ]
        },
        {
          "output_type": "stream",
          "name": "stdout",
          "text": []
        }
      ],
      "source": [
        "n_trial = 100\n",
        "error_list= np.zeros_like(number_grover_list,dtype=float)\n",
        "qc_list = create_grover_circuit(number_grover_list, nbit, b_max)\n",
        "for i in range(n_trial):\n",
        "    sys.stdout.write(\"n_trial=(%d/%d)\\r\" % ((i + 1), n_trial))\n",
        "    sys.stdout.flush()\n",
        "    hit_list = run_grover(qc_list, number_grover_list, shots_list, backend)\n",
        "    thetaCandidate_list = calculate_theta(hit_list, number_grover_list, shots_list)\n",
        "    error_list += (np.sin(thetaCandidate_list)**2 - discretizedResult)**2  # list of estimation errors\n",
        "\n",
        "error_list = (error_list / (n_trial-1))**(1/2)"
      ]
    },
    {
      "cell_type": "code",
      "execution_count": 16,
      "metadata": {
        "colab": {
          "base_uri": "https://localhost:8080/",
          "height": 283
        },
        "id": "uZRkLNbKbeER",
        "outputId": "7ed9cb93-c45f-42fe-b126-4496ce09298a"
      },
      "outputs": [
        {
          "output_type": "display_data",
          "data": {
            "text/plain": [
              "<Figure size 432x288 with 1 Axes>"
            ],
            "image/png": "[encoded data removed]"
          },
          "metadata": {
            "needs_background": "light"
          }
        }
      ],
      "source": [
        "p1 = plt.plot(OracleCall_list, error_list, 'o')\n",
        "p2 = plt.plot(OracleCall_list, ErrorCramérRao_list)\n",
        "plt.xscale('log')\n",
        "plt.xlabel(\"Number of oracle calls\")\n",
        "plt.yscale('log')\n",
        "plt.ylabel(\"Estimation Error\")\n",
        "plt.legend((p1[0], p2[0]), (\"Estimated Value\", \"Cramér-Rao\"))\n",
        "plt.show()"
      ]
    },
    {
      "cell_type": "markdown",
      "metadata": {
        "id": "fURJ1axTlWvO"
      },
      "source": [
        "We can see that the above algorithm achieved almost as good as the lower bound provided by the Cramér-Rao bound."
      ]
    },
    {
      "cell_type": "code",
      "execution_count": 16,
      "metadata": {
        "id": "Ybzxuj_Lbg8J"
      },
      "outputs": [],
      "source": []
    }
  ],
  "metadata": {
    "colab": {
      "provenance": [],
      "authorship_tag": "ABX9TyMdJofx/kA0ZeG7fiaOL5Ct",
      "include_colab_link": true
    },
    "kernelspec": {
      "display_name": "Python 3",
      "name": "python3"
    },
    "language_info": {
      "name": "python"
    }
  },
  "nbformat": 4,
  "nbformat_minor": 0
}