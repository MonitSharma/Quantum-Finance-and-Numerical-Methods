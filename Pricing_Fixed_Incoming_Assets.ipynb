{
  "nbformat": 4,
  "nbformat_minor": 0,
  "metadata": {
    "colab": {
      "provenance": [],
      "authorship_tag": "ABX9TyPStl6ubCa7tYYpiBUcH5Qh",
      "include_colab_link": true
    },
    "kernelspec": {
      "name": "python3",
      "display_name": "Python 3"
    },
    "language_info": {
      "name": "python"
    }
  },
  "cells": [
    {
      "cell_type": "markdown",
      "metadata": {
        "id": "view-in-github",
        "colab_type": "text"
      },
      "source": [
        "<a href=\"https://colab.research.google.com/github/MonitSharma/Quantum-Finance-and-Numerical-Methods/blob/main/Pricing_Fixed_Incoming_Assets.ipynb\" target=\"_parent\"><img src=\"https://colab.research.google.com/assets/colab-badge.svg\" alt=\"Open In Colab\"/></a>"
      ]
    },
    {
      "cell_type": "markdown",
      "source": [
        "# Pricing Fixed-Income Assets\n",
        "\n",
        "\n",
        "## Introduction\n",
        "\n",
        "We seek to price a fixed-income asset knowing the distributions describing the relevant interest rates. The cash flows $c_t$ of the asset and the dates at which they occur are known and the total value $V$ of the asset is thus expectation value of:\n",
        "\n",
        "$$ V = \\sum_{t=1}^T \\frac{c_t}{(1+r_t)^t} $$\n",
        "\n",
        "------\n",
        "\n",
        "Each cash flow is treated as a zero coupon bond with a corresponding interest rate $r_t$ that depends on its maturity. The user must specify the distribution modeling the uncertainty in each $r_t$ as well as the number of qubits required.\n",
        "\n",
        "\n",
        "--------\n",
        "\n",
        "\n",
        "The approximation of the objective function follows the following paper:\n",
        "\n",
        "[Quantum Risk Analysis](https://arxiv.org/abs/1806.06893)"
      ],
      "metadata": {
        "id": "qpPerdIucX38"
      }
    },
    {
      "cell_type": "code",
      "execution_count": null,
      "metadata": {
        "id": "3O8WZIjZcRkf"
      },
      "outputs": [],
      "source": [
        "%pip install qiskit[finance]"
      ]
    },
    {
      "cell_type": "code",
      "source": [
        "import matplotlib.pyplot as plt\n",
        "%matplotlib inline\n",
        "import numpy as np\n",
        "\n",
        "\n",
        "from qiskit import Aer, QuantumCircuit\n",
        "from qiskit.utils import QuantumInstance\n",
        "from qiskit.algorithms import IterativeAmplitudeEstimation, EstimationProblem\n",
        "from qiskit_finance.circuit.library import NormalDistribution"
      ],
      "metadata": {
        "id": "lOf87dswdMKQ"
      },
      "execution_count": 4,
      "outputs": []
    },
    {
      "cell_type": "markdown",
      "source": [
        "### Cicruit Library\n",
        "\n",
        "`qiskit_finance.circuit.library`\n",
        "\n",
        "\n",
        "\n",
        "#### Payoff Functions\n",
        "\n",
        "1. `EuropeanCallDeltaObjective(num)state_qubits,...)`\n",
        "\n",
        "2. `EuropeanCallPricingObjective(...)`\n",
        "\n",
        "3. `FixedIncomePricingObjective(num_qubits...)`\n",
        "\n",
        "\n",
        "-------\n",
        "--------\n",
        "\n",
        "\n",
        "\n",
        "\n",
        "#### Probability Distribution\n",
        "\n",
        "\n",
        "1. `GaussianConditionalIndependenceModel(...)` - The Gaussian Conditional Independence for Credit Risk\n",
        "\n",
        "`CLASSGaussianConditionalIndependenceModel(n_normal, normal_max_value, p_zeros, rhos)`\n",
        "\n",
        "The Gaussian Conditional Independence Model for Credit Risk. Reference: https://arxiv.org/abs/1412.1183 Dependency between individual risk variables and latent variable is approximated linearly.\n",
        "\n",
        "\n",
        "-----\n",
        "\n",
        "\n",
        "\n",
        "2. `LogNormalDistribution()` - A circuit to encode a discretized log-normal distribution in qubit amplitudes\n",
        "\n",
        "[Here](https://qiskit.org/documentation/finance/locale/bn_BN/stubs/qiskit_finance.circuit.library.LogNormalDistribution.html#qiskit_finance.circuit.library.LogNormalDistribution)\n",
        "\n",
        "\n",
        "`CLASSLogNormalDistribution(num_qubits, mu=None, sigma=None, bounds=None, upto_diag=False, name='P(X)')`\n",
        "\n",
        "A circuit to encode a discretized log-normal distribution in qubit amplitudes.\n",
        "\n",
        "A random variable $X$ is log-normal distributed if \n",
        "$$\\log(X) \\sim \\mathcal{N}(\\mu, \\sigma^2)$$\n",
        "\n",
        "for a normal distribution $ \\mathcal{N}(\\mu, \\sigma^2) $.   The probability density function of the log-normal distribution is defined as\n",
        "\n",
        "$$ \\mathbb{P}(X = x) = \\frac{1}{x\\sqrt{2\\pi\\sigma^2}} e^{-\\frac{(\\log(x) - \\mu)^2}{\\sigma^2}} $$\n",
        "\n",
        "\n",
        "The parameter `sigma` in this class equals the **variance**, $\\sigma^2$ and not the standard deviation. This is for consistency with multivariate distributions, where the uppercase sigma $\\Sigma$, , is associated with the covariance.\n",
        "\n",
        "\n",
        "The circuit considers the discretized version of $X$ on `2** num_qubits` equidistant points, $x_i$ trunctaed to `bounds`. The action of this circuit can be written as \n",
        "\n",
        "$$ \\mathcal{P}_X |0\\rangle^n = \\sum_{i=0}^{2^n - 1} \\sqrt{\\mathbb{P}(x_i)} |i\\rangle $$\n",
        "\n",
        "where $n$ is the number of qubits.\n",
        "\n",
        "\n",
        "The circuit loads the square root of the probabilities into the qubit amplitudes such that the sampling probability, which is the square of the amplitude, equals the probability of the distribution.\n",
        "\n",
        "This circuit is for example used in amplitude estimation applications, such as finance, where customer demand or the return of a portfolio could be modeled using a log-normal distribution\n",
        "\n",
        "\n",
        "\n",
        "\n",
        "-----\n",
        "\n",
        "\n",
        "\n",
        "3. `NormalDistribution()` - A circuit to enocde a discretized normal distribution in qubit amplitudes\n",
        "\n",
        "[Here](https://qiskit.org/documentation/finance/locale/bn_BN/stubs/qiskit_finance.circuit.library.NormalDistribution.html#qiskit_finance.circuit.library.NormalDistribution)\n",
        "\n",
        "`CLASSNormalDistribution(num_qubits, mu=None, sigma=None, bounds=None, upto_diag=False, name='P(X)')`\n",
        "\n",
        "\n",
        "A circuit to encode a discretized normal distribution in qubit amplitudes.\n",
        "\n",
        "The probability density function of the normal distribution is defined as\n",
        "\n",
        "$$\\mathbb{P}(X = x) = \\frac{1}{\\sqrt{2\\pi\\sigma^2}} e^{-\\frac{(x - \\mu)^2}{\\sigma^2}}$$\n",
        "\n",
        "\n",
        "-----\n",
        "\n",
        "\n",
        "\n",
        "4. `UniformDistribution()` - A circuit to encode a discretized uniform distribution in qubit amplitudes\n",
        "\n",
        "`CLASS UniformDistribution(num_qubits, name = \"P(x)\")`\n",
        "\n",
        "This simply corresponds to applying Hadamard gates on all qubits. The Probability density function of the discretized uniform distributin on $N$ values:\n",
        "\n",
        "$$ \\mathbb{P}(X = x) = \\frac{1}{N}. $$\n",
        "\n",
        "This circuit considers $N= 2^n$ where $n = \\text{num_qubits}$ and prepares the state:\n",
        "\n",
        "$$ \\mathcal{P}_X |0\\rangle^{\\otimes n} = \\frac{1}{\\sqrt{2^n}} \\sum_{x=0}^{2^n - 1} |x\\rangle $$\n",
        "\n",
        "\n",
        "\n"
      ],
      "metadata": {
        "id": "zhnpMlPldq7v"
      }
    },
    {
      "cell_type": "code",
      "source": [
        "# uniform Distribution\n",
        "from qiskit_finance.circuit.library.probability_distributions import UniformDistribution\n",
        "circuit = UniformDistribution(3)\n",
        "circuit.decompose().draw('mpl')"
      ],
      "metadata": {
        "colab": {
          "base_uri": "https://localhost:8080/",
          "height": 185
        },
        "id": "JCJjinLodmMf",
        "outputId": "316dadbb-8cc0-41ce-d0cb-43d02d769165"
      },
      "execution_count": 7,
      "outputs": [
        {
          "output_type": "execute_result",
          "data": {
            "text/plain": [
              "<Figure size 146.797x204.68 with 1 Axes>"
            ],
            "image/png": "[encoded data removed]"
          },
          "metadata": {},
          "execution_count": 7
        }
      ]
    },
    {
      "cell_type": "code",
      "source": [
        "# log normal\n",
        "\n",
        "from qiskit_finance.circuit.library.probability_distributions import LogNormalDistribution\n",
        "mu = [1, 0.9, 0.2]\n",
        "sigma = [[1, -0.2, 0.2], [-0.2, 1, 0.4], [0.2, 0.4, 1]]\n",
        "circuit = LogNormalDistribution([2, 2, 2], mu, sigma)\n",
        "circuit.num_qubits"
      ],
      "metadata": {
        "colab": {
          "base_uri": "https://localhost:8080/"
        },
        "id": "Ly4AU25Mftf-",
        "outputId": "86567fb5-7e93-43a3-d544-33b37dce1e39"
      },
      "execution_count": 8,
      "outputs": [
        {
          "output_type": "execute_result",
          "data": {
            "text/plain": [
              "6"
            ]
          },
          "metadata": {},
          "execution_count": 8
        }
      ]
    },
    {
      "cell_type": "markdown",
      "source": [
        "## Uncertainity Model\n",
        "\n",
        "We construct a circuit to load a multivariate normal random distribution in $d$ dimensions into a quantum state. The distribution is truncated to a given box $\\otimes_{i=1}^d [low_i, high_i]$ and discretized using $2^{n_{i}}$ grid points, where $n_i$ denotes the number of qubits used for dimension $i = 1,...,d$. The unitary operator corresponding to the ciruit implements the following:\n",
        "\n",
        "$$ \\big|0\\rangle_{n_1}\\ldots\\big|0\\rangle_{n_d} \\mapsto \\big|\\psi\\rangle = \\sum_{i_1=0}^{2^n_-1}\\ldots\\sum_{i_d=0}^{2^n_-1} \\sqrt{p_{i_1,...,i_d}}\\big|i_1\\rangle_{n_1}\\ldots\\big|i_d\\rangle_{n_d}, $$\n",
        "\n",
        "where $p_{i_1, ..., i_d}$  denote the probabilities corresponding to the truncated and discretized distribution and where $i_j$ is mapped to the right interval $[low_j, high_j]$ using the affine map:\n",
        "\n",
        "\n",
        "$$ \\{0, \\ldots, 2^{n_{j}}-1\\} \\ni i_j \\mapsto \\frac{high_j - low_j}{2^{n_j} - 1} * i_j + low_j \\in [low_j, high_j]. $$\n",
        "\n",
        "In addititon to the unertainty model, we can also apply an affine map, e.g resulting from a principal component analysis. The interest rates used are then given by:\n",
        "\n",
        "$$ \\vec{r} = A * \\vec{x} + b, $$\n",
        "\n",
        "where $\\vec{x} \\in \\otimes_{i=1}^d [low_i, high_i]$ follows the given random distribution."
      ],
      "metadata": {
        "id": "WaQ61MCqo21I"
      }
    },
    {
      "cell_type": "code",
      "source": [
        "# can be used in case a Principal Component Analysis has been done to derive\n",
        "# the uncertainty model, ignored in this one\n",
        "A = np.eye(2)\n",
        "b = np.zeros(2)\n",
        "\n",
        "\n",
        "# specify the nymber of qubits that are used to\n",
        "# represent the different dimensions of the\n",
        "# uncertainty model\n",
        "\n",
        "num_qubits = [2,2]\n",
        "\n",
        "# specify the lower and upper bounds for the different dimensions\n",
        "low = [0,0]\n",
        "high = [0.12, 0.24]\n",
        "mu = [0.12, 0.24]\n",
        "sigma = 0.01 * np.eye(2)\n",
        "\n",
        "\n",
        "# construct corresponding distribution\n",
        "bounds = list(zip(low,high))\n",
        "u = NormalDistribution(num_qubits, mu, sigma, bounds)"
      ],
      "metadata": {
        "id": "hI11XxmTh4d-"
      },
      "execution_count": 9,
      "outputs": []
    },
    {
      "cell_type": "code",
      "source": [
        "# plot contour of probability density function\n",
        "x = np.linspace(low[0], high[0], 2 ** num_qubits[0])\n",
        "y = np.linspace(low[1], high[1], 2 ** num_qubits[1])\n",
        "z = u.probabilities.reshape(2 ** num_qubits[0], 2 ** num_qubits[1])\n",
        "plt.contourf(x, y, z)\n",
        "plt.xticks(x, size=15)\n",
        "plt.yticks(y, size=15)\n",
        "plt.grid()\n",
        "plt.xlabel(\"$r_1$ (%)\", size=15)\n",
        "plt.ylabel(\"$r_2$ (%)\", size=15)\n",
        "plt.colorbar()\n",
        "plt.show()"
      ],
      "metadata": {
        "colab": {
          "base_uri": "https://localhost:8080/",
          "height": 299
        },
        "id": "E5-1j5iYshvq",
        "outputId": "ad0ecfaa-85b3-4779-9938-92b1566bdc4c"
      },
      "execution_count": 10,
      "outputs": [
        {
          "output_type": "display_data",
          "data": {
            "text/plain": [
              "<Figure size 432x288 with 2 Axes>"
            ],
            "image/png": "[encoded data removed]"
          },
          "metadata": {
            "needs_background": "light"
          }
        }
      ]
    },
    {
      "cell_type": "markdown",
      "source": [
        "## Cash flow, payoff function , and exact expected value\n",
        "\n",
        "In the following we define the cash flow per period, the resulting payoff function and evaluate the exact expected value.\n",
        "\n",
        "\n",
        "For the payoff function we first order approximation and then apply the same approximation technique as for the pay off function of the `European Call Option`\n",
        "\n"
      ],
      "metadata": {
        "id": "B8pl2LPvswXg"
      }
    },
    {
      "cell_type": "code",
      "source": [
        "# specify cash flow\n",
        "cf = [1.0, 2.0]\n",
        "periods = range(1, len(cf) + 1)\n",
        "\n",
        "# plot cash flow\n",
        "plt.bar(periods, cf)\n",
        "plt.xticks(periods, size=15)\n",
        "plt.yticks(size=15)\n",
        "plt.grid()\n",
        "plt.xlabel(\"periods\", size=15)\n",
        "plt.ylabel(\"cashflow ($)\", size=15)\n",
        "plt.show()"
      ],
      "metadata": {
        "colab": {
          "base_uri": "https://localhost:8080/",
          "height": 289
        },
        "id": "-Pxwooewskuf",
        "outputId": "74499831-24c7-4606-c33d-2eb6cf8434ee"
      },
      "execution_count": 11,
      "outputs": [
        {
          "output_type": "display_data",
          "data": {
            "text/plain": [
              "<Figure size 432x288 with 1 Axes>"
            ],
            "image/png": "[encoded data removed]"
          },
          "metadata": {
            "needs_background": "light"
          }
        }
      ]
    },
    {
      "cell_type": "code",
      "source": [
        "# estimate real value\n",
        "cnt = 0\n",
        "exact_value = 0.0\n",
        "for x1 in np.linspace(low[0], high[0], pow(2, num_qubits[0])):\n",
        "    for x2 in np.linspace(low[1], high[1], pow(2, num_qubits[1])):\n",
        "        prob = u.probabilities[cnt]\n",
        "        for t in range(len(cf)):\n",
        "            # evaluate linear approximation of real value w.r.t. interest rates\n",
        "            exact_value += prob * (\n",
        "                cf[t] / pow(1 + b[t], t + 1)\n",
        "                - (t + 1) * cf[t] * np.dot(A[:, t], np.asarray([x1, x2])) / pow(1 + b[t], t + 2)\n",
        "            )\n",
        "        cnt += 1\n",
        "print(\"Exact value:    \\t%.4f\" % exact_value)"
      ],
      "metadata": {
        "colab": {
          "base_uri": "https://localhost:8080/"
        },
        "id": "BfGQEPKWulk6",
        "outputId": "f6dcaff4-fd29-444d-e0f6-1a7591627c8a"
      },
      "execution_count": 12,
      "outputs": [
        {
          "output_type": "stream",
          "name": "stdout",
          "text": [
            "Exact value:    \t2.1942\n"
          ]
        }
      ]
    },
    {
      "cell_type": "code",
      "source": [
        "# specify approximation factor\n",
        "c_approx = 0.125\n",
        "\n",
        "# create fixed income pricing application\n",
        "from qiskit_finance.applications.estimation import FixedIncomePricing\n",
        "\n",
        "fixed_income = FixedIncomePricing(\n",
        "    num_qubits=num_qubits,\n",
        "    pca_matrix=A,\n",
        "    initial_interests=b,\n",
        "    cash_flow=cf,\n",
        "    rescaling_factor=c_approx,\n",
        "    bounds=bounds,\n",
        "    uncertainty_model=u,\n",
        ")"
      ],
      "metadata": {
        "id": "YOJrVpX9uqj7"
      },
      "execution_count": 13,
      "outputs": []
    },
    {
      "cell_type": "code",
      "source": [
        "%pip install pylatexenc"
      ],
      "metadata": {
        "colab": {
          "base_uri": "https://localhost:8080/"
        },
        "id": "5WZCZE9lux8u",
        "outputId": "9e15ff68-cebd-469a-d0a0-5c374b39a5cf"
      },
      "execution_count": 14,
      "outputs": [
        {
          "output_type": "stream",
          "name": "stdout",
          "text": [
            "Looking in indexes: https://pypi.org/simple, https://us-python.pkg.dev/colab-wheels/public/simple/\n",
            "Requirement already satisfied: pylatexenc in /usr/local/lib/python3.8/dist-packages (2.10)\n"
          ]
        }
      ]
    },
    {
      "cell_type": "code",
      "source": [
        "fixed_income._objective.draw('mpl')"
      ],
      "metadata": {
        "colab": {
          "base_uri": "https://localhost:8080/",
          "height": 276
        },
        "id": "lP8vSF16u1E_",
        "outputId": "fb869d12-cdba-424e-b653-34e35f7147da"
      },
      "execution_count": 15,
      "outputs": [
        {
          "output_type": "execute_result",
          "data": {
            "text/plain": [
              "<Figure size 146.797x325.08 with 1 Axes>"
            ],
            "image/png": "[encoded data removed]"
          },
          "metadata": {},
          "execution_count": 15
        }
      ]
    },
    {
      "cell_type": "code",
      "source": [
        "fixed_income_circ = QuantumCircuit(fixed_income._objective.num_qubits)\n",
        "\n",
        "# load probability distribution\n",
        "fixed_income_circ.append(u, range(u.num_qubits))\n",
        "\n",
        "# apply function\n",
        "fixed_income_circ.append(fixed_income._objective, range(fixed_income._objective.num_qubits))\n",
        "\n",
        "fixed_income_circ.draw('mpl')"
      ],
      "metadata": {
        "colab": {
          "base_uri": "https://localhost:8080/",
          "height": 276
        },
        "id": "l1S8vpKJu3us",
        "outputId": "797879a1-b47f-4f99-8b34-6872172c4d60"
      },
      "execution_count": 17,
      "outputs": [
        {
          "output_type": "execute_result",
          "data": {
            "text/plain": [
              "<Figure size 206.997x325.08 with 1 Axes>"
            ],
            "image/png": "[encoded data removed]"
          },
          "metadata": {},
          "execution_count": 17
        }
      ]
    },
    {
      "cell_type": "code",
      "source": [
        "# set target precision and confidence level\n",
        "epsilon = 0.01\n",
        "alpha = 0.05\n",
        "\n",
        "# construct amplitude estimation\n",
        "qi = QuantumInstance(Aer.get_backend(\"aer_simulator\"), shots=100)\n",
        "\n",
        "problem = fixed_income.to_estimation_problem()\n",
        "\n",
        "ae = IterativeAmplitudeEstimation(epsilon, alpha=alpha, quantum_instance=qi)"
      ],
      "metadata": {
        "id": "koXuX2psu54h"
      },
      "execution_count": 18,
      "outputs": []
    },
    {
      "cell_type": "code",
      "source": [
        "result = ae.estimate(problem)"
      ],
      "metadata": {
        "id": "_y4FUuj4u-iC"
      },
      "execution_count": 19,
      "outputs": []
    },
    {
      "cell_type": "code",
      "source": [
        "conf_int = np.array(result.confidence_interval_processed)\n",
        "print(\"Exact value:        \\t%.4f\" % exact_value)\n",
        "print(\"Estimated value:    \\t%.4f\" % (fixed_income.interpret(result)))\n",
        "print(\"Confidence interval:\\t[%.4f, %.4f]\" % tuple(conf_int))"
      ],
      "metadata": {
        "colab": {
          "base_uri": "https://localhost:8080/"
        },
        "id": "lsJT3tRLvAqP",
        "outputId": "71445f7c-8674-4f37-dcfd-ec5e09ab25fa"
      },
      "execution_count": 20,
      "outputs": [
        {
          "output_type": "stream",
          "name": "stdout",
          "text": [
            "Exact value:        \t2.1942\n",
            "Estimated value:    \t2.3415\n",
            "Confidence interval:\t[2.2929, 2.3902]\n"
          ]
        }
      ]
    },
    {
      "cell_type": "code",
      "source": [],
      "metadata": {
        "id": "hTGT7mVXvDm-"
      },
      "execution_count": null,
      "outputs": []
    }
  ]
}