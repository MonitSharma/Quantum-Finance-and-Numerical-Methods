{
  "nbformat": 4,
  "nbformat_minor": 0,
  "metadata": {
    "colab": {
      "provenance": [],
      "authorship_tag": "ABX9TyNlpeu5Ju6KN54YhmQRnuc6",
      "include_colab_link": true
    },
    "kernelspec": {
      "name": "python3",
      "display_name": "Python 3"
    },
    "language_info": {
      "name": "python"
    }
  },
  "cells": [
    {
      "cell_type": "markdown",
      "metadata": {
        "id": "view-in-github",
        "colab_type": "text"
      },
      "source": [
        "<a href=\"https://colab.research.google.com/github/MonitSharma/Quantum-Finance-and-Numerical-Methods/blob/main/Introduction_to_Python.ipynb\" target=\"_parent\"><img src=\"https://colab.research.google.com/assets/colab-badge.svg\" alt=\"Open In Colab\"/></a>"
      ]
    },
    {
      "cell_type": "markdown",
      "source": [
        "# Introduction to Python\n",
        "\n",
        "\n"
      ],
      "metadata": {
        "id": "486_VsVi5tGF"
      }
    },
    {
      "cell_type": "markdown",
      "source": [
        "## What is Python?\n",
        "\n",
        "Python is an interpreted, object-oriented, high-level programming language with dynamic semantics. Its high-level built in data structures, combined with dynamic typing and dynamic binding, make it very attractive for Rapid Application Development, as well as for use as a scripting or glue language to connect existing components together. \n",
        "\n",
        "----------\n",
        "\n",
        "Python's simple, easy to learn syntax emphasizes readability and therefore reduces the cost of program maintenance. Python supports modules and packages, which encourages program modularity and code reuse. The Python interpreter and the extensive standard library are available in source or binary form without charge for all major platforms, and can be freely distributed."
      ],
      "metadata": {
        "id": "uRuQEQJK5xsk"
      }
    },
    {
      "cell_type": "markdown",
      "source": [
        "## How is it used in Finance?\n",
        "\n",
        "According to the HackerRank 2018 Developer Skills Report, Python was among the top three most popular languages in financial services. In 2020 Python still appears to be one of the [most wanted languages in the bank industry](https://news.efinancialcareers.com/uk-en/137065/the-six-hottest-programming-languages-to-know-in-banking-technology).\n",
        "\n",
        "------------\n",
        "\n",
        "Common in applications that range from risk management to cryptocurrencies, Python has become one of the most popular programming languages for Fintech Companies. Its simplicity and robust modeling capabilities make it an excellent tool for researchers, analysts, and traders."
      ],
      "metadata": {
        "id": "kHZ0vIv36DKD"
      }
    },
    {
      "cell_type": "markdown",
      "source": [
        "## What makes it so usefule for the fintech and finance projects?\n",
        "\n",
        "1. Simple and Flexible :  Python is easy to write and deploy, making it a perfect candidate for handling financial services applications that most of the time are incredibly complex.\n",
        "Python's syntax is simple and boosts the development speed, helping organizations to quickly build the software they need or bring new products to market.\n",
        "At the same time, it reduces the potential error rate which is critical when developing products for a heavily-regulated industry like finance.\n",
        "\n",
        "\n",
        "-----------------\n",
        "\n",
        "2. Easily build an MVP : The financial services sector needs to be more agile and responsive to customer demands, offering personalized experiences and extra services that add value. That's why finance organizations and fintechs need a technology which is flexible and scalable – and that's exactly what Python offers. Using Python in combination with frameworks such as Django, developers can quickly get an idea off the ground and create a solid MVP to enable finding a product/market fit quickly.\n",
        "After validating the MVP, businesses can easily change parts of the code or add new ones to create a flawless product.\n",
        "\n",
        "\n",
        "\n",
        "--------------\n",
        "\n",
        "3. Bridges economics and data science : Languages such as Matlab or R are less widespread among economists who most often use Python to make their calculations. That why's Python rules the finance scene with its simplicity and practicality in creating algorithms and formulas – it's just much easier to integrate the work of economists into Python-based platforms.\n",
        "Tools like scipy, numpy or matplotlib allow one to perform sophisticated financial calculations and display the results in a very approachable manner.\n",
        "\n",
        "\n",
        "\n",
        "--------------------------\n",
        "\n",
        "4. Rich ecosystem of libraries and tools : With Python, developers don't need to build their tools from scratch, saving organizations a lot of time and money on development projects.\n",
        "Moreover, fintech products usually require integrations with third parties, and Python libraries make that easier as well. Python's development speed enhanced with its collection of tools and libraries builds a competitive advantage for organizations that aim to address the changing consumer needs by releasing products quickly.\n"
      ],
      "metadata": {
        "id": "omjP6LZS6UND"
      }
    },
    {
      "cell_type": "markdown",
      "source": [
        "#### Check the Python version!"
      ],
      "metadata": {
        "id": "7cD122zJ6-ou"
      }
    },
    {
      "cell_type": "code",
      "execution_count": 2,
      "metadata": {
        "colab": {
          "base_uri": "https://localhost:8080/"
        },
        "id": "fM-mLoY75jmp",
        "outputId": "d0c8144d-7164-4822-bc7d-ad99a21cf31f"
      },
      "outputs": [
        {
          "output_type": "stream",
          "name": "stdout",
          "text": [
            "Python 3.7.15\n"
          ]
        }
      ],
      "source": [
        "!python --version"
      ]
    },
    {
      "cell_type": "markdown",
      "source": [
        "#### Basic Python operations and Data Types"
      ],
      "metadata": {
        "id": "z99_2epR7KZo"
      }
    },
    {
      "cell_type": "code",
      "source": [
        "a=5\n",
        "b=7\n",
        "c=2.\n",
        "print(type(a))\n",
        "print(type(c))"
      ],
      "metadata": {
        "colab": {
          "base_uri": "https://localhost:8080/"
        },
        "id": "Lh2QzSF47GrT",
        "outputId": "a863d626-bfb8-46af-f897-b173ac7cfc80"
      },
      "execution_count": 3,
      "outputs": [
        {
          "output_type": "stream",
          "name": "stdout",
          "text": [
            "<class 'int'>\n",
            "<class 'float'>\n"
          ]
        }
      ]
    },
    {
      "cell_type": "code",
      "source": [
        "print(a+b)\n",
        "print(a**b) # Note that the double ** in the power operator\n",
        "print(type(a+b))\n",
        "print(type(a*c))"
      ],
      "metadata": {
        "colab": {
          "base_uri": "https://localhost:8080/"
        },
        "id": "DDQkpGKJ7WVP",
        "outputId": "536cbbaf-4c45-45de-c4ea-9ba5ba2e085d"
      },
      "execution_count": 4,
      "outputs": [
        {
          "output_type": "stream",
          "name": "stdout",
          "text": [
            "12\n",
            "78125\n",
            "<class 'int'>\n",
            "<class 'float'>\n"
          ]
        }
      ]
    },
    {
      "cell_type": "markdown",
      "source": [
        "#### Keywords\n",
        "\n",
        "\n",
        "They are the special words that cannot be used to name variables, as they already have an internal implementations"
      ],
      "metadata": {
        "id": "HoDi3Fgu7a_r"
      }
    },
    {
      "cell_type": "code",
      "source": [
        "import keyword\n",
        "print(keyword.kwlist)"
      ],
      "metadata": {
        "colab": {
          "base_uri": "https://localhost:8080/"
        },
        "id": "4flNCBlg7YO8",
        "outputId": "1f161997-1ab9-4f67-8a8f-72767b5fb2e1"
      },
      "execution_count": 5,
      "outputs": [
        {
          "output_type": "stream",
          "name": "stdout",
          "text": [
            "['False', 'None', 'True', 'and', 'as', 'assert', 'async', 'await', 'break', 'class', 'continue', 'def', 'del', 'elif', 'else', 'except', 'finally', 'for', 'from', 'global', 'if', 'import', 'in', 'is', 'lambda', 'nonlocal', 'not', 'or', 'pass', 'raise', 'return', 'try', 'while', 'with', 'yield']\n"
          ]
        }
      ]
    },
    {
      "cell_type": "markdown",
      "source": [
        "#### None type\n",
        "None is sometimes used as the result of a function that has failed."
      ],
      "metadata": {
        "id": "8r4_51yh7oZM"
      }
    },
    {
      "cell_type": "code",
      "source": [
        "a = None\n",
        "print(type(a))"
      ],
      "metadata": {
        "colab": {
          "base_uri": "https://localhost:8080/"
        },
        "id": "DU7Z9y9s7lXe",
        "outputId": "7d3abeb3-f2e7-4202-b8df-51a22c9eb90d"
      },
      "execution_count": 6,
      "outputs": [
        {
          "output_type": "stream",
          "name": "stdout",
          "text": [
            "<class 'NoneType'>\n"
          ]
        }
      ]
    },
    {
      "cell_type": "markdown",
      "source": [
        "#### Checking types\n",
        "\n",
        "we can yse the `is` keyword to check types"
      ],
      "metadata": {
        "id": "xbnaaU6f7xn2"
      }
    },
    {
      "cell_type": "code",
      "source": [
        "a = 5\n",
        "b = 4\n",
        "c = 5.\n",
        "\n",
        "type(a) is type(b)\n",
        "\n",
        "# will retrun true if they are the same type and false otherwise"
      ],
      "metadata": {
        "colab": {
          "base_uri": "https://localhost:8080/"
        },
        "id": "mw_fU5dv7vzv",
        "outputId": "a90b6ac1-3399-42dc-f83d-19f2a19c85ce"
      },
      "execution_count": 7,
      "outputs": [
        {
          "output_type": "execute_result",
          "data": {
            "text/plain": [
              "True"
            ]
          },
          "metadata": {},
          "execution_count": 7
        }
      ]
    },
    {
      "cell_type": "code",
      "source": [
        "type(a) is type(c)"
      ],
      "metadata": {
        "colab": {
          "base_uri": "https://localhost:8080/"
        },
        "id": "v8Nd6SqL7-Rl",
        "outputId": "ba8dd491-0981-4686-a7a4-c87599c24c0d"
      },
      "execution_count": 8,
      "outputs": [
        {
          "output_type": "execute_result",
          "data": {
            "text/plain": [
              "False"
            ]
          },
          "metadata": {},
          "execution_count": 8
        }
      ]
    },
    {
      "cell_type": "markdown",
      "source": [
        "Although `a` and `c` are the same number, the extra decimal at the end of the `5` makes it  `float` whereas a simple `5` is `int`."
      ],
      "metadata": {
        "id": "5XMwAhU78Bae"
      }
    },
    {
      "cell_type": "markdown",
      "source": [
        "#### Lists, Tuples and indexing\n",
        "\n",
        "Single varibales are useful, but it often arise a case where we need to store more than one varibales. `List` and `Tuples` allow us to do so.\n",
        "\n",
        "-----\n",
        "\n",
        "The difference to define a `tuple` and a `list` is the use of `[]` or `()`"
      ],
      "metadata": {
        "id": "5Mjm1BeS8MiX"
      }
    },
    {
      "cell_type": "code",
      "source": [
        "my_list = [1,2,3,4,5]\n",
        "my_tuple = (1,2,3,4,5)\n",
        "\n",
        "# we can access the items inside with the help of the index\n",
        "\n",
        "\n",
        "\n",
        "print(\"First element of the list is \", my_list[0])\n",
        "\n",
        "print(\"Last element of the tuple is \", my_tuple[-1])"
      ],
      "metadata": {
        "colab": {
          "base_uri": "https://localhost:8080/"
        },
        "id": "CNSnfijn8AHa",
        "outputId": "d8dd5e57-7ded-4f94-ade2-351c86802cff"
      },
      "execution_count": 9,
      "outputs": [
        {
          "output_type": "stream",
          "name": "stdout",
          "text": [
            "First element of the list is  1\n",
            "Last element of the tuple is  5\n"
          ]
        }
      ]
    },
    {
      "cell_type": "markdown",
      "source": [
        "We can also select a range of elements rather than just showing one by using\n",
        "`first_index:last_index+1`, Let's see an example:"
      ],
      "metadata": {
        "id": "k1Ytkp7m85H3"
      }
    },
    {
      "cell_type": "code",
      "source": [
        "print(\"First three elements of my list are\", my_list[0:3])\n",
        "\n",
        "print(\"Last four elements of my list are\", my_list[-4:])"
      ],
      "metadata": {
        "colab": {
          "base_uri": "https://localhost:8080/"
        },
        "id": "PAQdx4ce83Xp",
        "outputId": "a1a37df3-2f1f-4782-fdf0-6ac3444269ca"
      },
      "execution_count": 10,
      "outputs": [
        {
          "output_type": "stream",
          "name": "stdout",
          "text": [
            "First three elements of my list are [1, 2, 3]\n",
            "Last four elements of my list are [2, 3, 4, 5]\n"
          ]
        }
      ]
    },
    {
      "cell_type": "markdown",
      "source": [
        "#### List and Tuple types\n",
        "\n",
        "They can hold different types, making them very flexible"
      ],
      "metadata": {
        "id": "60QXYKZ09XYZ"
      }
    },
    {
      "cell_type": "code",
      "source": [
        "my_list_different_types=[100,True,75.4]\n",
        "print(\"First  elements type is \", type(my_list_different_types[0]))\n",
        "print(\"Second  elements type is \", type(my_list_different_types[1]))\n",
        "print(\"Third  elements type is \", type(my_list_different_types[2]))"
      ],
      "metadata": {
        "colab": {
          "base_uri": "https://localhost:8080/"
        },
        "id": "Z_eeu0U09SRj",
        "outputId": "1d85f75f-79af-415f-d7aa-6ef51ab853ec"
      },
      "execution_count": 11,
      "outputs": [
        {
          "output_type": "stream",
          "name": "stdout",
          "text": [
            "First  elements type is  <class 'int'>\n",
            "Second  elements type is  <class 'bool'>\n",
            "Third  elements type is  <class 'float'>\n"
          ]
        }
      ]
    },
    {
      "cell_type": "markdown",
      "source": [
        "#### Difference between Lists and Tuples\n",
        "\n",
        "List are mutable objects, that means you can modify a list object after it has been created.\n",
        "\n",
        "Tuples on the other hand are immutable objects, which means you can't modify a tuple object after it's been created."
      ],
      "metadata": {
        "id": "t9ug9iUd9lZ3"
      }
    },
    {
      "cell_type": "markdown",
      "source": [
        "#### Adding elements to an existing lists\n",
        "\n",
        "As lists are mutable, it is possible to modify their size using several commands as `append`, `insert` or `delete`"
      ],
      "metadata": {
        "id": "N76qw6oU91SO"
      }
    },
    {
      "cell_type": "code",
      "source": [
        "my_list=[1,2,3]\n",
        "my_list.append(5)\n",
        "print(my_list)\n",
        "my_list.insert(0,10) # First argument is the index to insert and the second argument is the value to be added\n",
        "print(my_list)\n",
        "my_list.remove(1) # ELement we want to remove\n",
        "print(my_list)"
      ],
      "metadata": {
        "colab": {
          "base_uri": "https://localhost:8080/"
        },
        "id": "PPtFv_Hq9h8R",
        "outputId": "5fd8e9e1-68bc-4083-9b0d-174d59d9f03b"
      },
      "execution_count": 12,
      "outputs": [
        {
          "output_type": "stream",
          "name": "stdout",
          "text": [
            "[1, 2, 3, 5]\n",
            "[10, 1, 2, 3, 5]\n",
            "[10, 2, 3, 5]\n"
          ]
        }
      ]
    },
    {
      "cell_type": "markdown",
      "source": [
        "#### Making copies of lists\n",
        "\n",
        "\n",
        "Since lists are passed by reference, if you make a assign copy and modify it, the original list will also change"
      ],
      "metadata": {
        "id": "fuM25Qr9-GOa"
      }
    },
    {
      "cell_type": "code",
      "source": [
        "my_list=[1,2,3]\n",
        "my_copy=my_list\n",
        "my_copy[0]=10\n",
        "print(my_copy)\n",
        "print(my_list)"
      ],
      "metadata": {
        "colab": {
          "base_uri": "https://localhost:8080/"
        },
        "id": "giGKxrQs-C8i",
        "outputId": "38633707-24f8-4ce2-dbc0-e07bb5b78234"
      },
      "execution_count": 13,
      "outputs": [
        {
          "output_type": "stream",
          "name": "stdout",
          "text": [
            "[10, 2, 3]\n",
            "[10, 2, 3]\n"
          ]
        }
      ]
    },
    {
      "cell_type": "markdown",
      "source": [
        "To avoid this, we need to make a deepcopy using the `copy` module"
      ],
      "metadata": {
        "id": "etiDo18x-TsU"
      }
    },
    {
      "cell_type": "code",
      "source": [
        "import copy\n",
        "my_list=[1,2,3]\n",
        "my_copy=copy.deepcopy(my_list)\n",
        "my_copy[0]=10\n",
        "print(my_copy)\n",
        "print(my_list)"
      ],
      "metadata": {
        "colab": {
          "base_uri": "https://localhost:8080/"
        },
        "id": "7iXpIiBK-RJ_",
        "outputId": "3475d336-0a7b-4164-8ff4-44b614ae3666"
      },
      "execution_count": 14,
      "outputs": [
        {
          "output_type": "stream",
          "name": "stdout",
          "text": [
            "[10, 2, 3]\n",
            "[1, 2, 3]\n"
          ]
        }
      ]
    },
    {
      "cell_type": "markdown",
      "source": [
        "#### Loops\n",
        "\n",
        "The `for` loop is one of the fundamental operation in programming. In the following example, the loop is over an array. Note that the code running inside the loop has an extra indentation level"
      ],
      "metadata": {
        "id": "FOaAXm-T-dIZ"
      }
    },
    {
      "cell_type": "code",
      "source": [
        "for i in range(10): \n",
        "    print(\"Loop number\", i)\n",
        "print(\"-------\")\n",
        "print(\"Note that it always starts at 0!!! and ends at 1 less than what's written\")"
      ],
      "metadata": {
        "colab": {
          "base_uri": "https://localhost:8080/"
        },
        "id": "K08bw3kT-cIo",
        "outputId": "e212c4d6-96cb-403c-e77a-b8d160fffc54"
      },
      "execution_count": 15,
      "outputs": [
        {
          "output_type": "stream",
          "name": "stdout",
          "text": [
            "Loop number 0\n",
            "Loop number 1\n",
            "Loop number 2\n",
            "Loop number 3\n",
            "Loop number 4\n",
            "Loop number 5\n",
            "Loop number 6\n",
            "Loop number 7\n",
            "Loop number 8\n",
            "Loop number 9\n",
            "-------\n",
            "Note that it always starts at 0!!! and ends at 1 less than what's written\n"
          ]
        }
      ]
    },
    {
      "cell_type": "markdown",
      "source": [
        "**Carefull!! The value of i (or whichever variable name you choose to loop) does not go out of scope and it will kepp its last value**"
      ],
      "metadata": {
        "id": "N8iP8_Fc-rAB"
      }
    },
    {
      "cell_type": "code",
      "source": [
        "i"
      ],
      "metadata": {
        "colab": {
          "base_uri": "https://localhost:8080/"
        },
        "id": "nq1xgzg9-m6y",
        "outputId": "ae8cbc3c-448e-41e2-a721-f630a63a5dd9"
      },
      "execution_count": 16,
      "outputs": [
        {
          "output_type": "execute_result",
          "data": {
            "text/plain": [
              "9"
            ]
          },
          "metadata": {},
          "execution_count": 16
        }
      ]
    },
    {
      "cell_type": "markdown",
      "source": [
        "You can also loop or use `enumerate` to loop over the list and index simulataneoulsy"
      ],
      "metadata": {
        "id": "XiWj-bvF-w8w"
      }
    },
    {
      "cell_type": "code",
      "source": [
        "for element in ['hello',1,True,1000]:\n",
        "  print(element)\n",
        "print(\"-----------------------\")\n",
        "for (index,element) in enumerate(['hello',1,True,1000]):\n",
        "  print(\"Element\", index, \"in list is : \",element)\n",
        "\n",
        "print(\"-------------\")"
      ],
      "metadata": {
        "colab": {
          "base_uri": "https://localhost:8080/"
        },
        "id": "1tyUMqHA-tmB",
        "outputId": "efaf8ff0-a2ab-4a7a-ed6b-a111179fee4e"
      },
      "execution_count": 17,
      "outputs": [
        {
          "output_type": "stream",
          "name": "stdout",
          "text": [
            "hello\n",
            "1\n",
            "True\n",
            "1000\n",
            "-----------------------\n",
            "Element 0 in list is :  hello\n",
            "Element 1 in list is :  1\n",
            "Element 2 in list is :  True\n",
            "Element 3 in list is :  1000\n",
            "-------------\n"
          ]
        }
      ]
    },
    {
      "cell_type": "markdown",
      "source": [
        "#### List Comprehension\n",
        "\n",
        "We can run a `for` loop in a single line and output the result into a list"
      ],
      "metadata": {
        "id": "oyXJ_0QR_Une"
      }
    },
    {
      "cell_type": "code",
      "source": [
        "my_list=[1,2,3,4,5]\n",
        "my_list_squared=[element**2 for element in my_list]\n",
        "print(my_list_squared)"
      ],
      "metadata": {
        "colab": {
          "base_uri": "https://localhost:8080/"
        },
        "id": "M17s1Gk-_OuD",
        "outputId": "39ae5e85-923c-47c3-81a2-8c62fb74605f"
      },
      "execution_count": 18,
      "outputs": [
        {
          "output_type": "stream",
          "name": "stdout",
          "text": [
            "[1, 4, 9, 16, 25]\n"
          ]
        }
      ]
    },
    {
      "cell_type": "markdown",
      "source": [
        "Same can be done with a longer code"
      ],
      "metadata": {
        "id": "-K7kwx9__dRI"
      }
    },
    {
      "cell_type": "code",
      "source": [
        "my_list=[1,2,3,4,5]\n",
        "my_list_squared=[]# initialize empty list\n",
        "\n",
        "for element in my_list: \n",
        "    my_list_squared.append(element**2)\n",
        "print(my_list_squared)"
      ],
      "metadata": {
        "colab": {
          "base_uri": "https://localhost:8080/"
        },
        "id": "qI_AfUYf_cJ0",
        "outputId": "727d085e-f035-41f7-8223-7a04b22128b0"
      },
      "execution_count": 19,
      "outputs": [
        {
          "output_type": "stream",
          "name": "stdout",
          "text": [
            "[1, 4, 9, 16, 25]\n"
          ]
        }
      ]
    },
    {
      "cell_type": "markdown",
      "source": [
        "#### Dictionaries\n",
        "\n",
        "A dictionary gives an extra layer of flexibility to lists and tuples, It introduces the concept of a `key` which allow to access specific fields"
      ],
      "metadata": {
        "id": "-Jm8TWm-_if-"
      }
    },
    {
      "cell_type": "code",
      "source": [
        "dictionary={\"first_key\": 10, \"second_key\":20}\n",
        "dictionary[\"first_key\"]"
      ],
      "metadata": {
        "colab": {
          "base_uri": "https://localhost:8080/"
        },
        "id": "kpwnvKuQ_hj3",
        "outputId": "44c025e4-0aca-438a-9850-d23e497b41ae"
      },
      "execution_count": 20,
      "outputs": [
        {
          "output_type": "execute_result",
          "data": {
            "text/plain": [
              "10"
            ]
          },
          "metadata": {},
          "execution_count": 20
        }
      ]
    },
    {
      "cell_type": "code",
      "source": [
        "my_stock_dictionary={'AAPL': \n",
        "                     {\"open\":100.1,\"high\":102.5 ,\"low\": 99.5,\"close\":101.0}, \n",
        "                     'MSFT':\n",
        "                     {\"open\": 55.5,\"high\": 65.5,\"low\": 50.0,\"close\":52.0}}"
      ],
      "metadata": {
        "id": "H_Pn2IsPBYte"
      },
      "execution_count": 21,
      "outputs": []
    },
    {
      "cell_type": "code",
      "source": [
        "print(my_stock_dictionary['AAPL'])\n",
        "print(\"AAPL open is :\",my_stock_dictionary['AAPL'][\"open\"])\n",
        "print(\"symbols in my dictionary are:\", my_stock_dictionary.keys())\n",
        "for symbol in my_stock_dictionary.keys():\n",
        "    print(symbol, \"high of the day is \",my_stock_dictionary[symbol][\"high\"])"
      ],
      "metadata": {
        "colab": {
          "base_uri": "https://localhost:8080/"
        },
        "id": "kYc-3Xp0Ba1e",
        "outputId": "a6c1791a-56a3-4290-9c4d-b8921769d019"
      },
      "execution_count": 22,
      "outputs": [
        {
          "output_type": "stream",
          "name": "stdout",
          "text": [
            "{'open': 100.1, 'high': 102.5, 'low': 99.5, 'close': 101.0}\n",
            "AAPL open is : 100.1\n",
            "symbols in my dictionary are: dict_keys(['AAPL', 'MSFT'])\n",
            "AAPL high of the day is  102.5\n",
            "MSFT high of the day is  65.5\n"
          ]
        }
      ]
    },
    {
      "cell_type": "markdown",
      "source": [
        "Dictionaries can hold complex data structures, yet have an intiuitive access route through keys"
      ],
      "metadata": {
        "id": "0rNS6gv8Bezu"
      }
    },
    {
      "cell_type": "code",
      "source": [
        "my_stock_dictionary={'AAPL': \n",
        "                     {\"underlying\":\n",
        "                     {\"open\":100.1,\"high\":102.5 ,\"low\": 99.5,\"close\":101.0},\n",
        "                     \"options\":\n",
        "                     {\"strike\": 100, \"option_type\": \"call\", \"price\": 1.5}}, \n",
        "                     'MSFT':\n",
        "                     {\"underlying\":\n",
        "                     {\"open\": 55.5,\"high\": 65.5,\"low\": 50.0,\"close\":52.0},\n",
        "                     \"options\":\n",
        "                     {\"strike\": 50, \"option_type\": \"put\", \"price\": 2.5}}} "
      ],
      "metadata": {
        "id": "PkxgDMozBdk7"
      },
      "execution_count": 23,
      "outputs": []
    },
    {
      "cell_type": "markdown",
      "source": [
        "**Dictionaries are closely related to the JSON format that is frequently used data format. Python makes very easy to ingest JSON as Dictionaries have a 1 to 1 mapping.**"
      ],
      "metadata": {
        "id": "BQ6LUxWKBpNu"
      }
    },
    {
      "cell_type": "code",
      "source": [
        "from collections import defaultdict\n",
        "symbol_data = defaultdict(lambda: {\"founded_year\": None, \"metadata\":[]})\n",
        "symbol_data[\"AAPL\"]={\"founded_year\": 1976, \"metadata\":[\"California, Los Altos\"]}\n",
        "print(symbol_data)\n",
        "symbol_data[\"MSFT\"]\n",
        "print(symbol_data)"
      ],
      "metadata": {
        "colab": {
          "base_uri": "https://localhost:8080/"
        },
        "id": "zyOXRg53Bm2W",
        "outputId": "caa9b247-f3ae-4b0e-fe1e-90645f6ea9ba"
      },
      "execution_count": 25,
      "outputs": [
        {
          "output_type": "stream",
          "name": "stdout",
          "text": [
            "defaultdict(<function <lambda> at 0x7fa2de69f050>, {'AAPL': {'founded_year': 1976, 'metadata': ['California, Los Altos']}})\n",
            "defaultdict(<function <lambda> at 0x7fa2de69f050>, {'AAPL': {'founded_year': 1976, 'metadata': ['California, Los Altos']}, 'MSFT': {'founded_year': None, 'metadata': []}})\n"
          ]
        }
      ]
    },
    {
      "cell_type": "markdown",
      "source": [
        "#### Conditional Expressions (If/Else Statements)\n",
        "\n",
        "\n",
        "As the name indicates, conditional expressions are used to check if a given variable satisfies a condition. Typical conditions are `>`,`<` ,`==` or `!=` greater, smaller, equal and not equal respectively"
      ],
      "metadata": {
        "id": "W85IWwX8B06g"
      }
    },
    {
      "cell_type": "code",
      "source": [
        "a=10\n",
        "if a>5:\n",
        "    print(\"variable a is greater than 5\")\n",
        "else:\n",
        "    print(\"variable a is smaller or equal than 5\")\n",
        "b=5\n",
        "if b>5:\n",
        "    print(\"variable b is greater than 5\")\n",
        "else:\n",
        "    print(\"variable b is smaller or equal than 5\")"
      ],
      "metadata": {
        "colab": {
          "base_uri": "https://localhost:8080/"
        },
        "id": "1N7fTChKBtk-",
        "outputId": "efcaebb6-de0f-46dd-94c3-09ed06a843fd"
      },
      "execution_count": 26,
      "outputs": [
        {
          "output_type": "stream",
          "name": "stdout",
          "text": [
            "variable a is greater than 5\n",
            "variable b is smaller or equal than 5\n"
          ]
        }
      ]
    },
    {
      "cell_type": "markdown",
      "source": [
        "**Tip If/Else statements can be written in a single line with the syntax x = true_value if condition else false_value (see below)**"
      ],
      "metadata": {
        "id": "bD9zJuHRCAPK"
      }
    },
    {
      "cell_type": "code",
      "source": [
        "a=10\n",
        "x=a/10 if a>5 else a\n",
        "print(x)\n",
        "b=5\n",
        "x=b/10 if b>5 else b\n",
        "print(x)"
      ],
      "metadata": {
        "colab": {
          "base_uri": "https://localhost:8080/"
        },
        "id": "pww5Zh5ZB-W0",
        "outputId": "95b693e7-0f36-4505-cb2a-f76bd425da36"
      },
      "execution_count": 27,
      "outputs": [
        {
          "output_type": "stream",
          "name": "stdout",
          "text": [
            "1.0\n",
            "5\n"
          ]
        }
      ]
    },
    {
      "cell_type": "markdown",
      "source": [
        "#### Functions and Docstrings\n",
        "\n",
        "\n",
        "Python allows to define functions, function take a number of input variables, then will perform a task and will return a number of output variables. The syntax is given below"
      ],
      "metadata": {
        "id": "b1iA24suCESg"
      }
    },
    {
      "cell_type": "code",
      "source": [
        "def my_function(x, y):\n",
        "    \"\"\"This function outputs the sum of two arguments\n",
        "    x: first argument\n",
        "    y: second argument\n",
        "    \n",
        "    output: sum of x an y\n",
        "    \"\"\"\n",
        "    return x+y"
      ],
      "metadata": {
        "id": "rpTAnH2BCDC8"
      },
      "execution_count": 28,
      "outputs": []
    },
    {
      "cell_type": "markdown",
      "source": [
        "**Note : It is important to describe what the function actually does inside the docstring in the \"\"\" quotes lines. This will make your code understandable to other peers**"
      ],
      "metadata": {
        "id": "UQLc-eRUCNSB"
      }
    },
    {
      "cell_type": "markdown",
      "source": [
        "-----------------\n",
        "\n",
        "Let's check the following formula :    \n",
        "$$\n",
        "\\sum_{i=1}^{n} i  = \\frac{n(n+1)}{2} $$"
      ],
      "metadata": {
        "id": "XYVDnCB0CSoC"
      }
    },
    {
      "cell_type": "code",
      "source": [
        "def sum_integ(n):\n",
        "  res = 0\n",
        "  for i in range(n):\n",
        "    res+= i\n",
        "  return res   \n",
        "\n",
        "\n",
        "# using list comprehension\n",
        "\n",
        "def sum_integ_list_comprehension(n):\n",
        "  return sum([i for i in range(1,n+1)])\n",
        "\n",
        "# and the theoretical formula\n",
        "\n",
        "de(n):\n",
        "  return n*(n+1)/2"
      ],
      "metadata": {
        "id": "H9D-p9bUCKqp"
      },
      "execution_count": 29,
      "outputs": []
    },
    {
      "cell_type": "code",
      "source": [
        "n = 10\n",
        "print(\"Sum:\", sum_integ(n))\n",
        "print(\"Sum List Compre:\", sum_integ_list_comprehension(n))\n",
        "print(\"Theoretical:\", sum_integ_formula(n))"
      ],
      "metadata": {
        "colab": {
          "base_uri": "https://localhost:8080/"
        },
        "id": "rk_ntM5yC3mT",
        "outputId": "648d17d0-9a82-4b97-f838-2992fc5aadb6"
      },
      "execution_count": 31,
      "outputs": [
        {
          "output_type": "stream",
          "name": "stdout",
          "text": [
            "Sum: 45\n",
            "Sum List Compre: 55\n",
            "Theoretical: 55.0\n"
          ]
        }
      ]
    },
    {
      "cell_type": "markdown",
      "source": [
        "A function can of course take several arguments, and can also take keyword arguments. While the former are compulsory, the latter do not need to be entered when calling the function."
      ],
      "metadata": {
        "id": "N9RAmwobC_xH"
      }
    },
    {
      "cell_type": "code",
      "source": [
        "def my_function(x, a=1, b=0):\n",
        "    return a*x+b\n",
        "#\n",
        "print(my_function(1))\n",
        "print(my_function(1, 2))\n",
        "print(my_function(1, 1, 2))\n",
        "print(my_function(1,b=2))"
      ],
      "metadata": {
        "colab": {
          "base_uri": "https://localhost:8080/"
        },
        "id": "k_UKaBCIC5QJ",
        "outputId": "9faef307-8cc4-4931-bcbc-f69e5f569983"
      },
      "execution_count": 32,
      "outputs": [
        {
          "output_type": "stream",
          "name": "stdout",
          "text": [
            "1\n",
            "2\n",
            "3\n",
            "3\n"
          ]
        }
      ]
    },
    {
      "cell_type": "markdown",
      "source": [
        "#### Measuring Execution Time\n",
        "\n",
        "Sometimes we might be interested in measuring execution of a function that can be written in multiple manners. `%timeit` gives precisely that functionality. Let's measure the execution time of the functions we wrote above"
      ],
      "metadata": {
        "id": "x3x5R0mMDEBj"
      }
    },
    {
      "cell_type": "code",
      "source": [
        "%timeit sum_integ(100)\n",
        "%timeit sum_integ(1000)"
      ],
      "metadata": {
        "colab": {
          "base_uri": "https://localhost:8080/"
        },
        "id": "98oGeiB3DBzb",
        "outputId": "7879a541-07c3-4d46-d2e3-642332902fa0"
      },
      "execution_count": 33,
      "outputs": [
        {
          "output_type": "stream",
          "name": "stdout",
          "text": [
            "4.98 µs ± 132 ns per loop (mean ± std. dev. of 7 runs, 100000 loops each)\n",
            "57.3 µs ± 1.29 µs per loop (mean ± std. dev. of 7 runs, 10000 loops each)\n"
          ]
        }
      ]
    },
    {
      "cell_type": "code",
      "source": [
        "%timeit sum_integ_list_comprehension(100)\n",
        "%timeit sum_integ_list_comprehension(1000)"
      ],
      "metadata": {
        "colab": {
          "base_uri": "https://localhost:8080/"
        },
        "id": "EaGvA-wgDLhb",
        "outputId": "1bfd73f4-549f-43b8-a961-b83c8cc2e041"
      },
      "execution_count": 34,
      "outputs": [
        {
          "output_type": "stream",
          "name": "stdout",
          "text": [
            "4.77 µs ± 63.7 ns per loop (mean ± std. dev. of 7 runs, 100000 loops each)\n",
            "47.1 µs ± 1.15 µs per loop (mean ± std. dev. of 7 runs, 10000 loops each)\n"
          ]
        }
      ]
    },
    {
      "cell_type": "markdown",
      "source": [
        "We can see that the list_comprehension approach is about $30%$ faster. One can also measure execution time using the time module as shown below"
      ],
      "metadata": {
        "id": "fl2AF9npDbph"
      }
    },
    {
      "cell_type": "code",
      "source": [
        "import time\n",
        "start=time.time()\n",
        "sum_integ(1000)\n",
        "end=time.time()\n",
        "print(\"Execution took\", end-start, \"seconds\")"
      ],
      "metadata": {
        "colab": {
          "base_uri": "https://localhost:8080/"
        },
        "id": "T29iyEBaDOtv",
        "outputId": "3db2a82a-ac2f-48f5-b081-4d89a898267b"
      },
      "execution_count": 36,
      "outputs": [
        {
          "output_type": "stream",
          "name": "stdout",
          "text": [
            "Execution took 0.00014209747314453125 seconds\n"
          ]
        }
      ]
    },
    {
      "cell_type": "code",
      "source": [
        "import time\n",
        "start=time.time()\n",
        "sum_integ(1000)\n",
        "end=time.time()\n",
        "print(\"Execution took\", end-start, \"seconds\")"
      ],
      "metadata": {
        "colab": {
          "base_uri": "https://localhost:8080/"
        },
        "id": "7fV4ZoX1DTiV",
        "outputId": "7fda39bc-72bf-42dc-c4e9-d2c8d2aef340"
      },
      "execution_count": 38,
      "outputs": [
        {
          "output_type": "stream",
          "name": "stdout",
          "text": [
            "Execution took 0.00020623207092285156 seconds\n"
          ]
        }
      ]
    },
    {
      "cell_type": "code",
      "source": [
        "import time\n",
        "start=time.time()\n",
        "sum_integ_formula(1000)\n",
        "end=time.time()\n",
        "print(\"Execution took\", end-start, \"seconds\")"
      ],
      "metadata": {
        "colab": {
          "base_uri": "https://localhost:8080/"
        },
        "id": "OinbagbXDkXD",
        "outputId": "bb713dc5-667a-40e6-e406-abc45d4ac120"
      },
      "execution_count": 39,
      "outputs": [
        {
          "output_type": "stream",
          "name": "stdout",
          "text": [
            "Execution took 8.130073547363281e-05 seconds\n"
          ]
        }
      ]
    },
    {
      "cell_type": "markdown",
      "source": [
        "#### Exceptions an errors (Try/Except)\n",
        "When running a complex piece code it is likely that sometimes our code may fall into an error. For instance"
      ],
      "metadata": {
        "id": "2DV416FWDza3"
      }
    },
    {
      "cell_type": "code",
      "source": [
        "1/0"
      ],
      "metadata": {
        "colab": {
          "base_uri": "https://localhost:8080/",
          "height": 165
        },
        "id": "cIi6xxtqDvGS",
        "outputId": "712ef7e5-c571-4790-e308-7c62a4926ab3"
      },
      "execution_count": 40,
      "outputs": [
        {
          "output_type": "error",
          "ename": "ZeroDivisionError",
          "evalue": "ignored",
          "traceback": [
            "\u001b[0;31m---------------------------------------------------------------------------\u001b[0m",
            "\u001b[0;31mZeroDivisionError\u001b[0m                         Traceback (most recent call last)",
            "\u001b[0;32m<ipython-input-40-9e1622b385b6>\u001b[0m in \u001b[0;36m<module>\u001b[0;34m\u001b[0m\n\u001b[0;32m----> 1\u001b[0;31m \u001b[0;36m1\u001b[0m\u001b[0;34m/\u001b[0m\u001b[0;36m0\u001b[0m\u001b[0;34m\u001b[0m\u001b[0;34m\u001b[0m\u001b[0m\n\u001b[0m",
            "\u001b[0;31mZeroDivisionError\u001b[0m: division by zero"
          ]
        }
      ]
    },
    {
      "cell_type": "markdown",
      "source": [
        "The nature of the error is useful, but sometimes we don't want the programm to stop and would rather just skip this kind of error. This is the use for try/except"
      ],
      "metadata": {
        "id": "uPjmuwEQD4Ui"
      }
    },
    {
      "cell_type": "code",
      "source": [
        "for i in range(10):\n",
        "    try:\n",
        "        print(1.0/i)\n",
        "    except Exception as E:\n",
        "        print(\"Error detected and index\", i,\":\",E,\"| execution continues\")\n",
        "        pass"
      ],
      "metadata": {
        "colab": {
          "base_uri": "https://localhost:8080/"
        },
        "id": "rnYZFKAWD1t_",
        "outputId": "329629bf-f89e-4ca0-9d34-6bbac0da467b"
      },
      "execution_count": 41,
      "outputs": [
        {
          "output_type": "stream",
          "name": "stdout",
          "text": [
            "Error detected and index 0 : float division by zero | execution continues\n",
            "1.0\n",
            "0.5\n",
            "0.3333333333333333\n",
            "0.25\n",
            "0.2\n",
            "0.16666666666666666\n",
            "0.14285714285714285\n",
            "0.125\n",
            "0.1111111111111111\n"
          ]
        }
      ]
    },
    {
      "cell_type": "markdown",
      "source": [
        "This is very useful as one can record the error message but the code will keep running"
      ],
      "metadata": {
        "id": "MKz7Z_tOECVH"
      }
    },
    {
      "cell_type": "code",
      "source": [],
      "metadata": {
        "id": "nHPAlm8ED_bs"
      },
      "execution_count": null,
      "outputs": []
    }
  ]
}