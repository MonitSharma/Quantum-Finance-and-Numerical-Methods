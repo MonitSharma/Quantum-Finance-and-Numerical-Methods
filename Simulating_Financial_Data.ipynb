{
  "nbformat": 4,
  "nbformat_minor": 0,
  "metadata": {
    "colab": {
      "provenance": [],
      "authorship_tag": "ABX9TyMcMetnCiGIxLzD6cmWM7gw",
      "include_colab_link": true
    },
    "kernelspec": {
      "name": "python3",
      "display_name": "Python 3"
    },
    "language_info": {
      "name": "python"
    }
  },
  "cells": [
    {
      "cell_type": "markdown",
      "metadata": {
        "id": "view-in-github",
        "colab_type": "text"
      },
      "source": [
        "<a href=\"https://colab.research.google.com/github/MonitSharma/Quantum-Finance-and-Numerical-Methods/blob/main/Simulating_Financial_Data.ipynb\" target=\"_parent\"><img src=\"https://colab.research.google.com/assets/colab-badge.svg\" alt=\"Open In Colab\"/></a>"
      ]
    },
    {
      "cell_type": "code",
      "execution_count": 2,
      "metadata": {
        "id": "ioQhYV4rKpS0"
      },
      "outputs": [],
      "source": [
        "%matplotlib inline\n",
        "import matplotlib.pyplot as plt\n",
        "import numpy as np\n"
      ]
    },
    {
      "cell_type": "markdown",
      "source": [
        "\n",
        "# Introduction\n",
        "\n",
        "A **Random Number Generator**  is a device that generates numbers or symbols that cannot be reasonably predicted better than by a random chance.\n",
        "\n",
        "They can be true **Hardware random number generators** , generating genuinely random numbers, or pseudorandom number generators. The former are fundamentalyy more accuate, but are harder to build: examples thereof are based on microscopic phenomena such as thermal moise, or quantum physics. The latter are algorithms generating numbers whose properties approximate those of truly random numbers."
      ],
      "metadata": {
        "id": "kXecozB2K21q"
      }
    },
    {
      "cell_type": "markdown",
      "source": [
        "## Coint Tosses\n"
      ],
      "metadata": {
        "id": "23fe59bRMqRr"
      }
    },
    {
      "cell_type": "code",
      "source": [
        "import random"
      ],
      "metadata": {
        "id": "dCPnC2zjK1aB"
      },
      "execution_count": 3,
      "outputs": []
    },
    {
      "cell_type": "code",
      "source": [
        "random.randint(0, 1)"
      ],
      "metadata": {
        "colab": {
          "base_uri": "https://localhost:8080/"
        },
        "id": "TXvdi3xqMt64",
        "outputId": "9f42d618-b5f9-4b95-d860-969ff158ad8e"
      },
      "execution_count": 4,
      "outputs": [
        {
          "output_type": "execute_result",
          "data": {
            "text/plain": [
              "1"
            ]
          },
          "metadata": {},
          "execution_count": 4
        }
      ]
    },
    {
      "cell_type": "code",
      "source": [
        "[random.randint(0, 1) for _ in range(10)]"
      ],
      "metadata": {
        "colab": {
          "base_uri": "https://localhost:8080/"
        },
        "id": "UQ678rO2MvbZ",
        "outputId": "5f6bce82-33b6-47f5-f224-39e826505469"
      },
      "execution_count": 5,
      "outputs": [
        {
          "output_type": "execute_result",
          "data": {
            "text/plain": [
              "[0, 0, 1, 1, 1, 0, 0, 0, 1, 0]"
            ]
          },
          "metadata": {},
          "execution_count": 5
        }
      ]
    },
    {
      "cell_type": "code",
      "source": [
        "n = 1000\n",
        "random_data = np.array([random.randint(0, 1) for _ in range(n)])\n",
        "plt.plot(range(n), random_data, '.')\n",
        "plt.show()\n",
        "print(\"Number of zeros:\", n-np.sum(random_data))\n",
        "print(\"Number of ones:\", np.sum(random_data))"
      ],
      "metadata": {
        "colab": {
          "base_uri": "https://localhost:8080/",
          "height": 300
        },
        "id": "fS8W3QA_MxVF",
        "outputId": "600e4ba7-4241-4863-8429-674162acf295"
      },
      "execution_count": 6,
      "outputs": [
        {
          "output_type": "display_data",
          "data": {
            "text/plain": [
              "<Figure size 432x288 with 1 Axes>"
            ],
            "image/png": "[encoded data removed]"
          },
          "metadata": {
            "needs_background": "light"
          }
        },
        {
          "output_type": "stream",
          "name": "stdout",
          "text": [
            "Number of zeros: 486\n",
            "Number of ones: 514\n"
          ]
        }
      ]
    },
    {
      "cell_type": "markdown",
      "source": [
        "## The Uniform Random Variable"
      ],
      "metadata": {
        "id": "8Ty7A80oz_pA"
      }
    },
    {
      "cell_type": "code",
      "source": [
        "import scipy.stats"
      ],
      "metadata": {
        "id": "OquH8zJ9Mzs3"
      },
      "execution_count": 7,
      "outputs": []
    },
    {
      "cell_type": "code",
      "source": [
        "xx = np.linspace(scipy.stats.uniform.ppf(0.01),scipy.stats.uniform.ppf(0.99), 100)\n"
      ],
      "metadata": {
        "id": "AFBRWvae0DlF"
      },
      "execution_count": 8,
      "outputs": []
    },
    {
      "cell_type": "code",
      "source": [
        "plt.plot(xx, scipy.stats.uniform.pdf(xx), 'k-', lw=2, label='pdf')\n",
        "plt.title(\"Probability density function of $\\mathcal{U}_{[0,1]}$\")\n",
        "plt.show()"
      ],
      "metadata": {
        "colab": {
          "base_uri": "https://localhost:8080/",
          "height": 283
        },
        "id": "2zjzeyoO0M0v",
        "outputId": "840c191f-e070-465b-b824-bb40aff3c27f"
      },
      "execution_count": 9,
      "outputs": [
        {
          "output_type": "display_data",
          "data": {
            "text/plain": [
              "<Figure size 432x288 with 1 Axes>"
            ],
            "image/png": "[encoded data removed]"
          },
          "metadata": {
            "needs_background": "light"
          }
        }
      ]
    },
    {
      "cell_type": "markdown",
      "source": [
        "If $X \\sim \\mathcal{U}_{[a, b]}$ , then \n",
        "\n",
        "$$ \\mathbb{E}[X] = \\frac{a+b}{2}\n",
        "\\qquad\\text{and}\\qquad\n",
        "\\mathbb{V}[X] = \\frac{(b-a)^2}{12}$$ "
      ],
      "metadata": {
        "id": "yhDwLvrX0ZLD"
      }
    },
    {
      "cell_type": "code",
      "source": [
        "np.random.uniform()"
      ],
      "metadata": {
        "colab": {
          "base_uri": "https://localhost:8080/"
        },
        "id": "lXHyaFVl0Ws3",
        "outputId": "5b82cf4c-c7b9-40dc-b10b-490891cd0d09"
      },
      "execution_count": 10,
      "outputs": [
        {
          "output_type": "execute_result",
          "data": {
            "text/plain": [
              "0.5293871452904045"
            ]
          },
          "metadata": {},
          "execution_count": 10
        }
      ]
    },
    {
      "cell_type": "markdown",
      "source": [
        "Let's generate some more of these"
      ],
      "metadata": {
        "id": "rlooyRmz0sxA"
      }
    },
    {
      "cell_type": "code",
      "source": [
        "variates = np.random.uniform(size=1000)\n",
        "plt.hist(variates, density=True, histtype='stepfilled', alpha=0.2, label='Empirical histogram')\n",
        "plt.plot(xx, scipy.stats.uniform.pdf(xx), 'k-', lw=2, label='pdf')\n",
        "plt.legend()"
      ],
      "metadata": {
        "colab": {
          "base_uri": "https://localhost:8080/",
          "height": 282
        },
        "id": "OvCP3UzV0rWx",
        "outputId": "9a9cc199-6b88-47db-a193-3a3dba997004"
      },
      "execution_count": 11,
      "outputs": [
        {
          "output_type": "execute_result",
          "data": {
            "text/plain": [
              "<matplotlib.legend.Legend at 0x7f5cc43158d0>"
            ]
          },
          "metadata": {},
          "execution_count": 11
        },
        {
          "output_type": "display_data",
          "data": {
            "text/plain": [
              "<Figure size 432x288 with 1 Axes>"
            ],
            "image/png": "[encoded data removed]"
          },
          "metadata": {
            "needs_background": "light"
          }
        }
      ]
    },
    {
      "cell_type": "markdown",
      "source": [
        "## Random Seed\n",
        "One issue working with pseudorandom data is the lack of **reproducibility**. When computing the random variates, we obtain different sequences.\n",
        "\n",
        "--------------\n",
        "\n",
        "Even though they should have similar statistical properties, the difference may be enough to 'break' the results.\n",
        "\n",
        "---------------\n",
        "\n",
        "\n",
        "Example: a neural network, with weights and biases initialised to pseudorandom numbers, may calibrate well for some pseudorandom sequences and fail to calibrate for others.\n",
        "\n",
        "In fact, pseudorandom sequences are (complex but deterministic) functions of the random seed, usually initialised using the system's clock."
      ],
      "metadata": {
        "id": "5UZmcZ8e2CSA"
      }
    },
    {
      "cell_type": "code",
      "source": [
        "random.seed(135)"
      ],
      "metadata": {
        "id": "tJghZ_Ot025k"
      },
      "execution_count": 12,
      "outputs": []
    },
    {
      "cell_type": "markdown",
      "source": [
        "### Example:"
      ],
      "metadata": {
        "id": "1hertJwU2Xk4"
      }
    },
    {
      "cell_type": "code",
      "source": [
        "np.random.uniform(135)\n",
        "np.random.uniform(size=10)"
      ],
      "metadata": {
        "colab": {
          "base_uri": "https://localhost:8080/"
        },
        "id": "VROt2ZDA2W1X",
        "outputId": "2aa32789-263f-42ca-955d-f192b06a5a79"
      },
      "execution_count": 13,
      "outputs": [
        {
          "output_type": "execute_result",
          "data": {
            "text/plain": [
              "array([0.86596981, 0.05134063, 0.83409945, 0.21028226, 0.49015574,\n",
              "       0.19387955, 0.23201622, 0.65713755, 0.15447041, 0.93815021])"
            ]
          },
          "metadata": {},
          "execution_count": 13
        }
      ]
    },
    {
      "cell_type": "markdown",
      "source": [
        "## Normal (Gaussian) Random Variates\n",
        "\n",
        "The Gaussian distribution, because of the **Central Limit Theorem (CLT)** is ubiquitous especially in Finance,\n",
        "\n",
        "If $X\\sim\\mathcal{N}((\\mu, \\sigma^2)$ , then \n",
        "$$\n",
        "\\mathbb{E}[X] = \\mu\n",
        "\\qquad\\text{and}\\qquad\n",
        "\\mathbb{V}[X] = \\sigma^2.$$\n",
        "\n",
        "\n",
        "-----------------\n",
        "\n",
        "\n",
        "We'll now try to plot the following PDFs\n",
        "$$\n",
        "1. $\\text{Normal}(\\mu = 0, \\sigma^2=0.2)$\n",
        "2. $\\text{Normal}(\\mu = 0, \\sigma^2=1)$\n",
        "3. $\\text{Normal}(\\mu = 0, \\sigma^2=5)$\n",
        "4. $\\text{Normal}(\\mu = -2, \\sigma^2=0.5)$"
      ],
      "metadata": {
        "id": "7GhFnZ_n2hSC"
      }
    },
    {
      "cell_type": "code",
      "source": [
        "xx = np.linspace(-10., 10., 1000)\n",
        "X = scipy.stats.norm(loc=0., scale=np.sqrt(.2))\n",
        "plt.plot(xx, X.pdf(xx), '-', lw=2, label='$\\mu=0, \\sigma^2=0.2$')\n",
        "X = scipy.stats.norm(loc=0., scale=np.sqrt(1.))\n",
        "plt.plot(xx, X.pdf(xx), '-', lw=2, label='$\\mu=0, \\sigma^2=1$')\n",
        "X = scipy.stats.norm(loc=0., scale=np.sqrt(5.))\n",
        "plt.plot(xx, X.pdf(xx), '-', lw=2, label='$\\mu=0, \\sigma^2=5$')\n",
        "X = scipy.stats.norm(loc=-2., scale=np.sqrt(.5))\n",
        "plt.plot(xx, X.pdf(xx), '-', lw=2, label='$\\mu=-2, \\sigma^2=0.5$')\n",
        "plt.legend(loc=\"best\")\n",
        "plt.show()"
      ],
      "metadata": {
        "colab": {
          "base_uri": "https://localhost:8080/",
          "height": 265
        },
        "id": "g0Y3l4hb2eiM",
        "outputId": "5ea3eb5b-2e8d-4e32-a5d5-eef95805e131"
      },
      "execution_count": 14,
      "outputs": [
        {
          "output_type": "display_data",
          "data": {
            "text/plain": [
              "<Figure size 432x288 with 1 Axes>"
            ],
            "image/png": "[encoded data removed]"
          },
          "metadata": {
            "needs_background": "light"
          }
        }
      ]
    },
    {
      "cell_type": "markdown",
      "source": [
        "## Lindeberg–Lévy Central Limit Theorem\n",
        "\n",
        "Let $\\{X_1, \\ldots, X_n\\}$ be a sequence of random variables with $\\mathbb{E}[X_i] = \\mu$ and $\\mathbb{V}[X_i] = \\sigma^2 < \\infty$ and \n",
        "\n",
        "$$ S_n := \\frac{X_1 + \\ldots + X_n}{n}. $$\n",
        "\n",
        "**Law of Large Numbers**: $$ \\frac{\\sqrt{n}}{\\sigma}(S_n - \\mu) \\overset{distribution}{\\longrightarrow} \\mathcal{N}(0, 1). $$\n",
        "\n",
        "\n"
      ],
      "metadata": {
        "id": "jyTByq1b4iz_"
      }
    },
    {
      "cell_type": "markdown",
      "source": [
        "### The Box-Muller Transform\n",
        "\n",
        "Suppose $U_1$ and $U_2$ are independent samples chosen from the uniform distribution on the unit interval $[0.1]$. Let \n",
        "\n",
        "$$ Z_0 = R \\cos(\\Theta) = \\sqrt{-2\\ln U_1}\\cos(2\\pi U_2),$$\n",
        "\n",
        "$$ Z_1 = R \\sin(\\Theta) = \\sqrt{-2\\ln U_1}\\sin(2\\pi U_2). $$\n",
        "\n",
        "Then $Z_0$ and $Z_1$ are independent random variables with a standard normal distribution."
      ],
      "metadata": {
        "id": "y1flc8NKzuNg"
      }
    },
    {
      "cell_type": "markdown",
      "source": [
        "### The Cholesky decomposition\n",
        "\n",
        "The Cholesky decomposition of a symmetric positive-definite matrix $A$ is a decomposition of the form \n",
        "$$ A = LL^{T}$$\n",
        "\n",
        "where $L$ is alower triangular matrix.\n",
        "\n",
        "\n",
        "This can be implemented with `numpy.linalg.cholesky`\n",
        "\n"
      ],
      "metadata": {
        "id": "YkPP-YpG0KIl"
      }
    },
    {
      "cell_type": "markdown",
      "source": [
        "#### Exercise \n",
        "Generate $10,000$ two-dimensional random vectors with the covariance matrix:\n",
        "\n",
        "$$ \\begin{pmatrix} 25 & -7.5 \\\\ -7.5 & 9 \\end{pmatrix}. $$\n",
        "\n"
      ],
      "metadata": {
        "id": "tWOWV31q0xT7"
      }
    },
    {
      "cell_type": "code",
      "source": [
        "variates = np.random.multivariate_normal(\n",
        "    mean=[0, 0],\n",
        "    cov=[[25., -7.5], [-7.5, 9.]],\n",
        "    size=10000)"
      ],
      "metadata": {
        "id": "QgXoKuL44dYa"
      },
      "execution_count": 15,
      "outputs": []
    },
    {
      "cell_type": "code",
      "source": [
        "print(\"Shape: \", np.shape(variates))\n",
        "print(\"Covariance matrix: \", np.cov(variates.T))"
      ],
      "metadata": {
        "colab": {
          "base_uri": "https://localhost:8080/"
        },
        "id": "_uBmFeXB0q5k",
        "outputId": "55a051a1-006d-4df3-ea95-a0ff7be9a95b"
      },
      "execution_count": 16,
      "outputs": [
        {
          "output_type": "stream",
          "name": "stdout",
          "text": [
            "Shape:  (10000, 2)\n",
            "Covariance matrix:  [[24.76069931 -7.37877434]\n",
            " [-7.37877434  8.88007443]]\n"
          ]
        }
      ]
    },
    {
      "cell_type": "markdown",
      "source": [
        "## Random Walk\n",
        "For $n \\in \\mathbb{N}^*$ , let \n",
        "\n",
        "$$ \\begin{equation*}\n",
        "X_n = \\left\\{\n",
        "        \\begin{array}{ll}\n",
        "          +1, & \\hbox{with probability $\\frac{1}{2}$,} \\\\\n",
        "          -1, & \\hbox{with probability $\\frac{1}{2}$,}\n",
        "        \\end{array}\n",
        "      \\right.\n",
        "\\end{equation*} $$\n",
        "\n",
        "thus each $X_n$ is a bernoulli random variable.\n",
        "\n",
        "-------\n",
        "\n",
        "Let $Y_0 -  0$ and for $ n \\in \\mathbb{N}^*$ , let\n",
        "\n",
        "$$ \\begin{equation*}\n",
        "Y_n := \\sum_{i=1}^n X_i.\n",
        "\\end{equation*} $$\n",
        "\n",
        "\n",
        "The process $(Y_n)_{n\\geq 0}$ is a **symmetric random walk**\n",
        "\n",
        "\n",
        "\n",
        "For each choice of nonnegative integers $0 = i_0 < i_1 < \\ldots < i_m, m \\in \\mathbb{N}^*$, the increments\n",
        "\n",
        "$$ \\begin{equation*}\n",
        "Y_{i_{j+1}} - Y_{i_j} = \\sum_{i = i_j + 1}^{i_{j+1}} X_i,\n",
        "\\end{equation*} $$\n",
        "\n",
        "for $ j \\in \\{0, 1, \\ldots, m - 1\\} $, are independent variables, and note that\n",
        "\n",
        "\n",
        "$$ \\begin{align*}\n",
        "\\mathbb{E}[Y_{i_{j+1}} - Y_{i_j}] & = \\mathbb{E}\\left[\\sum_{i = i_j + 1}^{i_{j+1}} X_i\\right] = \\sum_{i = i_j + 1}^{i_{j+1}} \\mathbb{E}[X_i] = \\sum_{i = i_j + 1}^{i_{j+1}} 0 = 0,\\\\\n",
        "\\mathbb{V}[Y_{i_{j+1}} - Y_{i_j}] & = \\mathbb{V}\\left[\\sum_{i = i_j + 1}^{i_{j+1}} X_i\\right] = \\sum_{i = i_j + 1}^{i_{j+1}} \\mathbb{V}[X_i] = \\sum_{i = i_j + 1}^{i_{j+1}} 1 = i_{j+1} - i_j.\n",
        "\\end{align*}$$\n",
        "\n",
        "\n",
        "\n",
        "-----------------\n",
        "\n",
        "Furthermore , for each $n \\in \\mathbb{N}^0$, \n",
        "\n",
        "$$ \\begin{equation*}\n",
        "\\mathbb{E}[Y_n] = 0, \\quad \\mathbb{V}[Y_n] = n.\n",
        "\\end{equation*}$$ \n",
        "\n",
        "For a given $N \\in \\mathbb{N}^*$ define the scaled symmetric random walk:\n",
        "\n",
        "$$ \\begin{equation*}\n",
        "Z_t^{(N)} := \\frac{1}{\\sqrt{N}} Y_{Nt}\n",
        "\\end{equation*} $$\n",
        "\n",
        "for all $t \\in \\left\\{0, \\frac{1}{N}, \\frac{2}{N}, \\ldots, \\frac{N}{N}, \\frac{N+1}{N}, \\ldots\\right\\} =: T^{(N)}$ i,e such that $t$ that maked $Nt$ a non-negative intger, ensuring that $Y_{Nt}$ is well defined.\n",
        "\n",
        "\n",
        "--------------\n",
        "\n",
        "\n",
        "For this process for $s, t \\in T^{(N)}$\n",
        "\n",
        "$$ \\begin{equation*}\n",
        "\\mathbb{E}[Z_t^{(N)} - Z_s^{(N)}] = 0, \\quad \\mathbb{V}\\left[Z_t^{(N)} - Z_s^{(N)}\\right] = t - s,\n",
        "\\end{equation*} $$\n",
        "\n",
        "and \n",
        "\n",
        "$$ \\begin{equation*}\n",
        "\\mathbb{E}[Z_t^{(N)}] = 0, \\quad \\mathbb{V}\\left[Z_t^{(N)}\\right] = t.\n",
        "\\end{equation*} $$\n",
        "\n"
      ],
      "metadata": {
        "id": "bXafh84Q1Fxp"
      }
    },
    {
      "cell_type": "markdown",
      "source": [
        "## Time Interpolation\n",
        "\n",
        "We can turn the discrete-time process $Z^{N}$ into a continuous-time stochastic process by linear interpolation: for $ t \\in [0, +\\infty) $, define\n",
        "\n",
        "$$ \\hat{W}_t^{(N)} := Z_{\\frac{n}{N}}^{(N)} + \\left(t - \\frac{n}{N}\\right) \\left[Z_{\\frac{n+1}{N}}^{(N)} - Z_{\\frac{n}{N}}^{(N)}\\right], $$\n",
        "\n",
        "where $n \\in \\mathbb{N}^0$, such that $\\frac{n}{N} \\leq t < \\frac{n+1}{N}$\n",
        "\n",
        "\n"
      ],
      "metadata": {
        "id": "4vcI1jBW4HQ5"
      }
    }
  ]
}