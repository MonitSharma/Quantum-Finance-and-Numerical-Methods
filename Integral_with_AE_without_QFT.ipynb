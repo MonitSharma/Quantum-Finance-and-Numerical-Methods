{
  "nbformat": 4,
  "nbformat_minor": 0,
  "metadata": {
    "colab": {
      "provenance": [],
      "authorship_tag": "ABX9TyP0EPvOHW6kvW0ZpAIEAfgv",
      "include_colab_link": true
    },
    "kernelspec": {
      "name": "python3",
      "display_name": "Python 3"
    },
    "language_info": {
      "name": "python"
    }
  },
  "cells": [
    {
      "cell_type": "markdown",
      "metadata": {
        "id": "view-in-github",
        "colab_type": "text"
      },
      "source": [
        "<a href=\"https://colab.research.google.com/github/MonitSharma/Quantum-Finance-and-Numerical-Methods/blob/main/Integral_with_AE_without_QFT.ipynb\" target=\"_parent\"><img src=\"https://colab.research.google.com/assets/colab-badge.svg\" alt=\"Open In Colab\"/></a>"
      ]
    },
    {
      "cell_type": "markdown",
      "source": [
        "## Amplitude Estimation without Quantum Fourier Transform and Controlled Grover Operators\n",
        "\n",
        "It's based on the paper [Amplitude Estimation without Phase Estimation](https://arxiv.org/abs/1904.10246)\n",
        "\n"
      ],
      "metadata": {
        "id": "QSiKR8Tgbl8_"
      }
    },
    {
      "cell_type": "markdown",
      "source": [
        "This notebook will have experiments for performing the amplitude estimation without the inverse Quantum Fourier Transform (QFT) and controlled $\\mathcal{Q}$ operator (the grover operator) . \n",
        "\n",
        "----\n",
        "\n",
        "It is known that without QFT and sich controlled operators, the number of two-qubit gates required for running amplitude estimation can be reduced and hence may be more appropriate to run quantum algorithm on NISQ devices."
      ],
      "metadata": {
        "id": "s4Flv5Lmb4sR"
      }
    },
    {
      "cell_type": "markdown",
      "source": [
        "## Introduction\n",
        "\n",
        "We consider applying amplitude estimation, one of the most popular quantum algorithms for Monte Carlo integration, a problem which is essential for financial applications. The purpose of Monte Carlo integration is to compute the expected value of a real-valued function $f$. Here, for simplicity we assume $f$ takes an $n $ bit input $x \\in \\{0,1\\}^n$ and $ 0 \\le f(x) \\le 1 $ and the probability of $f(x)$ is $p(x)$. Then the expected valye is:\n",
        "\n",
        "$$ \\mathbb{E}[f(x)] = \\sum_{x=0}^{2^n-1} p(x) f(x) $$\n",
        "\n",
        "To compute the Monte Carlo integration of $f$, let us assume that the quantum circuits $\\mathcal{P}$ and $\\mathcal{R}$, that performs the following transformation, are given\n",
        "\n",
        "$$ \\begin{eqnarray}\n",
        "\\mathcal{P} \\left|0\\right>_n &=& \\sum_{x} \\sqrt{p(x)} \\left|x\\right>_n\\\\\n",
        "\\mathcal{R} \\left|x\\right>_n\\left|0\\right> &=& \\left|x\\right>_n \\left( \\sqrt{f(x)} \\left|1\\right> + \\sqrt{1-f(x)} \\left|0\\right>\\right) \n",
        "\\end{eqnarray} $$\n",
        "\n",
        "\n",
        "The former is for creating probability distribution $p(.)$ and later for computing $f(.)$"
      ],
      "metadata": {
        "id": "T88Am1sbcgEY"
      }
    },
    {
      "cell_type": "markdown",
      "source": [
        "## Integral of sine function\n",
        "\n",
        "We consider the following intgeral\n",
        "\n",
        "$$ \\mathcal{I} = \\frac{1}{b_\\mbox{max}}\\int_{0}^{b_\\mbox{max}} \\sin^2{x}~dx, $$\n",
        "\n",
        "which is approximated with the following summation\n",
        "\n",
        "$$ \\mathcal{S} = \\sum_{x=0}^{2^n-1} \\frac{1}{2^n} \\sin^2{\\left(  \\frac{\\left(x+1/2\\right)b_{\\mbox{max}}}{2^n}  \\right)}. $$\n",
        "\n",
        "\n",
        "----\n",
        "\n",
        "This means, the quantum circuits $\\mathcal{P}$ and $\\mathcal{R}$ are\n",
        "\n",
        "$$ \\begin{eqnarray}\n",
        "\\mathcal{P} \\left|0\\right>_n \\left|0\\right> &=& \\frac{1}{\\sqrt{2^n}} \\sum_{x} \\left|x\\right>_n \\left|0\\right>\\\\\n",
        "\\mathcal{R} \\left|x\\right>_n\\left|0\\right> &=& \\left|x\\right>_n \\left(    \\sin{\\left(  \\frac{\\left(x+1/2\\right)b_{\\mbox{max}}}{2^n}  \\right)} \\left|1\\right> +   \\cos{\\left(  \\frac{\\left(x+1/2\\right)b_{\\mbox{max}}}{2^n}  \\right)} \\left|0\\right>\\right).\n",
        "\\end{eqnarray}$$\n",
        "\n",
        "\n",
        "\n",
        "$\\mathcal{P}$ can be realized with hadamard gates, and $\\mathcal{R}$ with controlled $Y$ rotation gates."
      ],
      "metadata": {
        "id": "ZNAPlwoDfr2X"
      }
    },
    {
      "cell_type": "markdown",
      "source": [
        "## Approximating the intgeral\n",
        "\n",
        "It is easy to see that as we use large $n$ (more qubits) and thus, larger $b_{max}$ we can approximate the integral better."
      ],
      "metadata": {
        "id": "A7h_7VSWgXPV"
      }
    },
    {
      "cell_type": "code",
      "execution_count": 19,
      "metadata": {
        "colab": {
          "base_uri": "https://localhost:8080/"
        },
        "id": "xTJxkQY_aoxZ",
        "outputId": "5fdf9e7e-5df2-4b3d-fa95-d1a96928e6c1"
      },
      "outputs": [
        {
          "output_type": "stream",
          "name": "stdout",
          "text": [
            "Analytical Result: 0.12158663567967151\n",
            "Discretized Result: 0.12158661193451378\n"
          ]
        }
      ],
      "source": [
        "import math\n",
        "\n",
        "b_max = math.pi / 5  # upper limit of integral\n",
        "nbit = 10  # change this value to get discretized result closer to analytical results\n",
        "\n",
        "analyticResult = (b_max / 2.0 - math.sin(2 * b_max) / 4.0 ) / b_max  # the target integral can be analytically solved\n",
        "print(\"Analytical Result:\", analyticResult)\n",
        "\n",
        "ndiv = 2**nbit  #number of discretization \n",
        "discretizedResult = 0.0\n",
        "for i in range(ndiv):\n",
        "    discretizedResult += math.sin(b_max / ndiv * (i + 0.5))**2\n",
        "discretizedResult = discretizedResult / ndiv\n",
        "print(\"Discretized Result:\", discretizedResult)"
      ]
    },
    {
      "cell_type": "markdown",
      "source": [
        "## Implementing circuits for Monte Carlo integration of sine function\n",
        "\n",
        "\n",
        "Below are the functions to compute $\\mathcal{P}$ and $\\mathcal{R}$ and their inverses."
      ],
      "metadata": {
        "id": "ujcFHeEdhxpt"
      }
    },
    {
      "cell_type": "code",
      "source": [
        "def P(qc, qx, nbit):\n",
        "    \"\"\"\n",
        "        Generating uniform probability distribution\n",
        "            qc: quantum circuit\n",
        "            qx: quantum register\n",
        "            nbit: number of qubits\n",
        "        The inverse of P = P\n",
        "    \"\"\"\n",
        "    qc.h(qx)\n",
        "\n",
        "def R(qc, qx, qx_measure, nbit, b_max):\n",
        "    \"\"\"\n",
        "        Computing the integral function f()\n",
        "            qc: quantum circuit\n",
        "            qx: quantum register\n",
        "            qx_measure: quantum register for measurement\n",
        "            nbit: number of qubits\n",
        "            b_max: upper limit of integral            \n",
        "    \"\"\"\n",
        "    qc.ry(b_max / 2**nbit * 2 * 0.5, qx_measure)\n",
        "    for i in range(nbit):\n",
        "        qc.cu3(2**i * b_max / 2**nbit * 2, 0, 0, qx[i], qx_measure[0])\n",
        "\n",
        "def Rinv(qc, qx, qx_measure, nbit, b_max):\n",
        "    \"\"\"\n",
        "        The inverse of R\n",
        "            qc: quantum circuit\n",
        "            qx: quantum register\n",
        "            qx_measure : quantum register for measurement\n",
        "            nbit: number of qubits\n",
        "            b_max: upper limit of integral\n",
        "    \"\"\"\n",
        "    for i in range(nbit)[::-1]:\n",
        "        qc.cu3(-2**i * b_max / 2**nbit * 2, 0, 0, qx[i], qx_measure[0])\n",
        "    qc.ry(-b_max / 2**nbit * 2 * 0.5, qx_measure)\n"
      ],
      "metadata": {
        "id": "whjA6Gx5avAV"
      },
      "execution_count": 2,
      "outputs": []
    },
    {
      "cell_type": "markdown",
      "source": [
        "## Grover Operators for Amplitude Estimation\n",
        "\n",
        "We can easily build quantum circuits for fast computation of the Monte Carlo integration as below. \n",
        "\n",
        "Here we show functions to construct quantum circuits running with simulators.\n",
        "\n",
        "Running them on real devices should be easy by adjusting the parameters of the functions."
      ],
      "metadata": {
        "id": "fKs8uWxRiGCb"
      }
    },
    {
      "cell_type": "code",
      "source": [
        "#Preparing qiskit environment\n",
        "from qiskit import ClassicalRegister, QuantumRegister, QuantumCircuit\n",
        "from qiskit import execute\n",
        "from qiskit import IBMQ\n",
        "from qiskit import Aer\n",
        "from scipy import optimize\n",
        "import sys, time\n",
        "import mpmath as mp\n",
        "import numpy as np\n",
        "import matplotlib.pyplot as plt"
      ],
      "metadata": {
        "id": "xie30DXJa0BN"
      },
      "execution_count": 5,
      "outputs": []
    },
    {
      "cell_type": "code",
      "source": [
        "# Functions to construct circuits for Grover operators\n",
        "def multi_control_NOT(qc, qx, qx_measure, qx_ancilla, nbit, b_max):\n",
        "    \"\"\"\n",
        "        Computing multi controlled NOT gate\n",
        "            qc: quantum circuit\n",
        "            qx: quantum register\n",
        "            qx_measure: quantum register for measurement\n",
        "            qx_ancilla: temporal quantum register for decomposing multi controlled NOT gate\n",
        "            nbit: number of qubits\n",
        "            b_max: upper limit of integral\n",
        "    \"\"\"\n",
        "\n",
        "    if nbit == 1:\n",
        "        qc.cz(qx[0], qx_measure[0])\n",
        "    elif nbit == 2:\n",
        "        qc.h(qx_measure[0])\n",
        "        qc.ccx(qx[0], qx[1], qx_measure[0])\n",
        "        qc.h(qx_measure[0])\n",
        "    elif nbit > 2.0:\n",
        "        qc.ccx(qx[0], qx[1], qx_ancilla[0])\n",
        "        for i in range(nbit - 3):\n",
        "            qc.ccx(qx[i + 2], qx_ancilla[i], qx_ancilla[i + 1])\n",
        "        qc.h(qx_measure[0])\n",
        "        qc.ccx(qx[nbit - 1], qx_ancilla[nbit - 3], qx_measure[0])\n",
        "        qc.h(qx_measure[0])\n",
        "        for i in range(nbit - 3)[::-1]:\n",
        "            qc.ccx(qx[i + 2], qx_ancilla[i], qx_ancilla[i + 1])\n",
        "        qc.ccx(qx[0], qx[1], qx_ancilla[0])\n",
        "\n",
        "\n",
        "def reflect(qc, qx, qx_measure, qx_ancilla, nbit, b_max):\n",
        "    \"\"\"\n",
        "        Computing reflection operator (I - 2|0><0|)\n",
        "            qc: quantum circuit\n",
        "            qx: quantum register\n",
        "            qx_measure: quantum register for measurement\n",
        "            qx_ancilla: temporal quantum register for decomposing multi controlled NOT gate\n",
        "            nbit: number of qubits\n",
        "            b_max: upper limit of integral\n",
        "    \"\"\"\n",
        "    for i in range(nbit):\n",
        "        qc.x(qx[i])\n",
        "    qc.x(qx_measure[0])\n",
        "    qc.barrier()    #format the circuits visualization\n",
        "    multi_control_NOT(qc, qx, qx_measure, qx_ancilla, nbit, b_max)\n",
        "    qc.barrier()    #format the circuits visualization\n",
        "    qc.x(qx_measure[0])\n",
        "    for i in range(nbit):\n",
        "        qc.x(qx[i])\n",
        "\n",
        "\n",
        "# This is to implement Grover Operator\n",
        "def Q_grover(qc, qx, qx_measure, qx_ancilla, nbit, b_max):\n",
        "    \"\"\"\n",
        "        The Grover operator: R P (I - 2|0><0|) P^+ R^+ U_psi_0 \n",
        "            qc: quantum circuit\n",
        "            qx: quantum register\n",
        "            qx_measure: quantum register for measurement\n",
        "            qx_ancilla: temporal quantum register for decomposing multi controlled NOT gate\n",
        "            nbit: number of qubits\n",
        "            b_max: upper limit of integral\n",
        "    \"\"\"\n",
        "    qc.z(qx_measure[0])\n",
        "    Rinv(qc, qx, qx_measure, nbit, b_max)\n",
        "    qc.barrier()    #format the circuits visualization\n",
        "    P(qc, qx, nbit)\n",
        "    reflect(qc, qx, qx_measure, qx_ancilla, nbit, b_max)\n",
        "    P(qc, qx, nbit)\n",
        "    qc.barrier()    #format the circuits visualization\n",
        "    R(qc, qx, qx_measure, nbit, b_max)"
      ],
      "metadata": {
        "id": "l6tpuYVla2Sv"
      },
      "execution_count": 6,
      "outputs": []
    },
    {
      "cell_type": "markdown",
      "source": [
        "## Amplitude Estimation without Phase Estimation\n",
        "\n",
        "To run the amplitude estimation without phase estimation of Suzuki et al., we must create quantum circuits that run Grover operators with various number of iterations. The function for creating such circuits is as the following.\n"
      ],
      "metadata": {
        "id": "s6zWoRSjihav"
      }
    },
    {
      "cell_type": "code",
      "source": [
        "def create_grover_circuit(numebr_grover_list, nbit, b_max):\n",
        "    \"\"\"\n",
        "        To generate quantum circuits running Grover operators with number of iterations in number_grover_list\n",
        "            numebr_grover_list: list of number of Grover operators\n",
        "            nbit: number of qubits (2**nbit = ndiv is the number of discretization in the Monte Carlo integration)\n",
        "            b_max: upper limit of integral\n",
        "        Return:\n",
        "            qc_list: quantum circuits with Grover operators as in number_grover_list\n",
        "    \"\"\"\n",
        "    qc_list = []\n",
        "    for igrover in range(len(numebr_grover_list)):\n",
        "        qx = QuantumRegister(nbit)\n",
        "        qx_measure = QuantumRegister(1)\n",
        "        cr = ClassicalRegister(1)\n",
        "        if (nbit > 2):\n",
        "            qx_ancilla = QuantumRegister(nbit - 2)\n",
        "            qc = QuantumCircuit(qx, qx_ancilla, qx_measure, cr)\n",
        "        else:\n",
        "            qx_ancilla = 0\n",
        "            qc = QuantumCircuit(qx, qx_measure, cr)\n",
        "        P(qc, qx, nbit)\n",
        "        R(qc, qx, qx_measure, nbit, b_max)\n",
        "        for ikAA in range(numebr_grover_list[igrover]):\n",
        "            Q_grover(qc, qx, qx_measure, qx_ancilla, nbit, b_max)\n",
        "        qc.measure(qx_measure[0], cr[0])\n",
        "        qc_list.append(qc)\n",
        "    return qc_list"
      ],
      "metadata": {
        "id": "ufJ1hErEa5dR"
      },
      "execution_count": 7,
      "outputs": []
    },
    {
      "cell_type": "code",
      "source": [
        "%pip install pylatexenc"
      ],
      "metadata": {
        "colab": {
          "base_uri": "https://localhost:8080/"
        },
        "id": "KDHTAGSvbELY",
        "outputId": "76421fd9-3a06-4138-ab65-773154cab8a4"
      },
      "execution_count": 8,
      "outputs": [
        {
          "output_type": "stream",
          "name": "stdout",
          "text": [
            "Looking in indexes: https://pypi.org/simple, https://us-python.pkg.dev/colab-wheels/public/simple/\n",
            "Collecting pylatexenc\n",
            "  Downloading pylatexenc-2.10.tar.gz (162 kB)\n",
            "\u001b[K     |████████████████████████████████| 162 kB 5.1 MB/s \n",
            "\u001b[?25hBuilding wheels for collected packages: pylatexenc\n",
            "  Building wheel for pylatexenc (setup.py) ... \u001b[?25l\u001b[?25hdone\n",
            "  Created wheel for pylatexenc: filename=pylatexenc-2.10-py3-none-any.whl size=136833 sha256=9de4f03e0cd2f2ae3610d8cc985ef93909f656da7a143a84f6932c19155b9514\n",
            "  Stored in directory: /root/.cache/pip/wheels/72/99/be/81d9bcdf5dd5ee5acd8119a9dd5bc07204c9ce205fd341b021\n",
            "Successfully built pylatexenc\n",
            "Installing collected packages: pylatexenc\n",
            "Successfully installed pylatexenc-2.10\n"
          ]
        }
      ]
    },
    {
      "cell_type": "markdown",
      "source": [
        "For example, quantum circuit with two Grover operators is shown below."
      ],
      "metadata": {
        "id": "ys54va2mirPA"
      }
    },
    {
      "cell_type": "code",
      "source": [
        "qc_list = create_grover_circuit([2], nbit, b_max)\n",
        "my_style = {'usepiformat': True, 'cregbundle': True,'compress': True }\n",
        "qc_list[0].draw(output=\"mpl\", style=my_style, plot_barriers=False )"
      ],
      "metadata": {
        "colab": {
          "base_uri": "https://localhost:8080/",
          "height": 469
        },
        "id": "ZrofxpusbHfx",
        "outputId": "4c81a21b-d955-4c2e-dda0-ec613a2c9cd6"
      },
      "execution_count": 9,
      "outputs": [
        {
          "output_type": "stream",
          "name": "stderr",
          "text": [
            "<ipython-input-2-077de23a7832>:22: DeprecationWarning: The QuantumCircuit.cu3 method is deprecated as of 0.16.0. It will be removed no earlier than 3 months after the release date. You should use the QuantumCircuit.cu method instead, where cu3(ϴ,φ,λ) = cu(ϴ,φ,λ,0).\n",
            "  qc.cu3(2**i * b_max / 2**nbit * 2, 0, 0, qx[i], qx_measure[0])\n",
            "<ipython-input-2-077de23a7832>:34: DeprecationWarning: The QuantumCircuit.cu3 method is deprecated as of 0.16.0. It will be removed no earlier than 3 months after the release date. You should use the QuantumCircuit.cu method instead, where cu3(ϴ,φ,λ) = cu(ϴ,φ,λ,0).\n",
            "  qc.cu3(-2**i * b_max / 2**nbit * 2, 0, 0, qx[i], qx_measure[0])\n",
            "/usr/local/lib/python3.8/dist-packages/qiskit/visualization/circuit/qcstyle.py:342: UserWarning: style option/s (cregbundle, compress, usepiformat) is/are not supported\n",
            "  set_style(current_style, style)\n"
          ]
        },
        {
          "output_type": "execute_result",
          "data": {
            "text/plain": [
              "<Figure size 1604.58x806.68 with 1 Axes>"
            ],
            "image/png": "[encoded data removed]"
          },
          "metadata": {},
          "execution_count": 9
        }
      ]
    },
    {
      "cell_type": "markdown",
      "source": [
        "We also need a helper function to simultaneously run the quantum circuits that are returned by the above functions, as below."
      ],
      "metadata": {
        "id": "bvLS56Eyiusm"
      }
    },
    {
      "cell_type": "code",
      "source": [
        "def run_grover(qc_list, number_grover_list, shots_list, backend):\n",
        "    \"\"\"\n",
        "        Run the quantum circuits returned by create_grover_circuit()\n",
        "            qc_list: list of quantum circuits\n",
        "            numebr_grover_list: list of number of Grover operators\n",
        "            shots_list:  list of number of shots\n",
        "            backend: name of backends\n",
        "        \n",
        "        Return:\n",
        "            hit_list: list of count of obserbving \"1\" for qc_list\n",
        "    \"\"\"\n",
        "    hit_list = []\n",
        "    for k in range(len(number_grover_list)):\n",
        "        job = execute(qc_list[k], backend=backend, shots=shots_list[k])\n",
        "        lapse = 0\n",
        "        interval = 0.00001\n",
        "        time.sleep(interval)\n",
        "        while job.status().name != 'DONE':\n",
        "            time.sleep(interval)\n",
        "            lapse += 1\n",
        "        counts = job.result().get_counts(qc_list[k]).get(\"1\", 0)\n",
        "        hit_list.append(counts)\n",
        "    return hit_list"
      ],
      "metadata": {
        "id": "xCh8PKU7bJbU"
      },
      "execution_count": 10,
      "outputs": []
    },
    {
      "cell_type": "markdown",
      "source": [
        "## Post processing to estimate the amplitude from results of various Grover Circuits\n",
        "\n",
        "At the heart of the techniques to estimate the amplitude without QFT and controlled Grover operators is a post processing function that combines the results of running Grover circuits with various number of iterations. Suppose we run Grover operators for $\\{m_0, m_1, \\ldots, m_M\\}$ times and for each of the $m_k$ run , we repeat it for $N_k$ times of which we observe $h_k$ times of \"good\" states. Because the probability of observing \"good\" states is $ \\sin^2((2m_k + 1)\\theta_a)$ the likelihood of observing $h_k$ times of \"good\" states is \n",
        "\n",
        "$$ L_k(h_k;\\theta_a) = \\left( \\sin^2((2m_k + 1)\\theta_a) \\right)^{h_k} \\left( \\cos^2((2m_k + 1)\\theta_a) \\right)^{N_k - h_k}. $$\n",
        "\n",
        "\n",
        "When we have observation of good states as $ \\mathbf{h} = \\{h_0, h_1, \\ldots, h_M\\}$ the likelihood function becomes \n",
        "\n",
        "\n",
        "$$ L(\\mathbf{h};\\theta_a) = \\prod_{k=0}^M L_k(h_k;\\theta_a). $$\n",
        "\n",
        "----\n",
        "\n",
        "From this, we can find an optimal value of $\\tilde{\\theta}_a$ \n",
        " that maximizes the above likelihood function, namely,\n",
        "\n",
        " $$ \\tilde{\\theta}_a = \\mbox{arg}~\\mbox{max}_{\\theta} L(\\mathbf{h};\\theta_a). $$\n",
        "\n",
        "\n",
        " The function below is to compute such an optimal$\\tilde{\\theta}_a$ \n"
      ],
      "metadata": {
        "id": "3KI97XdMixv6"
      }
    },
    {
      "cell_type": "code",
      "source": [
        "def calculate_theta(hit_list, number_grover_list, shots_list):\n",
        "    \"\"\"\n",
        "        calculate optimal theta values\n",
        "            hit_list: list of count of obserbving \"1\" for qc_list\n",
        "            numebr_grover_list: list of number of Grover operators        \n",
        "            shots_list: list of number of shots\n",
        "\n",
        "        Return:\n",
        "            thetaCandidate_list: list of optimal theta\n",
        "    \"\"\"\n",
        "\n",
        "    small = 1.e-15  # small valued parameter to avoid zero division\n",
        "    confidenceLevel = 5  # confidence level to determine the search range\n",
        "\n",
        "    thetaCandidate_list = []\n",
        "    rangeMin = 0.0 + small\n",
        "    rangeMax = 1.0 - small\n",
        "    for igrover in range(len(number_grover_list)):\n",
        "\n",
        "        def loglikelihood(p):\n",
        "            ret = np.zeros_like(p)\n",
        "            theta = np.arcsin(np.sqrt(p))\n",
        "            for n in range(igrover + 1):\n",
        "                ihit = hit_list[n]\n",
        "                arg = (2 * number_grover_list[n] + 1) * theta\n",
        "                ret = ret + 2 * ihit * np.log(np.abs(np.sin(arg))) + 2 * (\n",
        "                    shots_list[n] - ihit) * np.log(np.abs(np.cos(arg)))\n",
        "            return -ret\n",
        "\n",
        "        searchRange = (rangeMin, rangeMax)\n",
        "        searchResult = optimize.brute(loglikelihood, [searchRange])\n",
        "        pCandidate = searchResult[0]\n",
        "        thetaCandidate_list.append(np.arcsin(np.sqrt(pCandidate)))\n",
        "        perror = CalcErrorCramérRao(igrover, shots_list, pCandidate, number_grover_list)\n",
        "        rangeMax = min(pCandidate+confidenceLevel*perror,1.0 - small)\n",
        "        rangeMin = max(pCandidate-confidenceLevel*perror,0.0 + small)\n",
        "    return thetaCandidate_list"
      ],
      "metadata": {
        "id": "fnsqjhhVbMlT"
      },
      "execution_count": 11,
      "outputs": []
    },
    {
      "cell_type": "markdown",
      "source": [
        "## Remark about the Cramer-Rao bound\n",
        "\n",
        "The advantages offered by Amplitude Amplification without QFT and Controlled Grover operators  depend on the design of sequences of number of Grover iterations \n",
        " $m_k$ and number of shots $N_k$ \n",
        " for each run of iteration. The Cramér-Rao inequality provides the lower bound of the error of estimating the amplitude by the following\n",
        "\n",
        "\n",
        " $$ \\mbox{var}(\\tilde{a}) = \\mathbb{E}[(\\tilde{a} - \\mathbb{E}[\\tilde{a}])^2] \\ge \\frac{\\|1 + b'(a)\\|^2}{\\mathcal{I}(a)},$$\n",
        "\n",
        " where $b'(a)$ is the derivative $b(a) \\equiv \\mathbb{E}[\\tilde{a} - a]$ with respect to $a$, and $\\mathcal{I}(a)$ is the so-called *Fisher information* defined as \n",
        "\n",
        " $$ \\mathcal{I}(a) = \\mathbb{E}\\left[ \\left( \\frac{\\partial \\ln{L(x;a)} }{\\partial a} \\right)^2\\right]. $$\n",
        "\n",
        "\n",
        " -------\n",
        "\n",
        "\n",
        " With regards to $m_k$ and $N_k$, the total number of oracle calls is given as \n",
        "\n",
        " $$ N_{\\mbox{orac}} = \\sum_{k=0}^{M} N_k (2 m_k + 1),$$\n",
        "\n",
        " and the Fisher information is given by\n",
        "\n",
        " $$ \\mathcal{I}(a) = \\frac{1}{a(1-a)} \\sum_{k=0}^{M} N_k(2m_k + 1)^2 \\le \\frac{1}{a(1-a)} N^2_{\\mbox{orac}}. $$\n",
        "\n",
        " Thus, the error $\\tilde{\\epsilon} = \\mathbb{E}[(\\tilde{a} - a)^2]$ satisfies \n",
        "\n",
        " $$ \\tilde{\\epsilon} \\approx \\frac{1}{\\mathcal{I}(a)^{1/2}} \\ge \\frac{\\sqrt{a(1-a)}}{N_{\\mbox{orac}}} $$\n",
        "\n",
        "The bound above gives the lower bound of approximation error with regards to the approximated value $a$ and the total number of quantum oracle calls. Note that\n",
        "$\\tilde{\\epsilon} \\approx \\sqrt{a(1-a)}N_{\\mbox{orac}}^{1/2}$ for classical case,which is quadratically worse than the quantum case.\n"
      ],
      "metadata": {
        "id": "CNsnHK7rj12r"
      }
    },
    {
      "cell_type": "markdown",
      "source": [
        "## Testing the algorithm with simulators\n",
        "\n"
      ],
      "metadata": {
        "id": "QOv_RlxWk9m6"
      }
    },
    {
      "cell_type": "code",
      "source": [
        "#setting the number of shots and Grover operators.\n",
        "\n",
        "shots_list = [100, 100, 100, 100, 100, 100, 100]  # list of number of shots\n",
        "number_grover_list = [0, 1, 2, 4, 8, 16, 32]  # list of number of Grover operators\n",
        "if len(shots_list) != len(number_grover_list):\n",
        "    raise Exception(\n",
        "        'The length of shots_list should be equal to the length of number_grover_list.'\n",
        "    )\n",
        "\n",
        "backend = Aer.get_backend('qasm_simulator')"
      ],
      "metadata": {
        "id": "G3XU7unabPfR"
      },
      "execution_count": 12,
      "outputs": []
    },
    {
      "cell_type": "markdown",
      "source": [
        "We also need functions to evaluate the accuracy against the true value."
      ],
      "metadata": {
        "id": "xRoBET3dlDL6"
      }
    },
    {
      "cell_type": "code",
      "source": [
        "def CalcErrorCramérRao(M, shot_list, p0, number_grover_list):\n",
        "    \"\"\"\n",
        "        calculate Cramér-Rao lower bound\n",
        "            M: upper limit of the sum in Fisher information \n",
        "            shots_list:  list of number of shots\n",
        "            p0: the true parameter value to be estimated\n",
        "            numebr_grover_list: list of number of Grover operators        \n",
        "\n",
        "        Return:\n",
        "            square root of Cramér-Rao lower bound:  lower bound on the standard deviation of unbiased estimators\n",
        "    \"\"\"\n",
        "    FisherInfo = 0\n",
        "    for k in range(M + 1):\n",
        "        Nk = shot_list[k]\n",
        "        mk = number_grover_list[k]\n",
        "        FisherInfo += Nk / (p0 * (1 - p0)) * (2 * mk + 1)**2\n",
        "    return np.sqrt(1 / FisherInfo)\n",
        "\n",
        "\n",
        "def CalcNumberOracleCalls(M, shot_list, number_grover_list):\n",
        "    \"\"\"\n",
        "        calculate the total number of oracle calls\n",
        "            M: upper limit of the sum in Fisher information \n",
        "            shots_list:  list of number of shots\n",
        "            numebr_grover_list: list of number of Grover operators        \n",
        "\n",
        "        Return:\n",
        "            Norac: the total number of oracle calls\n",
        "    \"\"\"\n",
        "    Norac = 0\n",
        "    for k in range(M + 1):\n",
        "        Nk = shots_list[k]\n",
        "        mk = number_grover_list[k]\n",
        "        Norac += Nk * (2 * mk + 1)\n",
        "    return Norac"
      ],
      "metadata": {
        "id": "osphrdwVbSNC"
      },
      "execution_count": 13,
      "outputs": []
    },
    {
      "cell_type": "markdown",
      "source": [
        "Finally, we can run the algorithm as below:"
      ],
      "metadata": {
        "id": "u-7Z1MyLlG1z"
      }
    },
    {
      "cell_type": "code",
      "source": [
        "qc_list = create_grover_circuit(number_grover_list, nbit,\n",
        "                                b_max)  # list of Grover circuits\n",
        "hit_list = run_grover(qc_list, number_grover_list, shots_list,\n",
        "                      backend)  # list of number of grover operators\n",
        "thetaCandidate_list = calculate_theta(\n",
        "    hit_list, number_grover_list, shots_list)  # list of estimated theta values"
      ],
      "metadata": {
        "colab": {
          "base_uri": "https://localhost:8080/"
        },
        "id": "45yBhfhobW8V",
        "outputId": "7ff92898-4eb3-4714-bfe2-c44c08ed352f"
      },
      "execution_count": 14,
      "outputs": [
        {
          "output_type": "stream",
          "name": "stderr",
          "text": [
            "<ipython-input-2-077de23a7832>:22: DeprecationWarning: The QuantumCircuit.cu3 method is deprecated as of 0.16.0. It will be removed no earlier than 3 months after the release date. You should use the QuantumCircuit.cu method instead, where cu3(ϴ,φ,λ) = cu(ϴ,φ,λ,0).\n",
            "  qc.cu3(2**i * b_max / 2**nbit * 2, 0, 0, qx[i], qx_measure[0])\n",
            "<ipython-input-2-077de23a7832>:34: DeprecationWarning: The QuantumCircuit.cu3 method is deprecated as of 0.16.0. It will be removed no earlier than 3 months after the release date. You should use the QuantumCircuit.cu method instead, where cu3(ϴ,φ,λ) = cu(ϴ,φ,λ,0).\n",
            "  qc.cu3(-2**i * b_max / 2**nbit * 2, 0, 0, qx[i], qx_measure[0])\n"
          ]
        }
      ]
    },
    {
      "cell_type": "markdown",
      "source": [
        "We can now plot to find the correlation between the number of oracle calls and the approximation error of $\\theta_a$\n",
        ", as well as the lower bound of such error provided by the Cramér-Rao."
      ],
      "metadata": {
        "id": "LDLi5JQKlKm2"
      }
    },
    {
      "cell_type": "code",
      "source": [
        "error_list = np.abs(np.sin(thetaCandidate_list)**2 - discretizedResult)  # list of estimation errors\n",
        "OracleCall_list = []  # list of number of oracle calls\n",
        "ErrorCramérRao_list = []  # list of Cramér-Rao lower bound\n",
        "for i in range(len(number_grover_list)):\n",
        "    OracleCall_list.append(\n",
        "        CalcNumberOracleCalls(i, shots_list, number_grover_list))\n",
        "    ErrorCramérRao_list.append(\n",
        "        CalcErrorCramérRao(i, shots_list, discretizedResult, number_grover_list))\n",
        "\n",
        "p1 = plt.plot(OracleCall_list, error_list, 'o')\n",
        "p2 = plt.plot( OracleCall_list, ErrorCramérRao_list)\n",
        "plt.xscale('log')\n",
        "plt.xlabel(\"Number of oracle calls\")\n",
        "plt.yscale('log')\n",
        "plt.ylabel(\"Estimation Error\")\n",
        "plt.legend((p1[0], p2[0]), (\"Estimated Value\", \"Cramér-Rao\"))\n",
        "plt.show()"
      ],
      "metadata": {
        "colab": {
          "base_uri": "https://localhost:8080/",
          "height": 283
        },
        "id": "uJgOkFxlbY-v",
        "outputId": "0c8f09da-7b7c-4ca5-d3b4-e4a9708e2983"
      },
      "execution_count": 15,
      "outputs": [
        {
          "output_type": "display_data",
          "data": {
            "text/plain": [
              "<Figure size 432x288 with 1 Axes>"
            ],
            "image/png": "[encoded data removed]"
          },
          "metadata": {
            "needs_background": "light"
          }
        }
      ]
    },
    {
      "cell_type": "markdown",
      "source": [
        "From the above graph, we can see that the estimation error tends to decrease with the increase of the number oracle calls but has deviates from Cramér-Rao lower bound. Because Cramér-Rao lower bound express a bound for statistical mean of estimation errors, we now repeat the above algorithm $n_{trial}=100$\n",
        " times to estimate the statisitical mean of errors."
      ],
      "metadata": {
        "id": "5EC-sDprlQUK"
      }
    },
    {
      "cell_type": "code",
      "source": [
        "n_trial = 100\n",
        "error_list= np.zeros_like(number_grover_list,dtype=float)\n",
        "qc_list = create_grover_circuit(number_grover_list, nbit, b_max)\n",
        "for i in range(n_trial):\n",
        "    sys.stdout.write(\"n_trial=(%d/%d)\\r\" % ((i + 1), n_trial))\n",
        "    sys.stdout.flush()\n",
        "    hit_list = run_grover(qc_list, number_grover_list, shots_list, backend)\n",
        "    thetaCandidate_list = calculate_theta(hit_list, number_grover_list, shots_list)\n",
        "    error_list += (np.sin(thetaCandidate_list)**2 - discretizedResult)**2  # list of estimation errors\n",
        "\n",
        "error_list = (error_list / (n_trial-1))**(1/2)"
      ],
      "metadata": {
        "colab": {
          "base_uri": "https://localhost:8080/"
        },
        "id": "-PpFyoVGbbQs",
        "outputId": "b5a0ebb8-ca02-4f3b-c5ba-e8d643d60a35"
      },
      "execution_count": 16,
      "outputs": [
        {
          "output_type": "stream",
          "name": "stdout",
          "text": [
            "n_trial=(1/100)\r"
          ]
        },
        {
          "output_type": "stream",
          "name": "stderr",
          "text": [
            "<ipython-input-2-077de23a7832>:22: DeprecationWarning: The QuantumCircuit.cu3 method is deprecated as of 0.16.0. It will be removed no earlier than 3 months after the release date. You should use the QuantumCircuit.cu method instead, where cu3(ϴ,φ,λ) = cu(ϴ,φ,λ,0).\n",
            "  qc.cu3(2**i * b_max / 2**nbit * 2, 0, 0, qx[i], qx_measure[0])\n",
            "<ipython-input-2-077de23a7832>:34: DeprecationWarning: The QuantumCircuit.cu3 method is deprecated as of 0.16.0. It will be removed no earlier than 3 months after the release date. You should use the QuantumCircuit.cu method instead, where cu3(ϴ,φ,λ) = cu(ϴ,φ,λ,0).\n",
            "  qc.cu3(-2**i * b_max / 2**nbit * 2, 0, 0, qx[i], qx_measure[0])\n"
          ]
        },
        {
          "output_type": "stream",
          "name": "stdout",
          "text": []
        }
      ]
    },
    {
      "cell_type": "code",
      "source": [
        "p1 = plt.plot(OracleCall_list, error_list, 'o')\n",
        "p2 = plt.plot(OracleCall_list, ErrorCramérRao_list)\n",
        "plt.xscale('log')\n",
        "plt.xlabel(\"Number of oracle calls\")\n",
        "plt.yscale('log')\n",
        "plt.ylabel(\"Estimation Error\")\n",
        "plt.legend((p1[0], p2[0]), (\"Estimated Value\", \"Cramér-Rao\"))\n",
        "plt.show()"
      ],
      "metadata": {
        "colab": {
          "base_uri": "https://localhost:8080/",
          "height": 283
        },
        "id": "uZRkLNbKbeER",
        "outputId": "293a30fe-5413-482f-9abb-50a3e8fe9a3e"
      },
      "execution_count": 17,
      "outputs": [
        {
          "output_type": "display_data",
          "data": {
            "text/plain": [
              "<Figure size 432x288 with 1 Axes>"
            ],
            "image/png": "[encoded data removed]"
          },
          "metadata": {
            "needs_background": "light"
          }
        }
      ]
    },
    {
      "cell_type": "markdown",
      "source": [
        "We can see that the above algorithm achieved almost as good as the lower bound provided by the Cramér-Rao bound."
      ],
      "metadata": {
        "id": "fURJ1axTlWvO"
      }
    },
    {
      "cell_type": "code",
      "source": [],
      "metadata": {
        "id": "Ybzxuj_Lbg8J"
      },
      "execution_count": null,
      "outputs": []
    }
  ]
}