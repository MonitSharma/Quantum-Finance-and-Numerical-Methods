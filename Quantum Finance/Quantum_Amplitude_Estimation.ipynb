{
  "nbformat": 4,
  "nbformat_minor": 0,
  "metadata": {
    "colab": {
      "provenance": []
    },
    "kernelspec": {
      "name": "python3",
      "display_name": "Python 3"
    },
    "language_info": {
      "name": "python"
    }
  },
  "cells": [
    {
      "cell_type": "markdown",
      "source": [
        "# Quantum Finance"
      ],
      "metadata": {
        "id": "JDyJboYd3geB"
      }
    },
    {
      "cell_type": "markdown",
      "source": [
        "## Quantum Amplitude Estimation\n",
        "\n",
        "Given an operator $\\mathcal{A}$ that acts as :    \n",
        "\n",
        "$$ \\mathcal{A}|0\\rangle = \\sqrt{1 - a}|\\Psi_0\\rangle + \\sqrt{a}|\\Psi_1\\rangle $$\n",
        "\n",
        "Quantum Amplitude Estimation (QAE) is the task of finding an estimate for the amplitude $a$ of the state $|\\Psi_1\\rangle$ :\n",
        "\n",
        "$$ a = |\\langle\\Psi_1 | \\Psi_1\\rangle|^2.$$\n",
        "\n"
      ],
      "metadata": {
        "id": "5v_XIqxK3kHc"
      }
    },
    {
      "cell_type": "markdown",
      "source": [
        "The work was first investigated by [Brassard et al](https://arxiv.org/abs/quant-ph/0005055) in 2000 and their algorithm uses a combination of the Grover operator:\n",
        "\n",
        "$$ \\mathcal{Q} = \\mathcal{A}\\mathcal{S}_0\\mathcal{A}^\\dagger\\mathcal{S}_{\\Psi_1} $$\n",
        "\n",
        "where $ \\mathcal{S}_0$ and $\\mathcal{S}_{\\Psi_1}$ are reflections about the $|0\\rangle $ and $|\\Psi_{1}⟩$ states, respectively and Phase estimation. \n",
        "\n",
        "-------\n",
        "\n",
        "This algorithm is computationally expensive and have large circuits, however there are other variants to this.\n",
        "\n",
        "\n",
        "\n",
        "--------\n",
        "\n",
        "\n"
      ],
      "metadata": {
        "id": "0qWvyoX65KXn"
      }
    },
    {
      "cell_type": "markdown",
      "source": [
        "## Example : \n",
        "\n",
        "We take $\\mathcal{A}$ as a Bernoulli random variable with an unknown success probability $p$: \n",
        "\n",
        "$$ \\mathcal{A}|0\\rangle = \\sqrt{1 - p}|0\\rangle + \\sqrt{p}|1\\rangle. $$\n",
        "\n",
        "On a quantum computer, we can model this operator with a rotation around the $Y-$ axis of a single qubit\n",
        "\n",
        "$$ \\mathcal{A} = R_Y(\\theta_p), \\theta_p = 2\\sin^{-1}(\\sqrt{p}). $$\n",
        "\n",
        "The Grover operator for this case is particulary simple \n",
        "\n",
        "$$ \\mathcal{Q} = R_Y(2\\theta_p), $$\n",
        "\n",
        "whose powers are very easy to calculate $ \\mathcal{Q}^k = R_Y(2k\\theta_p) $\n",
        "\n",
        "-----\n",
        "\n",
        "We'll fix the probability we want to estimate to $p = 0.2$"
      ],
      "metadata": {
        "id": "pVmYL8Kx55Eg"
      }
    },
    {
      "cell_type": "code",
      "execution_count": null,
      "metadata": {
        "id": "FCx6Fdum21KW"
      },
      "outputs": [],
      "source": [
        "!pip install qiskit"
      ]
    },
    {
      "cell_type": "code",
      "source": [
        "p = 0.2"
      ],
      "metadata": {
        "id": "FekesCnF3WeZ"
      },
      "execution_count": 2,
      "outputs": []
    },
    {
      "cell_type": "markdown",
      "source": [
        "Define the operator $\\mathcal{A}$ and $\\mathcal{Q}$"
      ],
      "metadata": {
        "id": "LU2Yf9ASkr2F"
      }
    },
    {
      "cell_type": "code",
      "source": [
        "import numpy as np\n",
        "from qiskit.circuit import QuantumCircuit\n",
        "\n",
        "\n",
        "class BernoulliA(QuantumCircuit):\n",
        "\n",
        "  \"\"\" A Circuit that will represent the A operator \"\"\"\n",
        "\n",
        "  def __init__(self, probability):\n",
        "    super().__init__(1) # the circuit on 1 qubit\n",
        "    theta_p = 2 * np.arcsin(np.sqrt(probability))\n",
        "    self.ry(theta_p,0)\n",
        "\n",
        "\n",
        "class BernoulliQ(QuantumCircuit):\n",
        "  \"\"\" A class rep the Q operator \"\"\"\n",
        "  def __init__(self, probability):\n",
        "    super().__init__(1)\n",
        "\n",
        "\n",
        "    self._theta_p = 2 * np.arcsin(np.sqrt(probability))\n",
        "    self.ry(2 * self._theta_p, 0)\n",
        "\n",
        "  def power(self,k):\n",
        "    # implement the power of Q\n",
        "    q_k = QuantumCircuit(1)\n",
        "    q_k.ry(2 * k * self._theta_p,0)\n",
        "    return q_k\n"
      ],
      "metadata": {
        "id": "pGp6-zPbkpVP"
      },
      "execution_count": 3,
      "outputs": []
    },
    {
      "cell_type": "code",
      "source": [
        "A = BernoulliA(p)\n",
        "Q = BernoulliQ(p)"
      ],
      "metadata": {
        "id": "R7YKYKxtl27s"
      },
      "execution_count": 4,
      "outputs": []
    },
    {
      "cell_type": "markdown",
      "source": [
        "# The qiskit Amplitude Estimation Workflow\n",
        "\n",
        "We can implement several QAE algoruthms that all derive from the `AmplitudeEstimator` interface. In the initializer we specify algorithm specific settings and the `estimate` method which does all the work, takes an `EstimationProblem` as input and returns an `AmplitudeEstimationResult` object. Since all QAE variants follow the same interface, we can use them all to solve the same problem instance.\n"
      ],
      "metadata": {
        "id": "B7i16XgQl-SB"
      }
    },
    {
      "cell_type": "code",
      "source": [
        "from qiskit.algorithms import EstimationProblem\n",
        "\n",
        "problem = EstimationProblem(state_preparation = A,\n",
        "                            grover_operator = Q,\n",
        "                            objective_qubits=[0])  # the good state Psi1 is identified as measuring |1> in qubit 0"
      ],
      "metadata": {
        "id": "EnwZIryYl7r9"
      },
      "execution_count": 5,
      "outputs": []
    },
    {
      "cell_type": "markdown",
      "source": [
        "Execute on Qiskit Statevector"
      ],
      "metadata": {
        "id": "c6QnTF3Mm5vV"
      }
    },
    {
      "cell_type": "code",
      "source": [
        "from qiskit import BasicAer\n",
        "from qiskit.utils import QuantumInstance\n",
        "\n",
        "backend = BasicAer.get_backend(\"statevector_simulator\")\n",
        "quantum_instance = QuantumInstance(backend)"
      ],
      "metadata": {
        "id": "znh-s0wLm4Vk"
      },
      "execution_count": 6,
      "outputs": []
    },
    {
      "cell_type": "markdown",
      "source": [
        "## Canonical Amplitude Estimation\n",
        "\n",
        "Let's solve with the original QAE"
      ],
      "metadata": {
        "id": "vcq4_D7VnRT6"
      }
    },
    {
      "cell_type": "code",
      "source": [
        "from qiskit.algorithms import AmplitudeEstimation\n",
        "\n",
        "ae = AmplitudeEstimation(\n",
        "    num_eval_qubits=3,  # the number of evaluation qubits specifies circuit width and accuracy\n",
        "    quantum_instance=quantum_instance,\n",
        ")"
      ],
      "metadata": {
        "id": "yYvhmBernMs-"
      },
      "execution_count": 7,
      "outputs": []
    },
    {
      "cell_type": "markdown",
      "source": [
        "With the algorithm defined, we can call the `estimate` method and provide it with problem to solve"
      ],
      "metadata": {
        "id": "cVRa-Ipjnaio"
      }
    },
    {
      "cell_type": "code",
      "source": [
        "ae_result = ae.estimate(problem)"
      ],
      "metadata": {
        "id": "NxcKYIZjnZbR"
      },
      "execution_count": 8,
      "outputs": []
    },
    {
      "cell_type": "code",
      "source": [
        "print(ae_result.estimation)"
      ],
      "metadata": {
        "colab": {
          "base_uri": "https://localhost:8080/"
        },
        "id": "Wp4nxl-mnkgv",
        "outputId": "f088f1b0-f209-4d04-b16b-5a4b9b79a35a"
      },
      "execution_count": 9,
      "outputs": [
        {
          "output_type": "stream",
          "name": "stdout",
          "text": [
            "0.1464466\n"
          ]
        }
      ]
    },
    {
      "cell_type": "markdown",
      "source": [
        "We see that this is not a very good estimate for our target of $p = 0.2$ That’s due to the fact the canonical AE is restricted to a discrete grid, specified by the number of evaluation qubits:"
      ],
      "metadata": {
        "id": "XTfVrBlAnyb1"
      }
    },
    {
      "cell_type": "code",
      "source": [
        "import matplotlib.pyplot as plt\n",
        "\n",
        "# plot estimated values\n",
        "gridpoints = list(ae_result.samples.keys())\n",
        "probabilities = list(ae_result.samples.values())\n",
        "\n",
        "plt.bar(gridpoints, probabilities, width=0.5 / len(probabilities))\n",
        "plt.axvline(p, color=\"r\", ls=\"--\")\n",
        "plt.xticks(size=15)\n",
        "plt.yticks([0, 0.25, 0.5, 0.75, 1], size=15)\n",
        "plt.title(\"Estimated Values\", size=15)\n",
        "plt.ylabel(\"Probability\", size=15)\n",
        "plt.xlabel(r\"Amplitude $a$\", size=15)\n",
        "plt.ylim((0, 1))\n",
        "plt.grid()\n",
        "plt.show()"
      ],
      "metadata": {
        "colab": {
          "base_uri": "https://localhost:8080/",
          "height": 311
        },
        "id": "t6hoByfGnrIj",
        "outputId": "e8559898-409e-4790-eb91-66bbacc289a5"
      },
      "execution_count": 10,
      "outputs": [
        {
          "output_type": "display_data",
          "data": {
            "text/plain": [
              "<Figure size 432x288 with 1 Axes>"
            ],
            "image/png": "[encoded data removed]"
          },
          "metadata": {
            "needs_background": "light"
          }
        }
      ]
    },
    {
      "cell_type": "markdown",
      "source": [
        "To improve the estimate we can interpolate the measurement probabilities and compute the maximum likelihood estimator that produces this probability distribution:\n",
        "\n"
      ],
      "metadata": {
        "id": "POPRNV59n8Az"
      }
    },
    {
      "cell_type": "code",
      "source": [
        "print(\"Interpolated MLE estimator:\", ae_result.mle)"
      ],
      "metadata": {
        "colab": {
          "base_uri": "https://localhost:8080/"
        },
        "id": "ggoKuICwn33o",
        "outputId": "5d8fb626-b25a-42bc-9eeb-3ebf774580f9"
      },
      "execution_count": 11,
      "outputs": [
        {
          "output_type": "stream",
          "name": "stdout",
          "text": [
            "Interpolated MLE estimator: 0.19999999390907777\n"
          ]
        }
      ]
    },
    {
      "cell_type": "markdown",
      "source": [
        "## The circuit"
      ],
      "metadata": {
        "id": "PJ1fXeN-n_bI"
      }
    },
    {
      "cell_type": "code",
      "source": [
        "ae_circuit = ae.construct_circuit(problem)\n",
        "ae_circuit.decompose().draw(\n",
        "    \"mpl\", style=\"iqx\"\n",
        ")  # decompose 1 level: exposes the Phase estimation circuit!"
      ],
      "metadata": {
        "colab": {
          "base_uri": "https://localhost:8080/",
          "height": 231
        },
        "id": "TbHaNppKn-Z-",
        "outputId": "5450bb7a-d489-47e9-cd93-d56e6a2705ac"
      },
      "execution_count": 12,
      "outputs": [
        {
          "output_type": "execute_result",
          "data": {
            "text/plain": [
              "<Figure size 719.315x264.88 with 1 Axes>"
            ],
            "image/png": "[encoded data removed]"
          },
          "metadata": {},
          "execution_count": 12
        }
      ]
    },
    {
      "cell_type": "code",
      "source": [
        "from qiskit import transpile\n",
        "\n",
        "\n",
        "basis_gates = [\"h\", \"ry\", \"cry\", \"cx\", \"ccx\", \"p\", \"cp\", \"x\", \"s\", \"sdg\", \"y\", \"t\", \"cz\"]\n",
        "transpile(ae_circuit, basis_gates=basis_gates, optimization_level=2).draw(\"mpl\", style=\"iqx\")"
      ],
      "metadata": {
        "colab": {
          "base_uri": "https://localhost:8080/",
          "height": 365
        },
        "id": "AcOX5jZBoCmS",
        "outputId": "9e8e987c-5212-4baf-a1db-1b7840a26a4b"
      },
      "execution_count": 13,
      "outputs": [
        {
          "output_type": "execute_result",
          "data": {
            "text/plain": [
              "<Figure size 1622.31x866.88 with 1 Axes>"
            ],
            "image/png": "[encoded data removed]"
          },
          "metadata": {},
          "execution_count": 13
        }
      ]
    },
    {
      "cell_type": "markdown",
      "source": [
        "## Iterative Amplitude Estimation"
      ],
      "metadata": {
        "id": "tq_OQOeDoaNP"
      }
    },
    {
      "cell_type": "code",
      "source": [
        "from qiskit.algorithms import IterativeAmplitudeEstimation\n",
        "\n",
        "iae = IterativeAmplitudeEstimation(\n",
        "    epsilon_target=0.01,  # target accuracy\n",
        "    alpha=0.05,  # width of the confidence interval\n",
        "    quantum_instance=quantum_instance,\n",
        ")\n",
        "iae_result = iae.estimate(problem)\n",
        "\n",
        "print(\"Estimate:\", iae_result.estimation)"
      ],
      "metadata": {
        "colab": {
          "base_uri": "https://localhost:8080/"
        },
        "id": "JXfdbqgJoHC0",
        "outputId": "451f936d-cce8-489d-d9f4-79cf1107f3a5"
      },
      "execution_count": 14,
      "outputs": [
        {
          "output_type": "stream",
          "name": "stdout",
          "text": [
            "Estimate: 0.19999999999999998\n"
          ]
        }
      ]
    },
    {
      "cell_type": "markdown",
      "source": [
        "The circuits here only consist of Grover powers and are much cheaper!"
      ],
      "metadata": {
        "id": "uwOXUtPdoipi"
      }
    },
    {
      "cell_type": "code",
      "source": [
        "iae_circuit = iae.construct_circuit(problem, k=3)\n",
        "iae_circuit.draw(\"mpl\", style=\"iqx\")"
      ],
      "metadata": {
        "colab": {
          "base_uri": "https://localhost:8080/",
          "height": 95
        },
        "id": "T2Em0kb5ogd6",
        "outputId": "e1962c1a-b525-4168-d244-12d10459eed9"
      },
      "execution_count": 15,
      "outputs": [
        {
          "output_type": "execute_result",
          "data": {
            "text/plain": [
              "<Figure size 193.726x84.28 with 1 Axes>"
            ],
            "image/png": "[encoded data removed]"
          },
          "metadata": {},
          "execution_count": 15
        }
      ]
    },
    {
      "cell_type": "markdown",
      "source": [
        "## Maximum Likelihood Amplitude Estimation"
      ],
      "metadata": {
        "id": "Xh9vtJhyopdb"
      }
    },
    {
      "cell_type": "code",
      "source": [
        "from qiskit.algorithms import MaximumLikelihoodAmplitudeEstimation\n",
        "\n",
        "mlae = MaximumLikelihoodAmplitudeEstimation(\n",
        "    evaluation_schedule=3, quantum_instance=quantum_instance  # log2 of the maximal Grover power\n",
        ")\n",
        "mlae_result = mlae.estimate(problem)\n",
        "\n",
        "print(\"Estimate:\", mlae_result.estimation)"
      ],
      "metadata": {
        "colab": {
          "base_uri": "https://localhost:8080/"
        },
        "id": "xtIEsbzFooGB",
        "outputId": "49f6bfa7-66bb-4e6c-dd98-4cfc515b489e"
      },
      "execution_count": 16,
      "outputs": [
        {
          "output_type": "stream",
          "name": "stdout",
          "text": [
            "Estimate: 0.20002237175368104\n"
          ]
        }
      ]
    },
    {
      "cell_type": "markdown",
      "source": [
        "## Faster Amplitude Estimation"
      ],
      "metadata": {
        "id": "TbHjbFjdoyPJ"
      }
    },
    {
      "cell_type": "code",
      "source": [
        "from qiskit.algorithms import FasterAmplitudeEstimation\n",
        "\n",
        "fae = FasterAmplitudeEstimation(\n",
        "    delta=0.01,  # target accuracy\n",
        "    maxiter=3,  # determines the maximal power of the Grover operator\n",
        "    quantum_instance=quantum_instance,\n",
        ")\n",
        "fae_result = fae.estimate(problem)\n",
        "\n",
        "print(\"Estimate:\", fae_result.estimation)"
      ],
      "metadata": {
        "colab": {
          "base_uri": "https://localhost:8080/"
        },
        "id": "LTgXeKPXouoY",
        "outputId": "00e47843-4c21-40f1-de0c-15ab4f64207c"
      },
      "execution_count": 17,
      "outputs": [
        {
          "output_type": "stream",
          "name": "stdout",
          "text": [
            "Estimate: 0.20000000000000018\n"
          ]
        },
        {
          "output_type": "stream",
          "name": "stderr",
          "text": [
            "/usr/local/lib/python3.7/dist-packages/qiskit/algorithms/amplitude_estimators/estimation_problem.py:195: UserWarning: Rescaling discards the Grover operator.\n",
            "  warnings.warn(\"Rescaling discards the Grover operator.\")\n"
          ]
        }
      ]
    },
    {
      "cell_type": "code",
      "source": [],
      "metadata": {
        "id": "_ssNYGOWo1ja"
      },
      "execution_count": null,
      "outputs": []
    }
  ]
}