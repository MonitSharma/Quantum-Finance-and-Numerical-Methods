{
  "nbformat": 4,
  "nbformat_minor": 0,
  "metadata": {
    "colab": {
      "provenance": [],
      "authorship_tag": "ABX9TyOWWiM4ezXJN9WKHpl2DVfz",
      "include_colab_link": true
    },
    "kernelspec": {
      "name": "python3",
      "display_name": "Python 3"
    },
    "language_info": {
      "name": "python"
    }
  },
  "cells": [
    {
      "cell_type": "markdown",
      "metadata": {
        "id": "view-in-github",
        "colab_type": "text"
      },
      "source": [
        "<a href=\"https://colab.research.google.com/github/MonitSharma/Quantum-Finance-and-Numerical-Methods/blob/main/NewsVendor_Problem_Classical.ipynb\" target=\"_parent\"><img src=\"https://colab.research.google.com/assets/colab-badge.svg\" alt=\"Open In Colab\"/></a>"
      ]
    },
    {
      "cell_type": "markdown",
      "source": [
        "# Newsvendor Models:\n",
        "\n",
        "## The problem statement\n",
        "\n",
        "How man NFL Replica Jerseys to order so that Profits are maximized?\n",
        "\n"
      ],
      "metadata": {
        "id": "dDA433OIk3A3"
      }
    },
    {
      "cell_type": "markdown",
      "source": [
        "## Motivation\n",
        "\n",
        "In 2002, Reebok had the sole rights to sell NFL football jerseys. Peak sales for the jerseys last about $8$ weeks, while the lead time for manufacturing is $12-16$ weeks. That means that if sales takes off in Week 1, it is already too late to order more jerseys. In short, Reebok had to commit to one order in advance, without knowing actual demand and without any ability to course correct after the order was placed."
      ],
      "metadata": {
        "id": "ZS_y9LrglH8U"
      }
    },
    {
      "cell_type": "code",
      "source": [
        "# basic imports\n",
        "import numpy as np\n",
        "from scipy.stats import norm"
      ],
      "metadata": {
        "id": "9HiDziuUt7qn"
      },
      "execution_count": 1,
      "outputs": []
    },
    {
      "cell_type": "code",
      "source": [
        "# discrete case (uniform distribution)\n",
        "widget_demand = np.array([1, 2, 3, 4, 5, 6, 7, 8])\n",
        "order = 5\n",
        "widget_prob = np.array([0.125, 0.125, 0.125, 0.125, 0.125, 0.125, 0.125, 0.125])"
      ],
      "metadata": {
        "id": "enQYXL06uKHw"
      },
      "execution_count": 2,
      "outputs": []
    },
    {
      "cell_type": "code",
      "source": [
        "# some helper function\n",
        "# # calculate expected demand\n",
        "def calculate_expected_demand(demand, prob):\n",
        "    exp_demand = np.sum(demand * prob)\n",
        "    return exp_demand\n",
        "\n",
        "exp_demand = calculate_expected_demand(widget_demand, widget_prob)\n",
        "print(exp_demand)"
      ],
      "metadata": {
        "colab": {
          "base_uri": "https://localhost:8080/"
        },
        "id": "rnTRJxf2uCu8",
        "outputId": "42c2157f-a83d-4fd8-a949-f5950d4123dc"
      },
      "execution_count": 4,
      "outputs": [
        {
          "output_type": "stream",
          "name": "stdout",
          "text": [
            "4.5\n"
          ]
        }
      ]
    },
    {
      "cell_type": "code",
      "source": [
        "# calculate expected sales\n",
        "def calculate_expected_sales(demand, prob, order_size):\n",
        "    exp_sales = [d * p if d <= order_size else order_size * p\n",
        "    for d, p in zip(demand, prob)]\n",
        "    return exp_sales\n",
        "\n",
        "exp_sales = calculate_expected_sales(widget_demand, widget_prob, 5)\n",
        "print(exp_sales)"
      ],
      "metadata": {
        "colab": {
          "base_uri": "https://localhost:8080/"
        },
        "id": "m27jYIaAuShN",
        "outputId": "95847c7d-141a-417e-a3d6-8ba7741e9d0d"
      },
      "execution_count": 6,
      "outputs": [
        {
          "output_type": "stream",
          "name": "stdout",
          "text": [
            "[0.125, 0.25, 0.375, 0.5, 0.625, 0.625, 0.625, 0.625]\n"
          ]
        }
      ]
    },
    {
      "cell_type": "code",
      "source": [
        "# calculate expected units short\n",
        "def calculate_expected_units(demand, prob, order_size):\n",
        "    exp_units = [(d - order_size)* p if d >= order_size else 0\n",
        "    for d, p in zip(demand, prob)]\n",
        "    return exp_units\n",
        "\n",
        "exp_units = calculate_expected_units(widget_demand, widget_prob, 5)\n",
        "print(exp_units)"
      ],
      "metadata": {
        "colab": {
          "base_uri": "https://localhost:8080/"
        },
        "id": "r39eg8tduZIj",
        "outputId": "7579b6c1-ad9f-4719-e0f9-8fe58f60e188"
      },
      "execution_count": 7,
      "outputs": [
        {
          "output_type": "stream",
          "name": "stdout",
          "text": [
            "[0, 0, 0, 0, 0.0, 0.125, 0.25, 0.375]\n"
          ]
        }
      ]
    },
    {
      "cell_type": "code",
      "source": [
        "# continuous case (normal distribution)\n",
        "q = 190\n",
        "mu = 160\n",
        "sigma = 45\n",
        "k = (q - mu)/sigma\n",
        "print(k)\n",
        "\n",
        "gk = norm.pdf(k, 0, 1) - (k * norm.sf(k))\n",
        "exp_us = gk * sigma\n",
        "print(exp_us)"
      ],
      "metadata": {
        "colab": {
          "base_uri": "https://localhost:8080/"
        },
        "id": "KkKLej9Ludn6",
        "outputId": "dd0f93eb-90ce-41f6-a987-1a147554ddcb"
      },
      "execution_count": 8,
      "outputs": [
        {
          "output_type": "stream",
          "name": "stdout",
          "text": [
            "0.6666666666666666\n",
            "6.800384122098165\n"
          ]
        }
      ]
    },
    {
      "cell_type": "markdown",
      "source": [
        "## What is the Ideal Order size?\n",
        "\n",
        "Our variable of interest is $Q$ the ideal order size that maximizes expected profits\n",
        "\n",
        "\n",
        "----\n",
        "\n",
        "In other words, how many football jerseys should I Order, if I know:\n",
        "\n",
        "\n",
        "<li> How many jerseys sold historically\n",
        "\n",
        "<li> That demand is stochastic ( i.e what demand materialized in the past may not show up again this year)\n",
        "\n",
        "<li> I cannot order extra jerseys  if it prove to be popular this year\n",
        "\n",
        "<li> That I still have to pay for every jersey I order , whether they are sold or not"
      ],
      "metadata": {
        "id": "fMGEwxogul4k"
      }
    },
    {
      "cell_type": "markdown",
      "source": [
        "## Dataset\n",
        "\n",
        "All prices are in USD `$`and history show that demand for the jerseys was normally distributed with a mean of $32,000$ and a standard deviation of $11,000$"
      ],
      "metadata": {
        "id": "KnLZCLFKl3h2"
      }
    },
    {
      "cell_type": "code",
      "source": [
        "unit_cost = 10.90\n",
        "unit_price = 24.00\n",
        "\n",
        "ave_demand = 32000\n",
        "std_demand = 11000"
      ],
      "metadata": {
        "id": "16ohVeLhwPty"
      },
      "execution_count": 9,
      "outputs": []
    },
    {
      "cell_type": "markdown",
      "source": [
        "## Profit : How is it calculated?\n",
        "\n",
        "First step is to find the profit. There are only two outcomes: either we over-order the jerseys and demand is less that what we ordered or we don't order enough and there's a shortage. Instead of expressing this in a nice mathematical equation, we will just use simple function to calvulate profits."
      ],
      "metadata": {
        "id": "RyE10bxWwZbi"
      }
    },
    {
      "cell_type": "code",
      "source": [
        "def calculate_profit(cost, price, order, demand):\n",
        "  # didnt ordered enough\n",
        "  if order < demand :\n",
        "    amount = order\n",
        "  # less demand than expected\n",
        "  else:\n",
        "    amount = demand\n",
        "    return (unit_price * amount) - (unit_cost * order)"
      ],
      "metadata": {
        "id": "yOn5cDpoxXwA"
      },
      "execution_count": 10,
      "outputs": []
    },
    {
      "cell_type": "markdown",
      "source": [
        "The two ways to find ideal order size involve a data table and marginal analyis"
      ],
      "metadata": {
        "id": "8Gsb0PS8ySMT"
      }
    },
    {
      "cell_type": "markdown",
      "source": [
        "## Model\n",
        "\n",
        "This is classic case of the newsvendor problem. Newsvendor models are characterized by probabilistic demand and single period planning horizon"
      ],
      "metadata": {
        "id": "ShZ0ZTVLmEhS"
      }
    },
    {
      "cell_type": "markdown",
      "source": [
        "## Solving Single Period Model : Data Table \n",
        "\n",
        "1. What is my Profit if I have a demand of at least $4,000$ jerseys and I ordered $25,000$ total?"
      ],
      "metadata": {
        "id": "YhzJQvoyy8aG"
      }
    },
    {
      "cell_type": "code",
      "execution_count": 12,
      "metadata": {
        "colab": {
          "base_uri": "https://localhost:8080/"
        },
        "id": "T_sATOSZkniP",
        "outputId": "ef4a77dd-5e48-4dad-aa02-a2d026e0b840"
      },
      "outputs": [
        {
          "output_type": "stream",
          "name": "stdout",
          "text": [
            "The Profit/(loss): -176500.0\n"
          ]
        }
      ],
      "source": [
        "my_profit = calculate_profit(10.90, 24, 25000,4000)\n",
        "print(\"The Profit/(loss): {}\".format(my_profit))"
      ]
    },
    {
      "cell_type": "markdown",
      "source": [
        "2. What is the probability that my demand is going to be $8000$ units or less?"
      ],
      "metadata": {
        "id": "LCTr4JIpzjsm"
      }
    },
    {
      "cell_type": "code",
      "source": [
        "# using scipy\n",
        "my_prob2 = norm.cdf(8000, ave_demand, std_demand)\n",
        "print(\"The probability: {}\".format(my_prob2))"
      ],
      "metadata": {
        "colab": {
          "base_uri": "https://localhost:8080/"
        },
        "id": "sMQYo_eE0YZa",
        "outputId": "a4cf1d6e-6697-4ffb-f756-ea82a2dc385d"
      },
      "execution_count": 13,
      "outputs": [
        {
          "output_type": "stream",
          "name": "stdout",
          "text": [
            "The probability: 0.014561477076192526\n"
          ]
        }
      ]
    },
    {
      "cell_type": "code",
      "source": [
        "# using simulation\n",
        "\n",
        "# let's take a million samples out of the Normal distribuiton\n",
        "\n",
        "samples = np.random.normal(ave_demand, std_demand, size = 1000000)\n",
        "\n",
        "# compute the fraction that are less than or equal to 8000 units \n",
        "\n",
        "my_prob = np.sum(samples <= 8000)/ len(samples)\n",
        "print(\"The probability with simulation: {}\".format(my_prob))\n"
      ],
      "metadata": {
        "colab": {
          "base_uri": "https://localhost:8080/"
        },
        "id": "AryhzcIl0ykq",
        "outputId": "4bd943a2-37c4-46eb-af1d-98e80f3bde0f"
      },
      "execution_count": 14,
      "outputs": [
        {
          "output_type": "stream",
          "name": "stdout",
          "text": [
            "The probability with simulation: 0.014516\n"
          ]
        }
      ]
    },
    {
      "cell_type": "markdown",
      "source": [
        "## Solving Single Period Model: Marginal Analysis\n",
        "\n",
        "For marginal analysis , we use two costs: excess cost and shortage costs. They cahnge depending on whether we are calculating costs for the wholesaler, the retailer or the channel. We will later extend these costs with salvage values and penalties for not meeting the demand."
      ],
      "metadata": {
        "id": "z_qZBtxH2T3N"
      }
    },
    {
      "cell_type": "markdown",
      "source": [
        "### Marginal Analysis for Retialer profit without salvage cost or penalty."
      ],
      "metadata": {
        "id": "lz2rsG8M2vIe"
      }
    },
    {
      "cell_type": "code",
      "source": [
        "# shortage cost for now\n",
        "shortage_cost = unit_price - unit_cost\n",
        "\n",
        "# excess cost for now\n",
        "excess_cost = unit_cost\n",
        "\n",
        "# the critical ratio captures the trade off\n",
        "\n",
        "critical_ratio = shortage_cost / (excess_cost + shortage_cost)"
      ],
      "metadata": {
        "id": "EztrAN2V25cB"
      },
      "execution_count": 15,
      "outputs": []
    },
    {
      "cell_type": "code",
      "source": [
        "# find Q where the probability of my demand being less or equal to order equals CR\n",
        "my_q1 = np.ceil(norm.ppf(critical_ratio, ave_demand, std_demand))\n",
        "print(\"The ideal order size: {}\".format(my_q1)) # should give 33,267"
      ],
      "metadata": {
        "colab": {
          "base_uri": "https://localhost:8080/"
        },
        "id": "V2hbcTY73h7v",
        "outputId": "73791c89-79a3-462a-8e3c-f4791fe0e9cb"
      },
      "execution_count": 16,
      "outputs": [
        {
          "output_type": "stream",
          "name": "stdout",
          "text": [
            "The ideal order size: 33267.0\n"
          ]
        }
      ]
    },
    {
      "cell_type": "markdown",
      "source": [
        "### Marginal Cost for retailer profit with salvage cost\n"
      ],
      "metadata": {
        "id": "MWk_Ropm3l_X"
      }
    },
    {
      "cell_type": "code",
      "source": [
        "# new variable\n",
        "salvage_price = 7.00\n",
        "\n",
        "# shortage cost for now\n",
        "shortage_cost = unit_price - unit_cost\n",
        "# excess cost for now\n",
        "excess_cost_salvage = unit_cost - salvage_price\n",
        "# the critical ratio captures the trade-off\n",
        "critical_ratio_salvage = shortage_cost / (excess_cost_salvage + shortage_cost)"
      ],
      "metadata": {
        "id": "WLK3IW4W3s5g"
      },
      "execution_count": 17,
      "outputs": []
    },
    {
      "cell_type": "code",
      "source": [
        "# find Q* where the probability of my demand being less or equal to order equals CR\n",
        "my_q2 = np.ceil(norm.ppf(critical_ratio_salvage, ave_demand, std_demand))\n",
        "print(\"The ideal order size with salvage value: {}\".format(my_q2)) # should give 40,149"
      ],
      "metadata": {
        "colab": {
          "base_uri": "https://localhost:8080/"
        },
        "id": "Z4JmhKc03v9P",
        "outputId": "c3a7e6ef-9460-42a5-bb7e-47ac677d0d8c"
      },
      "execution_count": 18,
      "outputs": [
        {
          "output_type": "stream",
          "name": "stdout",
          "text": [
            "The ideal order size with salvage value: 40149.0\n"
          ]
        }
      ]
    },
    {
      "cell_type": "markdown",
      "source": [
        "### Single Period Inventory Models: Calculating Expected Profitability\n",
        "\n",
        "\n",
        "## Expected Units Short"
      ],
      "metadata": {
        "id": "OmIylF7L4DDw"
      }
    },
    {
      "cell_type": "code",
      "source": [
        "def calculate_expected_units(order_size, mu, sigma):\n",
        "    k = (order_size - mu)/sigma\n",
        "    gk = norm.pdf(k, 0, 1) - (k * norm.sf(k))\n",
        "    exp_us = gk * sigma # this np.ceil needs to be fixed !!!!\n",
        "    return (exp_us)"
      ],
      "metadata": {
        "id": "WMqPmJLR4JYc"
      },
      "execution_count": 19,
      "outputs": []
    },
    {
      "cell_type": "markdown",
      "source": [
        "To calculate expected units short for normally distributed widgets ~N(160, 45) and a Q of 190:"
      ],
      "metadata": {
        "id": "iR9kCvIT4NSP"
      }
    },
    {
      "cell_type": "code",
      "source": [
        "example = calculate_expected_units(190, 160, 45)\n",
        "print(\"The expected unit for normal example is: {}.\".format(example))"
      ],
      "metadata": {
        "colab": {
          "base_uri": "https://localhost:8080/"
        },
        "id": "tW15ahJw4Que",
        "outputId": "ec23908b-e3ed-4389-c2c6-8d530046d9de"
      },
      "execution_count": 20,
      "outputs": [
        {
          "output_type": "stream",
          "name": "stdout",
          "text": [
            "The expected unit for normal example is: 6.800384122098165.\n"
          ]
        }
      ]
    },
    {
      "cell_type": "markdown",
      "source": [
        "## The NFL replica \n",
        "\n",
        "We are now looking at two cases. Case 1 has no salvage value and an ideal order size of 33,267. Case 2 has a salvage value of $7.00 and an ideal order size of 40,169. What is the expected profit for each case? In order to calculate that, we will need another function besides calculating expected units short: calculating expected profit."
      ],
      "metadata": {
        "id": "bjU5vbwd4UhR"
      }
    },
    {
      "cell_type": "code",
      "source": [
        "def calculate_expected_profits(price, salvage, cost, penalty, order_size, mu, sigma):\n",
        "    exp_us = calculate_expected_units(order_size, mu, sigma)\n",
        "    return (price-salvage)*mu - ((cost-salvage)*order_size) - ((price-salvage+penalty)*exp_us)\n"
      ],
      "metadata": {
        "id": "y1C8m4KE4avb"
      },
      "execution_count": 21,
      "outputs": []
    },
    {
      "cell_type": "code",
      "source": [
        "# solving CASE 1:\n",
        "salvage_value1 = 0\n",
        "exp_us1 = np.ceil(calculate_expected_units(my_q1, ave_demand, std_demand))\n",
        "my_exp_prof1 = np.ceil(calculate_expected_profits(unit_price, salvage_value1, \\\n",
        "                unit_cost, 0, my_q1, ave_demand, std_demand))\n",
        "print(\"The expected profit without salvage value: {}\".format(my_exp_prof1)) \n",
        "# $314,550 when using the standard normal table ($26 difference)"
      ],
      "metadata": {
        "colab": {
          "base_uri": "https://localhost:8080/"
        },
        "id": "nWDgpf0q4eT2",
        "outputId": "109ffd1d-372c-4acc-df61-ee52f8e93b6d"
      },
      "execution_count": 22,
      "outputs": [
        {
          "output_type": "stream",
          "name": "stdout",
          "text": [
            "The expected profit without salvage value: 314576.0\n"
          ]
        }
      ]
    },
    {
      "cell_type": "code",
      "source": [
        "# Solving CASE 2:\n",
        "salvage_value2 = 7.00\n",
        "exp_us2 = np.ceil(calculate_expected_units(my_q2, ave_demand, std_demand))\n",
        "my_exp_prof2 = np.ceil(calculate_expected_profits(unit_price, salvage_value2, \\\n",
        "                unit_cost, 0, my_q2, ave_demand, std_demand))\n",
        "print(\"The expected profit with salvage value: {}\".format(my_exp_prof2))\n",
        "# $362,514 when using the standard normal table ($14 difference)"
      ],
      "metadata": {
        "colab": {
          "base_uri": "https://localhost:8080/"
        },
        "id": "mIq0PiOK4g6d",
        "outputId": "aefa85ba-2317-4442-c019-abf2e6c288b7"
      },
      "execution_count": 23,
      "outputs": [
        {
          "output_type": "stream",
          "name": "stdout",
          "text": [
            "The expected profit with salvage value: 362500.0\n"
          ]
        }
      ]
    },
    {
      "cell_type": "markdown",
      "source": [
        "## Extending the Case with Optimization-Based Procurement\n",
        "\n",
        "\n",
        "Taking this case study further, what would our ideal order size be if we created some sort of risk-sharing contract based on channel profit maximization?  First, let's return to the concepts of excess and shortage costs.\n",
        "\n",
        "For the manufacturer, excess costs or shortage costs do not exist because they take no risk. The higher the order size, the bigger the manufacturer's profit. (Profit is a linear equation that goes up with the profit margin for every unit of Q).\n",
        "\n",
        "For the retailer, excess and shortage costs are the same as you see above:"
      ],
      "metadata": {
        "id": "suc6SDT14j3T"
      }
    },
    {
      "cell_type": "code",
      "source": [
        "# repeating from marginal cost with salvage\n",
        "\n",
        "# shortage cost: price - cost\n",
        "shortage_cost = unit_price - unit_cost\n",
        "# excess cost: cost - salvage\n",
        "excess_cost_salvage = unit_cost - salvage_price\n",
        "# the critical ratio captures the trade-off\n",
        "critical_ratio_salvage = shortage_cost / (excess_cost_salvage + shortage_cost)\n",
        "print(\"The ideal order size with salvage value is still: {}\".format(my_q2)) # should give 40,149\n",
        "print(\"The expected profit for the retailer with salvage value is: {}\".format(my_exp_prof2))\n"
      ],
      "metadata": {
        "colab": {
          "base_uri": "https://localhost:8080/"
        },
        "id": "eBjnqIcq4sJ7",
        "outputId": "16023c60-f752-42b0-ae0d-e606cfd26a39"
      },
      "execution_count": 24,
      "outputs": [
        {
          "output_type": "stream",
          "name": "stdout",
          "text": [
            "The ideal order size with salvage value is still: 40149.0\n",
            "The expected profit for the retailer with salvage value is: 362500.0\n"
          ]
        }
      ]
    },
    {
      "cell_type": "markdown",
      "source": [
        "At this level, the channel makes the combination of the retailer's profit and the manufacturer's profit combined:"
      ],
      "metadata": {
        "id": "J79dTZBq4vyU"
      }
    },
    {
      "cell_type": "code",
      "source": [
        "# new variable: the manufacturer's cost\n",
        "base_cost = 2.90\n",
        "\n",
        "man_exp_prof1 = my_q2 * (unit_cost - base_cost)\n",
        "print(\"The ideal order size is: {}\".format(my_q2))\n",
        "print(\"The retailer's profit is: {}\".format(my_exp_prof2))\n",
        "print(\"The manufacturer's profit is: {}\".format(man_exp_prof1))\n",
        "print(\"Total channel profit is: {}\".format(my_exp_prof2 + man_exp_prof1))"
      ],
      "metadata": {
        "colab": {
          "base_uri": "https://localhost:8080/"
        },
        "id": "-aYKCDw-4zQg",
        "outputId": "2341796e-8d93-46e4-f5ef-2e2893e9acc0"
      },
      "execution_count": 25,
      "outputs": [
        {
          "output_type": "stream",
          "name": "stdout",
          "text": [
            "The ideal order size is: 40149.0\n",
            "The retailer's profit is: 362500.0\n",
            "The manufacturer's profit is: 321192.0\n",
            "Total channel profit is: 683692.0\n"
          ]
        }
      ]
    },
    {
      "cell_type": "markdown",
      "source": [
        "For the whole channel, the shortage cost is the price that product sells for minus the lowest cost in the channel (the manufacturer's cost). The excess cost is still the same."
      ],
      "metadata": {
        "id": "hIQC5RV843Ef"
      }
    },
    {
      "cell_type": "code",
      "source": [
        "# shortage cost for now\n",
        "shortage_cost_channel = unit_price - base_cost\n",
        "# excess cost for now\n",
        "excess_cost_salvage = unit_cost - salvage_price\n",
        "# the critical ratio captures the trade-off\n",
        "critical_ratio_salvage_channel = shortage_cost_channel / (excess_cost_salvage + shortage_cost_channel)\n",
        "\n",
        "# finding ideal order size\n",
        "my_q3 = np.ceil(norm.ppf(critical_ratio_salvage_channel, ave_demand, std_demand))\n",
        "print(\"The ideal order size with salvage value for the whole channel is: {}\".format(my_q3))\n",
        "\n",
        "# finding expected profits for the channel\n",
        "my_exp_prof3 = np.ceil(calculate_expected_profits(unit_price, salvage_value2, \\\n",
        "                unit_cost, 0, my_q3, ave_demand, std_demand))\n",
        "print(\"The expected profit of the retailer is lower: {}\".format(my_exp_prof3))\n",
        "\n",
        "# finding manufacturer profits at this level\n",
        "man_exp_prof2 = my_q3 * (unit_cost - base_cost)\n",
        "print(\"Total channel profit is: {}\".format(man_exp_prof2+my_exp_prof3))"
      ],
      "metadata": {
        "colab": {
          "base_uri": "https://localhost:8080/"
        },
        "id": "5FllJ4tP47gL",
        "outputId": "28a5020f-ee59-4deb-9118-8ae61fdfb54d"
      },
      "execution_count": 26,
      "outputs": [
        {
          "output_type": "stream",
          "name": "stdout",
          "text": [
            "The ideal order size with salvage value for the whole channel is: 43122.0\n",
            "The expected profit of the retailer is lower: 360571.0\n",
            "Total channel profit is: 705547.0\n"
          ]
        }
      ]
    },
    {
      "cell_type": "markdown",
      "source": [
        "That's $21,855 higher than before! However, the retailer now makes less of a profit. So how can the manufacturer convince the retailer to move towards this higher order size? By proposing one of the following:\n",
        "\n",
        "buyback contract;\n",
        "revenue sharing contract; or\n",
        "options.\n",
        "We will only explore buyback contracts here -- \n",
        "\n",
        "To find the ideal buyback contract price, use the formula below. The ideal order size and expected channel profit will not change, however, the profit will be split differently between the retailer and the manufacturer, resulting in $75,541 higher profit for the retailer!"
      ],
      "metadata": {
        "id": "je2Utlfv4_4W"
      }
    },
    {
      "cell_type": "code",
      "source": [
        "# buyback contract\n",
        "buyback_price = (((unit_price - salvage_price) / (unit_price - base_cost)) * unit_cost) \\\n",
        "                - ((unit_price*(base_cost - salvage_price)) / (unit_price - base_cost))\n",
        "\n",
        "my_exp_prof4 = np.ceil(calculate_expected_profits(unit_price, buyback_price, \\\n",
        "                unit_cost, 0, my_q3, ave_demand, std_demand))\n",
        "\n",
        "print(\"The optimal buyback price is {}\".format(round(buyback_price, 2)))\n",
        "print(\"The ideal order size with salvage value for the whole channel is: {}\".format(my_q3))\n",
        "print(\"Total channel profit is: {}\".format(man_exp_prof2+my_exp_prof4))\n",
        "print(\"The retailer's profit is now: {}\".format(my_exp_prof4)) # previously it was $362,500\n",
        "print(\"The manufacturer's profit is now: {}\".format(man_exp_prof2)) # previously it was $321,192\n"
      ],
      "metadata": {
        "colab": {
          "base_uri": "https://localhost:8080/"
        },
        "id": "sEbKWGje5Evf",
        "outputId": "137490af-b629-484c-ebb9-8518409a06c8"
      },
      "execution_count": 27,
      "outputs": [
        {
          "output_type": "stream",
          "name": "stdout",
          "text": [
            "The optimal buyback price is 13.45\n",
            "The ideal order size with salvage value for the whole channel is: 43122.0\n",
            "Total channel profit is: 783017.0\n",
            "The retailer's profit is now: 438041.0\n",
            "The manufacturer's profit is now: 344976.0\n"
          ]
        }
      ]
    },
    {
      "cell_type": "markdown",
      "source": [
        "This is win-win! Our retailer is now making $75,541 and our manufacturer is making $23,784 more in profits."
      ],
      "metadata": {
        "id": "l48Q3rtk5SfL"
      }
    },
    {
      "cell_type": "markdown",
      "source": [
        "## Conclusion\n",
        "\n",
        "By using a risk-sharing buyback contract, the ideal order was increased from $40,149$ to $43,122$  resulting in a profit increase of $75,541$ for the retailer and $23,784$ for the manufacturer."
      ],
      "metadata": {
        "id": "KP_YqHXktRaS"
      }
    }
  ]
}